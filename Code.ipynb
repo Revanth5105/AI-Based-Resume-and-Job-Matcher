{
  "nbformat": 4,
  "nbformat_minor": 0,
  "metadata": {
    "colab": {
      "provenance": []
    },
    "kernelspec": {
      "name": "python3",
      "display_name": "Python 3"
    },
    "language_info": {
      "name": "python"
    }
  },
  "cells": [
    {
      "cell_type": "code",
      "execution_count": null,
      "metadata": {
        "id": "8pbljPLGzWbQ",
        "colab": {
          "base_uri": "https://localhost:8080/"
        },
        "outputId": "a7c96ef6-79f7-413d-ada1-43edba63acb2"
      },
      "outputs": [
        {
          "output_type": "stream",
          "name": "stdout",
          "text": [
            "Requirement already satisfied: gensim in /usr/local/lib/python3.11/dist-packages (4.3.3)\n",
            "Requirement already satisfied: numpy<2.0,>=1.18.5 in /usr/local/lib/python3.11/dist-packages (from gensim) (1.26.4)\n",
            "Requirement already satisfied: scipy<1.14.0,>=1.7.0 in /usr/local/lib/python3.11/dist-packages (from gensim) (1.13.1)\n",
            "Requirement already satisfied: smart-open>=1.8.1 in /usr/local/lib/python3.11/dist-packages (from gensim) (7.1.0)\n",
            "Requirement already satisfied: wrapt in /usr/local/lib/python3.11/dist-packages (from smart-open>=1.8.1->gensim) (1.17.0)\n",
            "Requirement already satisfied: nltk in /usr/local/lib/python3.11/dist-packages (3.9.1)\n",
            "Requirement already satisfied: click in /usr/local/lib/python3.11/dist-packages (from nltk) (8.1.8)\n",
            "Requirement already satisfied: joblib in /usr/local/lib/python3.11/dist-packages (from nltk) (1.4.2)\n",
            "Requirement already satisfied: regex>=2021.8.3 in /usr/local/lib/python3.11/dist-packages (from nltk) (2024.11.6)\n",
            "Requirement already satisfied: tqdm in /usr/local/lib/python3.11/dist-packages (from nltk) (4.67.1)\n",
            "Requirement already satisfied: pandas in /usr/local/lib/python3.11/dist-packages (2.2.2)\n",
            "Requirement already satisfied: numpy>=1.23.2 in /usr/local/lib/python3.11/dist-packages (from pandas) (1.26.4)\n",
            "Requirement already satisfied: python-dateutil>=2.8.2 in /usr/local/lib/python3.11/dist-packages (from pandas) (2.8.2)\n",
            "Requirement already satisfied: pytz>=2020.1 in /usr/local/lib/python3.11/dist-packages (from pandas) (2024.2)\n",
            "Requirement already satisfied: tzdata>=2022.7 in /usr/local/lib/python3.11/dist-packages (from pandas) (2024.2)\n",
            "Requirement already satisfied: six>=1.5 in /usr/local/lib/python3.11/dist-packages (from python-dateutil>=2.8.2->pandas) (1.17.0)\n",
            "Requirement already satisfied: numpy in /usr/local/lib/python3.11/dist-packages (1.26.4)\n",
            "Requirement already satisfied: requests in /usr/local/lib/python3.11/dist-packages (2.32.3)\n",
            "Requirement already satisfied: charset-normalizer<4,>=2 in /usr/local/lib/python3.11/dist-packages (from requests) (3.4.1)\n",
            "Requirement already satisfied: idna<4,>=2.5 in /usr/local/lib/python3.11/dist-packages (from requests) (3.10)\n",
            "Requirement already satisfied: urllib3<3,>=1.21.1 in /usr/local/lib/python3.11/dist-packages (from requests) (2.3.0)\n",
            "Requirement already satisfied: certifi>=2017.4.17 in /usr/local/lib/python3.11/dist-packages (from requests) (2024.12.14)\n",
            "Collecting PyPDF2\n",
            "  Downloading pypdf2-3.0.1-py3-none-any.whl.metadata (6.8 kB)\n",
            "Downloading pypdf2-3.0.1-py3-none-any.whl (232 kB)\n",
            "\u001b[2K   \u001b[90m━━━━━━━━━━━━━━━━━━━━━━━━━━━━━━━━━━━━━━━━\u001b[0m \u001b[32m232.6/232.6 kB\u001b[0m \u001b[31m3.8 MB/s\u001b[0m eta \u001b[36m0:00:00\u001b[0m\n",
            "\u001b[?25hInstalling collected packages: PyPDF2\n",
            "Successfully installed PyPDF2-3.0.1\n"
          ]
        }
      ],
      "source": [
        "## Install all dependencies\n",
        "!pip install gensim\n",
        "!pip install nltk\n",
        "!pip install pandas\n",
        "!pip install numpy\n",
        "!pip install requests\n",
        "!pip install PyPDF2"
      ]
    },
    {
      "cell_type": "code",
      "source": [
        "import nltk\n",
        "nltk.download('punkt_tab')"
      ],
      "metadata": {
        "id": "-Fg4Yr4CzbGW",
        "colab": {
          "base_uri": "https://localhost:8080/"
        },
        "outputId": "654b8516-e0f2-4af5-e17b-02b7a9771a12"
      },
      "execution_count": null,
      "outputs": [
        {
          "output_type": "stream",
          "name": "stderr",
          "text": [
            "[nltk_data] Downloading package punkt_tab to /root/nltk_data...\n",
            "[nltk_data]   Unzipping tokenizers/punkt_tab.zip.\n"
          ]
        },
        {
          "output_type": "execute_result",
          "data": {
            "text/plain": [
              "True"
            ]
          },
          "metadata": {},
          "execution_count": 2
        }
      ]
    },
    {
      "cell_type": "code",
      "source": [
        "# Import libraries\n",
        "from gensim.models.doc2vec import Doc2Vec, TaggedDocument\n",
        "from nltk.tokenize import word_tokenize\n",
        "from numpy.linalg import norm\n",
        "from termcolor import colored\n",
        "import pandas as pd\n",
        "import numpy as np\n",
        "import requests\n",
        "import PyPDF2\n",
        "import re\n",
        "import plotly.graph_objects as go\n",
        "import nltk\n",
        "nltk.download('punkt')\n",
        "# Download 'punkt_tab' data package\n",
        "nltk.download('punkt_tab')\n",
        "import pandas as pd"
      ],
      "metadata": {
        "id": "O7dERgTIzbEG",
        "colab": {
          "base_uri": "https://localhost:8080/"
        },
        "outputId": "b8891d4b-99e9-445e-a775-12efc187aa2e"
      },
      "execution_count": null,
      "outputs": [
        {
          "output_type": "stream",
          "name": "stderr",
          "text": [
            "[nltk_data] Downloading package punkt to /root/nltk_data...\n",
            "[nltk_data]   Unzipping tokenizers/punkt.zip.\n",
            "[nltk_data] Downloading package punkt_tab to /root/nltk_data...\n",
            "[nltk_data]   Package punkt_tab is already up-to-date!\n"
          ]
        }
      ]
    },
    {
      "cell_type": "code",
      "source": [
        "\n",
        "path='/content/Jobs_NYC_Postings.csv'"
      ],
      "metadata": {
        "id": "5k5fOmFozbB_"
      },
      "execution_count": null,
      "outputs": []
    },
    {
      "cell_type": "code",
      "source": [
        "# Load data, handling potential errors\n",
        "# The 'error_bad_lines' argument is deprecated in newer versions of pandas.\n",
        "# Use 'on_bad_lines' instead for similar functionality.\n",
        "try:\n",
        "    df = pd.read_csv(path, quoting=3, on_bad_lines='skip')  # Skip bad lines\n",
        "except pd.errors.ParserError as e:\n",
        "    print(f\"Error reading CSV: {e}\")\n",
        "    # Handle the error appropriately, e.g., try to fix the CSV or skip it\n",
        "    df = pd.DataFrame()  # Create an empty DataFrame if reading fails\n",
        "\n",
        "# Check data\n",
        "df.head()"
      ],
      "metadata": {
        "id": "7-YBqsf2za-z",
        "colab": {
          "base_uri": "https://localhost:8080/",
          "height": 1000
        },
        "outputId": "9d58a5cf-738f-4581-96cb-f1306cd53ac7"
      },
      "execution_count": null,
      "outputs": [
        {
          "output_type": "execute_result",
          "data": {
            "text/plain": [
              "                                                                                                                                                                                                                                                                                                                                                                                                                                                                                                                                                                                                                                                                                                                                                                                                                                                                                                                                                                                                                                                                                                                                                                     Job ID  \\\n",
              "689000 OFFICE OF THE COMPTROLLER     External 1 Legal Intern - Law and Adjustment SUMMER GRADUATE INTERN      Non-Competitive-5 10232 00 Legal Affairs                P             Student         19 21                        Hourly \"1 Centre St.  N.Y.\" Law and Adjustment             \"NOTE: All applicants must be current matricula...  an independently elected official                 is the Chief Financial Officer of the City of N... in order to secure a thriving future for all Ne... equitable                                           and resilient city. We utilize the tools and r...  investing strategically              living up to its promises and obligations          and keeping a sharp eye on the long-term chall...  the Comptroller                                    through the Bureau of Law and Adjustment (BLA)    negotiates and approves all monetary settlement... when in the best interest of the city              settles pre-litigation claims for and against t... BLA protects the fiscal interest of the City wh... and in accordance with applicable laws. BLA fur...                                    evaluation   \n",
              "635466 DEPARTMENT OF TRANSPORTATION  Internal 1 BOB- Assistant Civil Engineer     ASSISTANT CIVIL ENGINEER    Competitive-1     20210 00 \"Engineering                  Architecture  & Planning\"    F  Experienced (non-manager) 62370  93587         Annual 55 Water St Ny Ny              East River & Movable                               \"Civil Service Title- Assistant Civil Engineer ... OR REACHABLE ON EXAM #5015.     PLEASE ATTACH Y... investigations or studies related to engineerin... write specifications and prepare estimates. The...  checking and certifying the installation of ma...  NY                                  NY\"                                                1.  A baccalaureate degree from an accredited c... At least one to three years of Bridge related e... \"The City of New York is an inclusive equal opp... including but not limited to an individual's sex   race                                               color                                              ethnicity                                          national origin                                                                              age   \n",
              "687673 DEPT OF DESIGN & CONSTRUCTION External 1 Project Manager                   ASSISTANT ARCHITECT         Competitive-1     21210 00 \"Engineering                  Architecture  & Planning\"    F  Experienced (non-manager) 64242  73878         Annual 30-30 Thomson Ave L I City Qns PUB BLDGS/EXEC                                     \"Hours: Full-Time â 35 Hours Work Location: 3... LIC                                                NY                                                 11101  All interested candidates are welcome to...  the selected Project Manager assist with inter...  Chapter 11 of the NYC Building Code  as well as other applicable federal                state                                              and local statutes and regulations that pertai...  participating in interagency meetings with des... assisting with staff development                   and conducting weekly construction site visits ... extensions                                         or status changes                                  including STEM/OPT visas. Applicants are respon...   at the time of application.  All applicants   \n",
              "541356 BRONX DISTRICT ATTORNEY       External 6 Senior Rackets Investigator       SENIOR RACKETS INVESTIGATOR Non-Competitive-5 30831 00 \"Legal Affairs Public Safety  Inspections   & Enforcement\" F  Experienced (non-manager) 70877  70877         Annual 198 E161St Street Bronx N.Y.   Detective Investigators                            \"The Bronx District Attorneyâs Office is seek... with latitude for independent judgment and init... the Senior Investigator is responsible for cond... as a police officer                                 in the NYS DCJS Police registry. This position...  Audio equipment                      plate reader                                       LoJack tracking device                             mobile digital terminals                           and surveillance photographic equipment)  Prep... transport                                          and protect witnesses  Assist and mentor Racket... suggest work methods; monitor progress and prep... weekends                                           and holidays as necessary.  Must pass a psychol...                                     robberies   \n",
              "565643 DEPARTMENT OF TRANSPORTATION  Internal 3 ASSISTANT CIVIL ENGINEER          ASSISTANT CIVIL ENGINEER    Competitive-1     20210 00 \"Engineering                  Architecture  & Planning\"    F  Experienced (non-manager) 57078  85646         Annual 55 Water St Ny Ny              Bridges Roadways                                   \"The Assistant Civil Engineer will perform work... investigations or studies related to engineerin... write specifications and prepare estimates. The... checking and certifying the installation of mat... 1.  A baccalaureate degree from an accredited c... NaN                                  \"The City of New York is an inclusive equal opp...  including but not limited to an individual's sex   race                                               color                                             ethnicity                                          national origin                                    age                                                religion                                           disability                                                                    sexual orientation   \n",
              "\n",
              "                                                                                                                                                                                                                                                                                                                                                                                                                                                                                                                                                                                                                                                                                                                                                                                                                                                                                                                                                                                                                                                                                                                                                                          Agency  \\\n",
              "689000 OFFICE OF THE COMPTROLLER     External 1 Legal Intern - Law and Adjustment SUMMER GRADUATE INTERN      Non-Competitive-5 10232 00 Legal Affairs                P             Student         19 21                        Hourly \"1 Centre St.  N.Y.\" Law and Adjustment             \"NOTE: All applicants must be current matricula...  an independently elected official                 is the Chief Financial Officer of the City of N... in order to secure a thriving future for all Ne... equitable                                           and resilient city. We utilize the tools and r...  investing strategically              living up to its promises and obligations          and keeping a sharp eye on the long-term chall...  the Comptroller                                    through the Bureau of Law and Adjustment (BLA)    negotiates and approves all monetary settlement... when in the best interest of the city              settles pre-litigation claims for and against t... BLA protects the fiscal interest of the City wh... and in accordance with applicable laws. BLA fur...   and authorization of requests to settle litig...   \n",
              "635466 DEPARTMENT OF TRANSPORTATION  Internal 1 BOB- Assistant Civil Engineer     ASSISTANT CIVIL ENGINEER    Competitive-1     20210 00 \"Engineering                  Architecture  & Planning\"    F  Experienced (non-manager) 62370  93587         Annual 55 Water St Ny Ny              East River & Movable                               \"Civil Service Title- Assistant Civil Engineer ... OR REACHABLE ON EXAM #5015.     PLEASE ATTACH Y... investigations or studies related to engineerin... write specifications and prepare estimates. The...  checking and certifying the installation of ma...  NY                                  NY\"                                                1.  A baccalaureate degree from an accredited c... At least one to three years of Bridge related e... \"The City of New York is an inclusive equal opp... including but not limited to an individual's sex   race                                               color                                              ethnicity                                          national origin                                                                              religion   \n",
              "687673 DEPT OF DESIGN & CONSTRUCTION External 1 Project Manager                   ASSISTANT ARCHITECT         Competitive-1     21210 00 \"Engineering                  Architecture  & Planning\"    F  Experienced (non-manager) 64242  73878         Annual 30-30 Thomson Ave L I City Qns PUB BLDGS/EXEC                                     \"Hours: Full-Time â 35 Hours Work Location: 3... LIC                                                NY                                                 11101  All interested candidates are welcome to...  the selected Project Manager assist with inter...  Chapter 11 of the NYC Building Code  as well as other applicable federal                state                                              and local statutes and regulations that pertai...  participating in interagency meetings with des... assisting with staff development                   and conducting weekly construction site visits ... extensions                                         or status changes                                  including STEM/OPT visas. Applicants are respon...   including City Employees: Please go to NYC Go...   \n",
              "541356 BRONX DISTRICT ATTORNEY       External 6 Senior Rackets Investigator       SENIOR RACKETS INVESTIGATOR Non-Competitive-5 30831 00 \"Legal Affairs Public Safety  Inspections   & Enforcement\" F  Experienced (non-manager) 70877  70877         Annual 198 E161St Street Bronx N.Y.   Detective Investigators                            \"The Bronx District Attorneyâs Office is seek... with latitude for independent judgment and init... the Senior Investigator is responsible for cond... as a police officer                                 in the NYS DCJS Police registry. This position...  Audio equipment                      plate reader                                       LoJack tracking device                             mobile digital terminals                           and surveillance photographic equipment)  Prep... transport                                          and protect witnesses  Assist and mentor Racket... suggest work methods; monitor progress and prep... weekends                                           and holidays as necessary.  Must pass a psychol...                                      grand larceny   \n",
              "565643 DEPARTMENT OF TRANSPORTATION  Internal 3 ASSISTANT CIVIL ENGINEER          ASSISTANT CIVIL ENGINEER    Competitive-1     20210 00 \"Engineering                  Architecture  & Planning\"    F  Experienced (non-manager) 57078  85646         Annual 55 Water St Ny Ny              Bridges Roadways                                   \"The Assistant Civil Engineer will perform work... investigations or studies related to engineerin... write specifications and prepare estimates. The... checking and certifying the installation of mat... 1.  A baccalaureate degree from an accredited c... NaN                                  \"The City of New York is an inclusive equal opp...  including but not limited to an individual's sex   race                                               color                                             ethnicity                                          national origin                                    age                                                religion                                           disability                                                                             veteran status   \n",
              "\n",
              "                                                                                                                                                                                                                                                                                                                                                                                                                                                                                                                                                                                                                                                                                                                                                                                                                                                                                                                                                                                                                                                                                                                                              Posting Type  \\\n",
              "689000 OFFICE OF THE COMPTROLLER     External 1 Legal Intern - Law and Adjustment SUMMER GRADUATE INTERN      Non-Competitive-5 10232 00 Legal Affairs                P             Student         19 21                        Hourly \"1 Centre St.  N.Y.\" Law and Adjustment             \"NOTE: All applicants must be current matricula...  an independently elected official                 is the Chief Financial Officer of the City of N... in order to secure a thriving future for all Ne... equitable                                           and resilient city. We utilize the tools and r...  investing strategically              living up to its promises and obligations          and keeping a sharp eye on the long-term chall...  the Comptroller                                    through the Bureau of Law and Adjustment (BLA)    negotiates and approves all monetary settlement... when in the best interest of the city              settles pre-litigation claims for and against t... BLA protects the fiscal interest of the City wh... and in accordance with applicable laws. BLA fur...            rooting out fraud   \n",
              "635466 DEPARTMENT OF TRANSPORTATION  Internal 1 BOB- Assistant Civil Engineer     ASSISTANT CIVIL ENGINEER    Competitive-1     20210 00 \"Engineering                  Architecture  & Planning\"    F  Experienced (non-manager) 62370  93587         Annual 55 Water St Ny Ny              East River & Movable                               \"Civil Service Title- Assistant Civil Engineer ... OR REACHABLE ON EXAM #5015.     PLEASE ATTACH Y... investigations or studies related to engineerin... write specifications and prepare estimates. The...  checking and certifying the installation of ma...  NY                                  NY\"                                                1.  A baccalaureate degree from an accredited c... At least one to three years of Bridge related e... \"The City of New York is an inclusive equal opp... including but not limited to an individual's sex   race                                               color                                              ethnicity                                          national origin                                                      disability   \n",
              "687673 DEPT OF DESIGN & CONSTRUCTION External 1 Project Manager                   ASSISTANT ARCHITECT         Competitive-1     21210 00 \"Engineering                  Architecture  & Planning\"    F  Experienced (non-manager) 64242  73878         Annual 30-30 Thomson Ave L I City Qns PUB BLDGS/EXEC                                     \"Hours: Full-Time â 35 Hours Work Location: 3... LIC                                                NY                                                 11101  All interested candidates are welcome to...  the selected Project Manager assist with inter...  Chapter 11 of the NYC Building Code  as well as other applicable federal                state                                              and local statutes and regulations that pertai...  participating in interagency meetings with des... assisting with staff development                   and conducting weekly construction site visits ... extensions                                         or status changes                                  including STEM/OPT visas. Applicants are respon...   go to Search for Open Jobs   \n",
              "541356 BRONX DISTRICT ATTORNEY       External 6 Senior Rackets Investigator       SENIOR RACKETS INVESTIGATOR Non-Competitive-5 30831 00 \"Legal Affairs Public Safety  Inspections   & Enforcement\" F  Experienced (non-manager) 70877  70877         Annual 198 E161St Street Bronx N.Y.   Detective Investigators                            \"The Bronx District Attorneyâs Office is seek... with latitude for independent judgment and init... the Senior Investigator is responsible for cond... as a police officer                                 in the NYS DCJS Police registry. This position...  Audio equipment                      plate reader                                       LoJack tracking device                             mobile digital terminals                           and surveillance photographic equipment)  Prep... transport                                          and protect witnesses  Assist and mentor Racket... suggest work methods; monitor progress and prep... weekends                                           and holidays as necessary.  Must pass a psychol...             financial crimes   \n",
              "565643 DEPARTMENT OF TRANSPORTATION  Internal 3 ASSISTANT CIVIL ENGINEER          ASSISTANT CIVIL ENGINEER    Competitive-1     20210 00 \"Engineering                  Architecture  & Planning\"    F  Experienced (non-manager) 57078  85646         Annual 55 Water St Ny Ny              Bridges Roadways                                   \"The Assistant Civil Engineer will perform work... investigations or studies related to engineerin... write specifications and prepare estimates. The... checking and certifying the installation of mat... 1.  A baccalaureate degree from an accredited c... NaN                                  \"The City of New York is an inclusive equal opp...  including but not limited to an individual's sex   race                                               color                                             ethnicity                                          national origin                                    age                                                religion                                           disability                                                      gender identity   \n",
              "\n",
              "                                                                                                                                                                                                                                                                                                                                                                                                                                                                                                                                                                                                                                                                                                                                                                                                                                                                                                                                                                                                                                                                                                                                                                  # Of Positions  \\\n",
              "689000 OFFICE OF THE COMPTROLLER     External 1 Legal Intern - Law and Adjustment SUMMER GRADUATE INTERN      Non-Competitive-5 10232 00 Legal Affairs                P             Student         19 21                        Hourly \"1 Centre St.  N.Y.\" Law and Adjustment             \"NOTE: All applicants must be current matricula...  an independently elected official                 is the Chief Financial Officer of the City of N... in order to secure a thriving future for all Ne... equitable                                           and resilient city. We utilize the tools and r...  investing strategically              living up to its promises and obligations          and keeping a sharp eye on the long-term chall...  the Comptroller                                    through the Bureau of Law and Adjustment (BLA)    negotiates and approves all monetary settlement... when in the best interest of the city              settles pre-litigation claims for and against t... BLA protects the fiscal interest of the City wh... and in accordance with applicable laws. BLA fur...                             and identifying trends   \n",
              "635466 DEPARTMENT OF TRANSPORTATION  Internal 1 BOB- Assistant Civil Engineer     ASSISTANT CIVIL ENGINEER    Competitive-1     20210 00 \"Engineering                  Architecture  & Planning\"    F  Experienced (non-manager) 62370  93587         Annual 55 Water St Ny Ny              East River & Movable                               \"Civil Service Title- Assistant Civil Engineer ... OR REACHABLE ON EXAM #5015.     PLEASE ATTACH Y... investigations or studies related to engineerin... write specifications and prepare estimates. The...  checking and certifying the installation of ma...  NY                                  NY\"                                                1.  A baccalaureate degree from an accredited c... At least one to three years of Bridge related e... \"The City of New York is an inclusive equal opp... including but not limited to an individual's sex   race                                               color                                              ethnicity                                          national origin                                                                    sexual orientation   \n",
              "687673 DEPT OF DESIGN & CONSTRUCTION External 1 Project Manager                   ASSISTANT ARCHITECT         Competitive-1     21210 00 \"Engineering                  Architecture  & Planning\"    F  Experienced (non-manager) 64242  73878         Annual 30-30 Thomson Ave L I City Qns PUB BLDGS/EXEC                                     \"Hours: Full-Time â 35 Hours Work Location: 3... LIC                                                NY                                                 11101  All interested candidates are welcome to...  the selected Project Manager assist with inter...  Chapter 11 of the NYC Building Code  as well as other applicable federal                state                                              and local statutes and regulations that pertai...  participating in interagency meetings with des... assisting with staff development                   and conducting weekly construction site visits ... extensions                                         or status changes                                  including STEM/OPT visas. Applicants are respon...   and type in the Job ID # listed above. Submit...   \n",
              "541356 BRONX DISTRICT ATTORNEY       External 6 Senior Rackets Investigator       SENIOR RACKETS INVESTIGATOR Non-Competitive-5 30831 00 \"Legal Affairs Public Safety  Inspections   & Enforcement\" F  Experienced (non-manager) 70877  70877         Annual 198 E161St Street Bronx N.Y.   Detective Investigators                            \"The Bronx District Attorneyâs Office is seek... with latitude for independent judgment and init... the Senior Investigator is responsible for cond... as a police officer                                 in the NYS DCJS Police registry. This position...  Audio equipment                      plate reader                                       LoJack tracking device                             mobile digital terminals                           and surveillance photographic equipment)  Prep... transport                                          and protect witnesses  Assist and mentor Racket... suggest work methods; monitor progress and prep... weekends                                           and holidays as necessary.  Must pass a psychol...                                              fraud   \n",
              "565643 DEPARTMENT OF TRANSPORTATION  Internal 3 ASSISTANT CIVIL ENGINEER          ASSISTANT CIVIL ENGINEER    Competitive-1     20210 00 \"Engineering                  Architecture  & Planning\"    F  Experienced (non-manager) 57078  85646         Annual 55 Water St Ny Ny              Bridges Roadways                                   \"The Assistant Civil Engineer will perform work... investigations or studies related to engineerin... write specifications and prepare estimates. The... checking and certifying the installation of mat... 1.  A baccalaureate degree from an accredited c... NaN                                  \"The City of New York is an inclusive equal opp...  including but not limited to an individual's sex   race                                               color                                             ethnicity                                          national origin                                    age                                                religion                                           disability                                           or pregnancy.  As a current or prospective em...   \n",
              "\n",
              "                                                                                                                                                                                                                                                                                                                                                                                                                                                                                                                                                                                                                                                                                                                                                                                                                                                                                                                                                                                                                                                                                                                                                                  Business Title  \\\n",
              "689000 OFFICE OF THE COMPTROLLER     External 1 Legal Intern - Law and Adjustment SUMMER GRADUATE INTERN      Non-Competitive-5 10232 00 Legal Affairs                P             Student         19 21                        Hourly \"1 Centre St.  N.Y.\" Law and Adjustment             \"NOTE: All applicants must be current matricula...  an independently elected official                 is the Chief Financial Officer of the City of N... in order to secure a thriving future for all Ne... equitable                                           and resilient city. We utilize the tools and r...  investing strategically              living up to its promises and obligations          and keeping a sharp eye on the long-term chall...  the Comptroller                                    through the Bureau of Law and Adjustment (BLA)    negotiates and approves all monetary settlement... when in the best interest of the city              settles pre-litigation claims for and against t... BLA protects the fiscal interest of the City wh... and in accordance with applicable laws. BLA fur...                                         as well as   \n",
              "635466 DEPARTMENT OF TRANSPORTATION  Internal 1 BOB- Assistant Civil Engineer     ASSISTANT CIVIL ENGINEER    Competitive-1     20210 00 \"Engineering                  Architecture  & Planning\"    F  Experienced (non-manager) 62370  93587         Annual 55 Water St Ny Ny              East River & Movable                               \"Civil Service Title- Assistant Civil Engineer ... OR REACHABLE ON EXAM #5015.     PLEASE ATTACH Y... investigations or studies related to engineerin... write specifications and prepare estimates. The...  checking and certifying the installation of ma...  NY                                  NY\"                                                1.  A baccalaureate degree from an accredited c... At least one to three years of Bridge related e... \"The City of New York is an inclusive equal opp... including but not limited to an individual's sex   race                                               color                                              ethnicity                                          national origin                                                                        veteran status   \n",
              "687673 DEPT OF DESIGN & CONSTRUCTION External 1 Project Manager                   ASSISTANT ARCHITECT         Competitive-1     21210 00 \"Engineering                  Architecture  & Planning\"    F  Experienced (non-manager) 64242  73878         Annual 30-30 Thomson Ave L I City Qns PUB BLDGS/EXEC                                     \"Hours: Full-Time â 35 Hours Work Location: 3... LIC                                                NY                                                 11101  All interested candidates are welcome to...  the selected Project Manager assist with inter...  Chapter 11 of the NYC Building Code  as well as other applicable federal                state                                              and local statutes and regulations that pertai...  participating in interagency meetings with des... assisting with staff development                   and conducting weekly construction site visits ... extensions                                         or status changes                                  including STEM/OPT visas. Applicants are respon...                                             e-mail   \n",
              "541356 BRONX DISTRICT ATTORNEY       External 6 Senior Rackets Investigator       SENIOR RACKETS INVESTIGATOR Non-Competitive-5 30831 00 \"Legal Affairs Public Safety  Inspections   & Enforcement\" F  Experienced (non-manager) 70877  70877         Annual 198 E161St Street Bronx N.Y.   Detective Investigators                            \"The Bronx District Attorneyâs Office is seek... with latitude for independent judgment and init... the Senior Investigator is responsible for cond... as a police officer                                 in the NYS DCJS Police registry. This position...  Audio equipment                      plate reader                                       LoJack tracking device                             mobile digital terminals                           and surveillance photographic equipment)  Prep... transport                                          and protect witnesses  Assist and mentor Racket... suggest work methods; monitor progress and prep... weekends                                           and holidays as necessary.  Must pass a psychol...   and identity theft.  As per NY Public Officer...   \n",
              "565643 DEPARTMENT OF TRANSPORTATION  Internal 3 ASSISTANT CIVIL ENGINEER          ASSISTANT CIVIL ENGINEER    Competitive-1     20210 00 \"Engineering                  Architecture  & Planning\"    F  Experienced (non-manager) 57078  85646         Annual 55 Water St Ny Ny              Bridges Roadways                                   \"The Assistant Civil Engineer will perform work... investigations or studies related to engineerin... write specifications and prepare estimates. The... checking and certifying the installation of mat... 1.  A baccalaureate degree from an accredited c... NaN                                  \"The City of New York is an inclusive equal opp...  including but not limited to an individual's sex   race                                               color                                             ethnicity                                          national origin                                    age                                                religion                                           disability                                           you may be eligible for federal loan forgiven...   \n",
              "\n",
              "                                                                                                                                                                                                                                                                                                                                                                                                                                                                                                                                                                                                                                                                                                                                                                                                                                                                                                                                                                                                                                                                                                                                                             Civil Service Title  \\\n",
              "689000 OFFICE OF THE COMPTROLLER     External 1 Legal Intern - Law and Adjustment SUMMER GRADUATE INTERN      Non-Competitive-5 10232 00 Legal Affairs                P             Student         19 21                        Hourly \"1 Centre St.  N.Y.\" Law and Adjustment             \"NOTE: All applicants must be current matricula...  an independently elected official                 is the Chief Financial Officer of the City of N... in order to secure a thriving future for all Ne... equitable                                           and resilient city. We utilize the tools and r...  investing strategically              living up to its promises and obligations          and keeping a sharp eye on the long-term chall...  the Comptroller                                    through the Bureau of Law and Adjustment (BLA)    negotiates and approves all monetary settlement... when in the best interest of the city              settles pre-litigation claims for and against t... BLA protects the fiscal interest of the City wh... and in accordance with applicable laws. BLA fur...   coordinating with the Law Department and othe...   \n",
              "635466 DEPARTMENT OF TRANSPORTATION  Internal 1 BOB- Assistant Civil Engineer     ASSISTANT CIVIL ENGINEER    Competitive-1     20210 00 \"Engineering                  Architecture  & Planning\"    F  Experienced (non-manager) 62370  93587         Annual 55 Water St Ny Ny              East River & Movable                               \"Civil Service Title- Assistant Civil Engineer ... OR REACHABLE ON EXAM #5015.     PLEASE ATTACH Y... investigations or studies related to engineerin... write specifications and prepare estimates. The...  checking and certifying the installation of ma...  NY                                  NY\"                                                1.  A baccalaureate degree from an accredited c... At least one to three years of Bridge related e... \"The City of New York is an inclusive equal opp... including but not limited to an individual's sex   race                                               color                                              ethnicity                                          national origin                                                                       gender identity   \n",
              "687673 DEPT OF DESIGN & CONSTRUCTION External 1 Project Manager                   ASSISTANT ARCHITECT         Competitive-1     21210 00 \"Engineering                  Architecture  & Planning\"    F  Experienced (non-manager) 64242  73878         Annual 30-30 Thomson Ave L I City Qns PUB BLDGS/EXEC                                     \"Hours: Full-Time â 35 Hours Work Location: 3... LIC                                                NY                                                 11101  All interested candidates are welcome to...  the selected Project Manager assist with inter...  Chapter 11 of the NYC Building Code  as well as other applicable federal                state                                              and local statutes and regulations that pertai...  participating in interagency meetings with des... assisting with staff development                   and conducting weekly construction site visits ... extensions                                         or status changes                                  including STEM/OPT visas. Applicants are respon...                                               mail   \n",
              "541356 BRONX DISTRICT ATTORNEY       External 6 Senior Rackets Investigator       SENIOR RACKETS INVESTIGATOR Non-Competitive-5 30831 00 \"Legal Affairs Public Safety  Inspections   & Enforcement\" F  Experienced (non-manager) 70877  70877         Annual 198 E161St Street Bronx N.Y.   Detective Investigators                            \"The Bronx District Attorneyâs Office is seek... with latitude for independent judgment and init... the Senior Investigator is responsible for cond... as a police officer                                 in the NYS DCJS Police registry. This position...  Audio equipment                      plate reader                                       LoJack tracking device                             mobile digital terminals                           and surveillance photographic equipment)  Prep... transport                                          and protect witnesses  Assist and mentor Racket... suggest work methods; monitor progress and prep... weekends                                           and holidays as necessary.  Must pass a psychol...                                              Â§3-B   \n",
              "565643 DEPARTMENT OF TRANSPORTATION  Internal 3 ASSISTANT CIVIL ENGINEER          ASSISTANT CIVIL ENGINEER    Competitive-1     20210 00 \"Engineering                  Architecture  & Planning\"    F  Experienced (non-manager) 57078  85646         Annual 55 Water St Ny Ny              Bridges Roadways                                   \"The Assistant Civil Engineer will perform work... investigations or studies related to engineerin... write specifications and prepare estimates. The... checking and certifying the installation of mat... 1.  A baccalaureate degree from an accredited c... NaN                                  \"The City of New York is an inclusive equal opp...  including but not limited to an individual's sex   race                                               color                                             ethnicity                                          national origin                                    age                                                religion                                           disability                                          \"Resumes may be submitted electronically using...   \n",
              "\n",
              "                                                                                                                                                                                                                                                                                                                                                                                                                                                                                                                                                                                                                                                                                                                                                                                                                                                                                                                                                                                                                                                                                                                                                            Title Classification  \\\n",
              "689000 OFFICE OF THE COMPTROLLER     External 1 Legal Intern - Law and Adjustment SUMMER GRADUATE INTERN      Non-Competitive-5 10232 00 Legal Affairs                P             Student         19 21                        Hourly \"1 Centre St.  N.Y.\" Law and Adjustment             \"NOTE: All applicants must be current matricula...  an independently elected official                 is the Chief Financial Officer of the City of N... in order to secure a thriving future for all Ne... equitable                                           and resilient city. We utilize the tools and r...  investing strategically              living up to its promises and obligations          and keeping a sharp eye on the long-term chall...  the Comptroller                                    through the Bureau of Law and Adjustment (BLA)    negotiates and approves all monetary settlement... when in the best interest of the city              settles pre-litigation claims for and against t... BLA protects the fiscal interest of the City wh... and in accordance with applicable laws. BLA fur...   1 Centre St. in Manhattan/New York. - All int...   \n",
              "635466 DEPARTMENT OF TRANSPORTATION  Internal 1 BOB- Assistant Civil Engineer     ASSISTANT CIVIL ENGINEER    Competitive-1     20210 00 \"Engineering                  Architecture  & Planning\"    F  Experienced (non-manager) 62370  93587         Annual 55 Water St Ny Ny              East River & Movable                               \"Civil Service Title- Assistant Civil Engineer ... OR REACHABLE ON EXAM #5015.     PLEASE ATTACH Y... investigations or studies related to engineerin... write specifications and prepare estimates. The...  checking and certifying the installation of ma...  NY                                  NY\"                                                1.  A baccalaureate degree from an accredited c... At least one to three years of Bridge related e... \"The City of New York is an inclusive equal opp... including but not limited to an individual's sex   race                                               color                                              ethnicity                                          national origin                                      or pregnancy.   As a current or prospective e...   \n",
              "687673 DEPT OF DESIGN & CONSTRUCTION External 1 Project Manager                   ASSISTANT ARCHITECT         Competitive-1     21210 00 \"Engineering                  Architecture  & Planning\"    F  Experienced (non-manager) 64242  73878         Annual 30-30 Thomson Ave L I City Qns PUB BLDGS/EXEC                                     \"Hours: Full-Time â 35 Hours Work Location: 3... LIC                                                NY                                                 11101  All interested candidates are welcome to...  the selected Project Manager assist with inter...  Chapter 11 of the NYC Building Code  as well as other applicable federal                state                                              and local statutes and regulations that pertai...  participating in interagency meetings with des... assisting with staff development                   and conducting weekly construction site visits ... extensions                                         or status changes                                  including STEM/OPT visas. Applicants are respon...               or fax your resume to DDC directly.\"   \n",
              "541356 BRONX DISTRICT ATTORNEY       External 6 Senior Rackets Investigator       SENIOR RACKETS INVESTIGATOR Non-Competitive-5 30831 00 \"Legal Affairs Public Safety  Inspections   & Enforcement\" F  Experienced (non-manager) 70877  70877         Annual 198 E161St Street Bronx N.Y.   Detective Investigators                            \"The Bronx District Attorneyâs Office is seek... with latitude for independent judgment and init... the Senior Investigator is responsible for cond... as a police officer                                 in the NYS DCJS Police registry. This position...  Audio equipment                      plate reader                                       LoJack tracking device                             mobile digital terminals                           and surveillance photographic equipment)  Prep... transport                                          and protect witnesses  Assist and mentor Racket... suggest work methods; monitor progress and prep... weekends                                           and holidays as necessary.  Must pass a psychol...                        U.S. citizenship required.\"   \n",
              "565643 DEPARTMENT OF TRANSPORTATION  Internal 3 ASSISTANT CIVIL ENGINEER          ASSISTANT CIVIL ENGINEER    Competitive-1     20210 00 \"Engineering                  Architecture  & Planning\"    F  Experienced (non-manager) 57078  85646         Annual 55 Water St Ny Ny              Bridges Roadways                                   \"The Assistant Civil Engineer will perform work... investigations or studies related to engineerin... write specifications and prepare estimates. The... checking and certifying the installation of mat... 1.  A baccalaureate degree from an accredited c... NaN                                  \"The City of New York is an inclusive equal opp...  including but not limited to an individual's sex   race                                               color                                             ethnicity                                          national origin                                    age                                                religion                                           disability                                                          go to Employee Self Service (ESS)   \n",
              "\n",
              "                                                                                                                                                                                                                                                                                                                                                                                                                                                                                                                                                                                                                                                                                                                                                                                                                                                                                                                                                                                                                                                                                                                                                                   Title Code No  \\\n",
              "689000 OFFICE OF THE COMPTROLLER     External 1 Legal Intern - Law and Adjustment SUMMER GRADUATE INTERN      Non-Competitive-5 10232 00 Legal Affairs                P             Student         19 21                        Hourly \"1 Centre St.  N.Y.\" Law and Adjustment             \"NOTE: All applicants must be current matricula...  an independently elected official                 is the Chief Financial Officer of the City of N... in order to secure a thriving future for all Ne... equitable                                           and resilient city. We utilize the tools and r...  investing strategically              living up to its promises and obligations          and keeping a sharp eye on the long-term chall...  the Comptroller                                    through the Bureau of Law and Adjustment (BLA)    negotiates and approves all monetary settlement... when in the best interest of the city              settles pre-litigation claims for and against t... BLA protects the fiscal interest of the City wh... and in accordance with applicable laws. BLA fur...                                Monday â Thursday   \n",
              "635466 DEPARTMENT OF TRANSPORTATION  Internal 1 BOB- Assistant Civil Engineer     ASSISTANT CIVIL ENGINEER    Competitive-1     20210 00 \"Engineering                  Architecture  & Planning\"    F  Experienced (non-manager) 62370  93587         Annual 55 Water St Ny Ny              East River & Movable                               \"Civil Service Title- Assistant Civil Engineer ... OR REACHABLE ON EXAM #5015.     PLEASE ATTACH Y... investigations or studies related to engineerin... write specifications and prepare estimates. The...  checking and certifying the installation of ma...  NY                                  NY\"                                                1.  A baccalaureate degree from an accredited c... At least one to three years of Bridge related e... \"The City of New York is an inclusive equal opp... including but not limited to an individual's sex   race                                               color                                              ethnicity                                          national origin                                      you may be eligible for federal loan forgiven...   \n",
              "687673 DEPT OF DESIGN & CONSTRUCTION External 1 Project Manager                   ASSISTANT ARCHITECT         Competitive-1     21210 00 \"Engineering                  Architecture  & Planning\"    F  Experienced (non-manager) 64242  73878         Annual 30-30 Thomson Ave L I City Qns PUB BLDGS/EXEC                                     \"Hours: Full-Time â 35 Hours Work Location: 3... LIC                                                NY                                                 11101  All interested candidates are welcome to...  the selected Project Manager assist with inter...  Chapter 11 of the NYC Building Code  as well as other applicable federal                state                                              and local statutes and regulations that pertai...  participating in interagency meetings with des... assisting with staff development                   and conducting weekly construction site visits ... extensions                                         or status changes                                  including STEM/OPT visas. Applicants are respon...  \"1. A Bachelor or a Master of Architecture deg...   \n",
              "541356 BRONX DISTRICT ATTORNEY       External 6 Senior Rackets Investigator       SENIOR RACKETS INVESTIGATOR Non-Competitive-5 30831 00 \"Legal Affairs Public Safety  Inspections   & Enforcement\" F  Experienced (non-manager) 70877  70877         Annual 198 E161St Street Bronx N.Y.   Detective Investigators                            \"The Bronx District Attorneyâs Office is seek... with latitude for independent judgment and init... the Senior Investigator is responsible for cond... as a police officer                                 in the NYS DCJS Police registry. This position...  Audio equipment                      plate reader                                       LoJack tracking device                             mobile digital terminals                           and surveillance photographic equipment)  Prep... transport                                          and protect witnesses  Assist and mentor Racket... suggest work methods; monitor progress and prep... weekends                                           and holidays as necessary.  Must pass a psychol...  \"1. Graduation from high school or its equival...   \n",
              "565643 DEPARTMENT OF TRANSPORTATION  Internal 3 ASSISTANT CIVIL ENGINEER          ASSISTANT CIVIL ENGINEER    Competitive-1     20210 00 \"Engineering                  Architecture  & Planning\"    F  Experienced (non-manager) 57078  85646         Annual 55 Water St Ny Ny              Bridges Roadways                                   \"The Assistant Civil Engineer will perform work... investigations or studies related to engineerin... write specifications and prepare estimates. The... checking and certifying the installation of mat... 1.  A baccalaureate degree from an accredited c... NaN                                  \"The City of New York is an inclusive equal opp...  including but not limited to an individual's sex   race                                               color                                             ethnicity                                          national origin                                    age                                                religion                                           disability                                                                                    Careers   \n",
              "\n",
              "                                                                                                                                                                                                                                                                                                                                                                                                                                                                                                                                                                                                                                                                                                                                                                                                                                                                                                                                                                                                                                                                                                                                                                           Level  \\\n",
              "689000 OFFICE OF THE COMPTROLLER     External 1 Legal Intern - Law and Adjustment SUMMER GRADUATE INTERN      Non-Competitive-5 10232 00 Legal Affairs                P             Student         19 21                        Hourly \"1 Centre St.  N.Y.\" Law and Adjustment             \"NOTE: All applicants must be current matricula...  an independently elected official                 is the Chief Financial Officer of the City of N... in order to secure a thriving future for all Ne... equitable                                           and resilient city. We utilize the tools and r...  investing strategically              living up to its promises and obligations          and keeping a sharp eye on the long-term chall...  the Comptroller                                    through the Bureau of Law and Adjustment (BLA)    negotiates and approves all monetary settlement... when in the best interest of the city              settles pre-litigation claims for and against t... BLA protects the fiscal interest of the City wh... and in accordance with applicable laws. BLA fur...   28 hours per week. - The employment period wi...   \n",
              "635466 DEPARTMENT OF TRANSPORTATION  Internal 1 BOB- Assistant Civil Engineer     ASSISTANT CIVIL ENGINEER    Competitive-1     20210 00 \"Engineering                  Architecture  & Planning\"    F  Experienced (non-manager) 62370  93587         Annual 55 Water St Ny Ny              East River & Movable                               \"Civil Service Title- Assistant Civil Engineer ... OR REACHABLE ON EXAM #5015.     PLEASE ATTACH Y... investigations or studies related to engineerin... write specifications and prepare estimates. The...  checking and certifying the installation of ma...  NY                                  NY\"                                                1.  A baccalaureate degree from an accredited c... At least one to three years of Bridge related e... \"The City of New York is an inclusive equal opp... including but not limited to an individual's sex   race                                               color                                              ethnicity                                          national origin                                      OR REACHABLE ON EXAM #5015.     PLEASE ATTACH...   \n",
              "687673 DEPT OF DESIGN & CONSTRUCTION External 1 Project Manager                   ASSISTANT ARCHITECT         Competitive-1     21210 00 \"Engineering                  Architecture  & Planning\"    F  Experienced (non-manager) 64242  73878         Annual 30-30 Thomson Ave L I City Qns PUB BLDGS/EXEC                                     \"Hours: Full-Time â 35 Hours Work Location: 3... LIC                                                NY                                                 11101  All interested candidates are welcome to...  the selected Project Manager assist with inter...  Chapter 11 of the NYC Building Code  as well as other applicable federal                state                                              and local statutes and regulations that pertai...  participating in interagency meetings with des... assisting with staff development                   and conducting weekly construction site visits ... extensions                                         or status changes                                  including STEM/OPT visas. Applicants are respon...   this license must be maintained for the durat...   \n",
              "541356 BRONX DISTRICT ATTORNEY       External 6 Senior Rackets Investigator       SENIOR RACKETS INVESTIGATOR Non-Competitive-5 30831 00 \"Legal Affairs Public Safety  Inspections   & Enforcement\" F  Experienced (non-manager) 70877  70877         Annual 198 E161St Street Bronx N.Y.   Detective Investigators                            \"The Bronx District Attorneyâs Office is seek... with latitude for independent judgment and init... the Senior Investigator is responsible for cond... as a police officer                                 in the NYS DCJS Police registry. This position...  Audio equipment                      plate reader                                       LoJack tracking device                             mobile digital terminals                           and surveillance photographic equipment)  Prep... transport                                          and protect witnesses  Assist and mentor Racket... suggest work methods; monitor progress and prep... weekends                                           and holidays as necessary.  Must pass a psychol...   paid experience in police enforcement or inve...   \n",
              "565643 DEPARTMENT OF TRANSPORTATION  Internal 3 ASSISTANT CIVIL ENGINEER          ASSISTANT CIVIL ENGINEER    Competitive-1     20210 00 \"Engineering                  Architecture  & Planning\"    F  Experienced (non-manager) 57078  85646         Annual 55 Water St Ny Ny              Bridges Roadways                                   \"The Assistant Civil Engineer will perform work... investigations or studies related to engineerin... write specifications and prepare estimates. The... checking and certifying the installation of mat... 1.  A baccalaureate degree from an accredited c... NaN                                  \"The City of New York is an inclusive equal opp...  including but not limited to an individual's sex   race                                               color                                             ethnicity                                          national origin                                    age                                                religion                                           disability                                           and Search for Job ID# 565643 For other appli...   \n",
              "\n",
              "                                                                                                                                                                                                                                                                                                                                                                                                                                                                                                                                                                                                                                                                                                                                                                                                                                                                                                                                                                                                                                                                                                                                                                    Job Category  \\\n",
              "689000 OFFICE OF THE COMPTROLLER     External 1 Legal Intern - Law and Adjustment SUMMER GRADUATE INTERN      Non-Competitive-5 10232 00 Legal Affairs                P             Student         19 21                        Hourly \"1 Centre St.  N.Y.\" Law and Adjustment             \"NOTE: All applicants must be current matricula...  an independently elected official                 is the Chief Financial Officer of the City of N... in order to secure a thriving future for all Ne... equitable                                           and resilient city. We utilize the tools and r...  investing strategically              living up to its promises and obligations          and keeping a sharp eye on the long-term chall...  the Comptroller                                    through the Bureau of Law and Adjustment (BLA)    negotiates and approves all monetary settlement... when in the best interest of the city              settles pre-litigation claims for and against t... BLA protects the fiscal interest of the City wh... and in accordance with applicable laws. BLA fur...                                             2025.\"   \n",
              "635466 DEPARTMENT OF TRANSPORTATION  Internal 1 BOB- Assistant Civil Engineer     ASSISTANT CIVIL ENGINEER    Competitive-1     20210 00 \"Engineering                  Architecture  & Planning\"    F  Experienced (non-manager) 62370  93587         Annual 55 Water St Ny Ny              East River & Movable                               \"Civil Service Title- Assistant Civil Engineer ... OR REACHABLE ON EXAM #5015.     PLEASE ATTACH Y... investigations or studies related to engineerin... write specifications and prepare estimates. The...  checking and certifying the installation of ma...  NY                                  NY\"                                                1.  A baccalaureate degree from an accredited c... At least one to three years of Bridge related e... \"The City of New York is an inclusive equal opp... including but not limited to an individual's sex   race                                               color                                              ethnicity                                          national origin                                     \"Resumes may be submitted electronically using...   \n",
              "687673 DEPT OF DESIGN & CONSTRUCTION External 1 Project Manager                   ASSISTANT ARCHITECT         Competitive-1     21210 00 \"Engineering                  Architecture  & Planning\"    F  Experienced (non-manager) 64242  73878         Annual 30-30 Thomson Ave L I City Qns PUB BLDGS/EXEC                                     \"Hours: Full-Time â 35 Hours Work Location: 3... LIC                                                NY                                                 11101  All interested candidates are welcome to...  the selected Project Manager assist with inter...  Chapter 11 of the NYC Building Code  as well as other applicable federal                state                                              and local statutes and regulations that pertai...  participating in interagency meetings with des... assisting with staff development                   and conducting weekly construction site visits ... extensions                                         or status changes                                  including STEM/OPT visas. Applicants are respon...  \"Preference will be given to candidates with a...   \n",
              "541356 BRONX DISTRICT ATTORNEY       External 6 Senior Rackets Investigator       SENIOR RACKETS INVESTIGATOR Non-Competitive-5 30831 00 \"Legal Affairs Public Safety  Inspections   & Enforcement\" F  Experienced (non-manager) 70877  70877         Annual 198 E161St Street Bronx N.Y.   Detective Investigators                            \"The Bronx District Attorneyâs Office is seek... with latitude for independent judgment and init... the Senior Investigator is responsible for cond... as a police officer                                 in the NYS DCJS Police registry. This position...  Audio equipment                      plate reader                                       LoJack tracking device                             mobile digital terminals                           and surveillance photographic equipment)  Prep... transport                                          and protect witnesses  Assist and mentor Racket... suggest work methods; monitor progress and prep... weekends                                           and holidays as necessary.  Must pass a psychol...   one year of which must have been in rackets o...   \n",
              "565643 DEPARTMENT OF TRANSPORTATION  Internal 3 ASSISTANT CIVIL ENGINEER          ASSISTANT CIVIL ENGINEER    Competitive-1     20210 00 \"Engineering                  Architecture  & Planning\"    F  Experienced (non-manager) 57078  85646         Annual 55 Water St Ny Ny              Bridges Roadways                                   \"The Assistant Civil Engineer will perform work... investigations or studies related to engineerin... write specifications and prepare estimates. The... checking and certifying the installation of mat... 1.  A baccalaureate degree from an accredited c... NaN                                  \"The City of New York is an inclusive equal opp...  including but not limited to an individual's sex   race                                               color                                             ethnicity                                          national origin                                    age                                                religion                                           disability                                           go to www.nyc.gov/careers and search for Job ...   \n",
              "\n",
              "                                                                                                                                                                                                                                                                                                                                                                                                                                                                                                                                                                                                                                                                                                                                                                                                                                                                                                                                                                                                                                                                                                                               ...  \\\n",
              "689000 OFFICE OF THE COMPTROLLER     External 1 Legal Intern - Law and Adjustment SUMMER GRADUATE INTERN      Non-Competitive-5 10232 00 Legal Affairs                P             Student         19 21                        Hourly \"1 Centre St.  N.Y.\" Law and Adjustment             \"NOTE: All applicants must be current matricula...  an independently elected official                 is the Chief Financial Officer of the City of N... in order to secure a thriving future for all Ne... equitable                                           and resilient city. We utilize the tools and r...  investing strategically              living up to its promises and obligations          and keeping a sharp eye on the long-term chall...  the Comptroller                                    through the Bureau of Law and Adjustment (BLA)    negotiates and approves all monetary settlement... when in the best interest of the city              settles pre-litigation claims for and against t... BLA protects the fiscal interest of the City wh... and in accordance with applicable laws. BLA fur...  ...   \n",
              "635466 DEPARTMENT OF TRANSPORTATION  Internal 1 BOB- Assistant Civil Engineer     ASSISTANT CIVIL ENGINEER    Competitive-1     20210 00 \"Engineering                  Architecture  & Planning\"    F  Experienced (non-manager) 62370  93587         Annual 55 Water St Ny Ny              East River & Movable                               \"Civil Service Title- Assistant Civil Engineer ... OR REACHABLE ON EXAM #5015.     PLEASE ATTACH Y... investigations or studies related to engineerin... write specifications and prepare estimates. The...  checking and certifying the installation of ma...  NY                                  NY\"                                                1.  A baccalaureate degree from an accredited c... At least one to three years of Bridge related e... \"The City of New York is an inclusive equal opp... including but not limited to an individual's sex   race                                               color                                              ethnicity                                          national origin                                     ...   \n",
              "687673 DEPT OF DESIGN & CONSTRUCTION External 1 Project Manager                   ASSISTANT ARCHITECT         Competitive-1     21210 00 \"Engineering                  Architecture  & Planning\"    F  Experienced (non-manager) 64242  73878         Annual 30-30 Thomson Ave L I City Qns PUB BLDGS/EXEC                                     \"Hours: Full-Time â 35 Hours Work Location: 3... LIC                                                NY                                                 11101  All interested candidates are welcome to...  the selected Project Manager assist with inter...  Chapter 11 of the NYC Building Code  as well as other applicable federal                state                                              and local statutes and regulations that pertai...  participating in interagency meetings with des... assisting with staff development                   and conducting weekly construction site visits ... extensions                                         or status changes                                  including STEM/OPT visas. Applicants are respon...  ...   \n",
              "541356 BRONX DISTRICT ATTORNEY       External 6 Senior Rackets Investigator       SENIOR RACKETS INVESTIGATOR Non-Competitive-5 30831 00 \"Legal Affairs Public Safety  Inspections   & Enforcement\" F  Experienced (non-manager) 70877  70877         Annual 198 E161St Street Bronx N.Y.   Detective Investigators                            \"The Bronx District Attorneyâs Office is seek... with latitude for independent judgment and init... the Senior Investigator is responsible for cond... as a police officer                                 in the NYS DCJS Police registry. This position...  Audio equipment                      plate reader                                       LoJack tracking device                             mobile digital terminals                           and surveillance photographic equipment)  Prep... transport                                          and protect witnesses  Assist and mentor Racket... suggest work methods; monitor progress and prep... weekends                                           and holidays as necessary.  Must pass a psychol...  ...   \n",
              "565643 DEPARTMENT OF TRANSPORTATION  Internal 3 ASSISTANT CIVIL ENGINEER          ASSISTANT CIVIL ENGINEER    Competitive-1     20210 00 \"Engineering                  Architecture  & Planning\"    F  Experienced (non-manager) 57078  85646         Annual 55 Water St Ny Ny              Bridges Roadways                                   \"The Assistant Civil Engineer will perform work... investigations or studies related to engineerin... write specifications and prepare estimates. The... checking and certifying the installation of mat... 1.  A baccalaureate degree from an accredited c... NaN                                  \"The City of New York is an inclusive equal opp...  including but not limited to an individual's sex   race                                               color                                             ethnicity                                          national origin                                    age                                                religion                                           disability                                          ...   \n",
              "\n",
              "                                                                                                                                                                                                                                                                                                                                                                                                                                                                                                                                                                                                                                                                                                                                                                                                                                                                                                                                                                                                                                                                                                                                                          Additional Information  \\\n",
              "689000 OFFICE OF THE COMPTROLLER     External 1 Legal Intern - Law and Adjustment SUMMER GRADUATE INTERN      Non-Competitive-5 10232 00 Legal Affairs                P             Student         19 21                        Hourly \"1 Centre St.  N.Y.\" Law and Adjustment             \"NOTE: All applicants must be current matricula...  an independently elected official                 is the Chief Financial Officer of the City of N... in order to secure a thriving future for all Ne... equitable                                           and resilient city. We utilize the tools and r...  investing strategically              living up to its promises and obligations          and keeping a sharp eye on the long-term chall...  the Comptroller                                    through the Bureau of Law and Adjustment (BLA)    negotiates and approves all monetary settlement... when in the best interest of the city              settles pre-litigation claims for and against t... BLA protects the fiscal interest of the City wh... and in accordance with applicable laws. BLA fur...                                            Suffolk   \n",
              "635466 DEPARTMENT OF TRANSPORTATION  Internal 1 BOB- Assistant Civil Engineer     ASSISTANT CIVIL ENGINEER    Competitive-1     20210 00 \"Engineering                  Architecture  & Planning\"    F  Experienced (non-manager) 62370  93587         Annual 55 Water St Ny Ny              East River & Movable                               \"Civil Service Title- Assistant Civil Engineer ... OR REACHABLE ON EXAM #5015.     PLEASE ATTACH Y... investigations or studies related to engineerin... write specifications and prepare estimates. The...  checking and certifying the installation of ma...  NY                                  NY\"                                                1.  A baccalaureate degree from an accredited c... At least one to three years of Bridge related e... \"The City of New York is an inclusive equal opp... including but not limited to an individual's sex   race                                               color                                              ethnicity                                          national origin                                                                                   NaN   \n",
              "687673 DEPT OF DESIGN & CONSTRUCTION External 1 Project Manager                   ASSISTANT ARCHITECT         Competitive-1     21210 00 \"Engineering                  Architecture  & Planning\"    F  Experienced (non-manager) 64242  73878         Annual 30-30 Thomson Ave L I City Qns PUB BLDGS/EXEC                                     \"Hours: Full-Time â 35 Hours Work Location: 3... LIC                                                NY                                                 11101  All interested candidates are welcome to...  the selected Project Manager assist with inter...  Chapter 11 of the NYC Building Code  as well as other applicable federal                state                                              and local statutes and regulations that pertai...  participating in interagency meetings with des... assisting with staff development                   and conducting weekly construction site visits ... extensions                                         or status changes                                  including STEM/OPT visas. Applicants are respon...                                         11/18/2024   \n",
              "541356 BRONX DISTRICT ATTORNEY       External 6 Senior Rackets Investigator       SENIOR RACKETS INVESTIGATOR Non-Competitive-5 30831 00 \"Legal Affairs Public Safety  Inspections   & Enforcement\" F  Experienced (non-manager) 70877  70877         Annual 198 E161St Street Bronx N.Y.   Detective Investigators                            \"The Bronx District Attorneyâs Office is seek... with latitude for independent judgment and init... the Senior Investigator is responsible for cond... as a police officer                                 in the NYS DCJS Police registry. This position...  Audio equipment                      plate reader                                       LoJack tracking device                             mobile digital terminals                           and surveillance photographic equipment)  Prep... transport                                          and protect witnesses  Assist and mentor Racket... suggest work methods; monitor progress and prep... weekends                                           and holidays as necessary.  Must pass a psychol...  New York State Residency is REQUIRED on the fi...   \n",
              "565643 DEPARTMENT OF TRANSPORTATION  Internal 3 ASSISTANT CIVIL ENGINEER          ASSISTANT CIVIL ENGINEER    Competitive-1     20210 00 \"Engineering                  Architecture  & Planning\"    F  Experienced (non-manager) 57078  85646         Annual 55 Water St Ny Ny              Bridges Roadways                                   \"The Assistant Civil Engineer will perform work... investigations or studies related to engineerin... write specifications and prepare estimates. The... checking and certifying the installation of mat... 1.  A baccalaureate degree from an accredited c... NaN                                  \"The City of New York is an inclusive equal opp...  including but not limited to an individual's sex   race                                               color                                             ethnicity                                          national origin                                    age                                                religion                                           disability                                                                                        NaN   \n",
              "\n",
              "                                                                                                                                                                                                                                                                                                                                                                                                                                                                                                                                                                                                                                                                                                                                                                                                                                                                                                                                                                                                                                                                                                                                 To Apply  \\\n",
              "689000 OFFICE OF THE COMPTROLLER     External 1 Legal Intern - Law and Adjustment SUMMER GRADUATE INTERN      Non-Competitive-5 10232 00 Legal Affairs                P             Student         19 21                        Hourly \"1 Centre St.  N.Y.\" Law and Adjustment             \"NOTE: All applicants must be current matricula...  an independently elected official                 is the Chief Financial Officer of the City of N... in order to secure a thriving future for all Ne... equitable                                           and resilient city. We utilize the tools and r...  investing strategically              living up to its promises and obligations          and keeping a sharp eye on the long-term chall...  the Comptroller                                    through the Bureau of Law and Adjustment (BLA)    negotiates and approves all monetary settlement... when in the best interest of the city              settles pre-litigation claims for and against t... BLA protects the fiscal interest of the City wh... and in accordance with applicable laws. BLA fur...      Putnam   \n",
              "635466 DEPARTMENT OF TRANSPORTATION  Internal 1 BOB- Assistant Civil Engineer     ASSISTANT CIVIL ENGINEER    Competitive-1     20210 00 \"Engineering                  Architecture  & Planning\"    F  Experienced (non-manager) 62370  93587         Annual 55 Water St Ny Ny              East River & Movable                               \"Civil Service Title- Assistant Civil Engineer ... OR REACHABLE ON EXAM #5015.     PLEASE ATTACH Y... investigations or studies related to engineerin... write specifications and prepare estimates. The...  checking and certifying the installation of ma...  NY                                  NY\"                                                1.  A baccalaureate degree from an accredited c... At least one to three years of Bridge related e... \"The City of New York is an inclusive equal opp... including but not limited to an individual's sex   race                                               color                                              ethnicity                                          national origin                                     10/02/2024   \n",
              "687673 DEPT OF DESIGN & CONSTRUCTION External 1 Project Manager                   ASSISTANT ARCHITECT         Competitive-1     21210 00 \"Engineering                  Architecture  & Planning\"    F  Experienced (non-manager) 64242  73878         Annual 30-30 Thomson Ave L I City Qns PUB BLDGS/EXEC                                     \"Hours: Full-Time â 35 Hours Work Location: 3... LIC                                                NY                                                 11101  All interested candidates are welcome to...  the selected Project Manager assist with inter...  Chapter 11 of the NYC Building Code  as well as other applicable federal                state                                              and local statutes and regulations that pertai...  participating in interagency meetings with des... assisting with staff development                   and conducting weekly construction site visits ... extensions                                         or status changes                                  including STEM/OPT visas. Applicants are respon...  01/14/2025   \n",
              "541356 BRONX DISTRICT ATTORNEY       External 6 Senior Rackets Investigator       SENIOR RACKETS INVESTIGATOR Non-Competitive-5 30831 00 \"Legal Affairs Public Safety  Inspections   & Enforcement\" F  Experienced (non-manager) 70877  70877         Annual 198 E161St Street Bronx N.Y.   Detective Investigators                            \"The Bronx District Attorneyâs Office is seek... with latitude for independent judgment and init... the Senior Investigator is responsible for cond... as a police officer                                 in the NYS DCJS Police registry. This position...  Audio equipment                      plate reader                                       LoJack tracking device                             mobile digital terminals                           and surveillance photographic equipment)  Prep... transport                                          and protect witnesses  Assist and mentor Racket... suggest work methods; monitor progress and prep... weekends                                           and holidays as necessary.  Must pass a psychol...  07/20/2022   \n",
              "565643 DEPARTMENT OF TRANSPORTATION  Internal 3 ASSISTANT CIVIL ENGINEER          ASSISTANT CIVIL ENGINEER    Competitive-1     20210 00 \"Engineering                  Architecture  & Planning\"    F  Experienced (non-manager) 57078  85646         Annual 55 Water St Ny Ny              Bridges Roadways                                   \"The Assistant Civil Engineer will perform work... investigations or studies related to engineerin... write specifications and prepare estimates. The... checking and certifying the installation of mat... 1.  A baccalaureate degree from an accredited c... NaN                                  \"The City of New York is an inclusive equal opp...  including but not limited to an individual's sex   race                                               color                                             ethnicity                                          national origin                                    age                                                religion                                           disability                                                 NaN   \n",
              "\n",
              "                                                                                                                                                                                                                                                                                                                                                                                                                                                                                                                                                                                                                                                                                                                                                                                                                                                                                                                                                                                                                                                                                                                                Hours/Shift  \\\n",
              "689000 OFFICE OF THE COMPTROLLER     External 1 Legal Intern - Law and Adjustment SUMMER GRADUATE INTERN      Non-Competitive-5 10232 00 Legal Affairs                P             Student         19 21                        Hourly \"1 Centre St.  N.Y.\" Law and Adjustment             \"NOTE: All applicants must be current matricula...  an independently elected official                 is the Chief Financial Officer of the City of N... in order to secure a thriving future for all Ne... equitable                                           and resilient city. We utilize the tools and r...  investing strategically              living up to its promises and obligations          and keeping a sharp eye on the long-term chall...  the Comptroller                                    through the Bureau of Law and Adjustment (BLA)    negotiates and approves all monetary settlement... when in the best interest of the city              settles pre-litigation claims for and against t... BLA protects the fiscal interest of the City wh... and in accordance with applicable laws. BLA fur...   Westchester   \n",
              "635466 DEPARTMENT OF TRANSPORTATION  Internal 1 BOB- Assistant Civil Engineer     ASSISTANT CIVIL ENGINEER    Competitive-1     20210 00 \"Engineering                  Architecture  & Planning\"    F  Experienced (non-manager) 62370  93587         Annual 55 Water St Ny Ny              East River & Movable                               \"Civil Service Title- Assistant Civil Engineer ... OR REACHABLE ON EXAM #5015.     PLEASE ATTACH Y... investigations or studies related to engineerin... write specifications and prepare estimates. The...  checking and certifying the installation of ma...  NY                                  NY\"                                                1.  A baccalaureate degree from an accredited c... At least one to three years of Bridge related e... \"The City of New York is an inclusive equal opp... including but not limited to an individual's sex   race                                               color                                              ethnicity                                          national origin                                       01/14/2025   \n",
              "687673 DEPT OF DESIGN & CONSTRUCTION External 1 Project Manager                   ASSISTANT ARCHITECT         Competitive-1     21210 00 \"Engineering                  Architecture  & Planning\"    F  Experienced (non-manager) 64242  73878         Annual 30-30 Thomson Ave L I City Qns PUB BLDGS/EXEC                                     \"Hours: Full-Time â 35 Hours Work Location: 3... LIC                                                NY                                                 11101  All interested candidates are welcome to...  the selected Project Manager assist with inter...  Chapter 11 of the NYC Building Code  as well as other applicable federal                state                                              and local statutes and regulations that pertai...  participating in interagency meetings with des... assisting with staff development                   and conducting weekly construction site visits ... extensions                                         or status changes                                  including STEM/OPT visas. Applicants are respon...           NaN   \n",
              "541356 BRONX DISTRICT ATTORNEY       External 6 Senior Rackets Investigator       SENIOR RACKETS INVESTIGATOR Non-Competitive-5 30831 00 \"Legal Affairs Public Safety  Inspections   & Enforcement\" F  Experienced (non-manager) 70877  70877         Annual 198 E161St Street Bronx N.Y.   Detective Investigators                            \"The Bronx District Attorneyâs Office is seek... with latitude for independent judgment and init... the Senior Investigator is responsible for cond... as a police officer                                 in the NYS DCJS Police registry. This position...  Audio equipment                      plate reader                                       LoJack tracking device                             mobile digital terminals                           and surveillance photographic equipment)  Prep... transport                                          and protect witnesses  Assist and mentor Racket... suggest work methods; monitor progress and prep... weekends                                           and holidays as necessary.  Must pass a psychol...   14-APR-2025   \n",
              "565643 DEPARTMENT OF TRANSPORTATION  Internal 3 ASSISTANT CIVIL ENGINEER          ASSISTANT CIVIL ENGINEER    Competitive-1     20210 00 \"Engineering                  Architecture  & Planning\"    F  Experienced (non-manager) 57078  85646         Annual 55 Water St Ny Ny              Bridges Roadways                                   \"The Assistant Civil Engineer will perform work... investigations or studies related to engineerin... write specifications and prepare estimates. The... checking and certifying the installation of mat... 1.  A baccalaureate degree from an accredited c... NaN                                  \"The City of New York is an inclusive equal opp...  including but not limited to an individual's sex   race                                               color                                             ethnicity                                          national origin                                    age                                                religion                                           disability                                                   NaN   \n",
              "\n",
              "                                                                                                                                                                                                                                                                                                                                                                                                                                                                                                                                                                                                                                                                                                                                                                                                                                                                                                                                                                                                                                                                                                                              Work Location 1  \\\n",
              "689000 OFFICE OF THE COMPTROLLER     External 1 Legal Intern - Law and Adjustment SUMMER GRADUATE INTERN      Non-Competitive-5 10232 00 Legal Affairs                P             Student         19 21                        Hourly \"1 Centre St.  N.Y.\" Law and Adjustment             \"NOTE: All applicants must be current matricula...  an independently elected official                 is the Chief Financial Officer of the City of N... in order to secure a thriving future for all Ne... equitable                                           and resilient city. We utilize the tools and r...  investing strategically              living up to its promises and obligations          and keeping a sharp eye on the long-term chall...  the Comptroller                                    through the Bureau of Law and Adjustment (BLA)    negotiates and approves all monetary settlement... when in the best interest of the city              settles pre-litigation claims for and against t... BLA protects the fiscal interest of the City wh... and in accordance with applicable laws. BLA fur...        Rockland   \n",
              "635466 DEPARTMENT OF TRANSPORTATION  Internal 1 BOB- Assistant Civil Engineer     ASSISTANT CIVIL ENGINEER    Competitive-1     20210 00 \"Engineering                  Architecture  & Planning\"    F  Experienced (non-manager) 62370  93587         Annual 55 Water St Ny Ny              East River & Movable                               \"Civil Service Title- Assistant Civil Engineer ... OR REACHABLE ON EXAM #5015.     PLEASE ATTACH Y... investigations or studies related to engineerin... write specifications and prepare estimates. The...  checking and certifying the installation of ma...  NY                                  NY\"                                                1.  A baccalaureate degree from an accredited c... At least one to three years of Bridge related e... \"The City of New York is an inclusive equal opp... including but not limited to an individual's sex   race                                               color                                              ethnicity                                          national origin                                                NaN   \n",
              "687673 DEPT OF DESIGN & CONSTRUCTION External 1 Project Manager                   ASSISTANT ARCHITECT         Competitive-1     21210 00 \"Engineering                  Architecture  & Planning\"    F  Experienced (non-manager) 64242  73878         Annual 30-30 Thomson Ave L I City Qns PUB BLDGS/EXEC                                     \"Hours: Full-Time â 35 Hours Work Location: 3... LIC                                                NY                                                 11101  All interested candidates are welcome to...  the selected Project Manager assist with inter...  Chapter 11 of the NYC Building Code  as well as other applicable federal                state                                              and local statutes and regulations that pertai...  participating in interagency meetings with des... assisting with staff development                   and conducting weekly construction site visits ... extensions                                         or status changes                                  including STEM/OPT visas. Applicants are respon...             NaN   \n",
              "541356 BRONX DISTRICT ATTORNEY       External 6 Senior Rackets Investigator       SENIOR RACKETS INVESTIGATOR Non-Competitive-5 30831 00 \"Legal Affairs Public Safety  Inspections   & Enforcement\" F  Experienced (non-manager) 70877  70877         Annual 198 E161St Street Bronx N.Y.   Detective Investigators                            \"The Bronx District Attorneyâs Office is seek... with latitude for independent judgment and init... the Senior Investigator is responsible for cond... as a police officer                                 in the NYS DCJS Police registry. This position...  Audio equipment                      plate reader                                       LoJack tracking device                             mobile digital terminals                           and surveillance photographic equipment)  Prep... transport                                          and protect witnesses  Assist and mentor Racket... suggest work methods; monitor progress and prep... weekends                                           and holidays as necessary.  Must pass a psychol...      07/09/2024   \n",
              "565643 DEPARTMENT OF TRANSPORTATION  Internal 3 ASSISTANT CIVIL ENGINEER          ASSISTANT CIVIL ENGINEER    Competitive-1     20210 00 \"Engineering                  Architecture  & Planning\"    F  Experienced (non-manager) 57078  85646         Annual 55 Water St Ny Ny              Bridges Roadways                                   \"The Assistant Civil Engineer will perform work... investigations or studies related to engineerin... write specifications and prepare estimates. The... checking and certifying the installation of mat... 1.  A baccalaureate degree from an accredited c... NaN                                  \"The City of New York is an inclusive equal opp...  including but not limited to an individual's sex   race                                               color                                             ethnicity                                          national origin                                    age                                                religion                                           disability                                                     NaN   \n",
              "\n",
              "                                                                                                                                                                                                                                                                                                                                                                                                                                                                                                                                                                                                                                                                                                                                                                                                                                                                                                                                                                                                                                                                                                                                                             Recruitment Contact  \\\n",
              "689000 OFFICE OF THE COMPTROLLER     External 1 Legal Intern - Law and Adjustment SUMMER GRADUATE INTERN      Non-Competitive-5 10232 00 Legal Affairs                P             Student         19 21                        Hourly \"1 Centre St.  N.Y.\" Law and Adjustment             \"NOTE: All applicants must be current matricula...  an independently elected official                 is the Chief Financial Officer of the City of N... in order to secure a thriving future for all Ne... equitable                                           and resilient city. We utilize the tools and r...  investing strategically              living up to its promises and obligations          and keeping a sharp eye on the long-term chall...  the Comptroller                                    through the Bureau of Law and Adjustment (BLA)    negotiates and approves all monetary settlement... when in the best interest of the city              settles pre-litigation claims for and against t... BLA protects the fiscal interest of the City wh... and in accordance with applicable laws. BLA fur...   or Orange County. To determine if the residen...   \n",
              "635466 DEPARTMENT OF TRANSPORTATION  Internal 1 BOB- Assistant Civil Engineer     ASSISTANT CIVIL ENGINEER    Competitive-1     20210 00 \"Engineering                  Architecture  & Planning\"    F  Experienced (non-manager) 62370  93587         Annual 55 Water St Ny Ny              East River & Movable                               \"Civil Service Title- Assistant Civil Engineer ... OR REACHABLE ON EXAM #5015.     PLEASE ATTACH Y... investigations or studies related to engineerin... write specifications and prepare estimates. The...  checking and certifying the installation of ma...  NY                                  NY\"                                                1.  A baccalaureate degree from an accredited c... At least one to three years of Bridge related e... \"The City of New York is an inclusive equal opp... including but not limited to an individual's sex   race                                               color                                              ethnicity                                          national origin                                                                                   NaN   \n",
              "687673 DEPT OF DESIGN & CONSTRUCTION External 1 Project Manager                   ASSISTANT ARCHITECT         Competitive-1     21210 00 \"Engineering                  Architecture  & Planning\"    F  Experienced (non-manager) 64242  73878         Annual 30-30 Thomson Ave L I City Qns PUB BLDGS/EXEC                                     \"Hours: Full-Time â 35 Hours Work Location: 3... LIC                                                NY                                                 11101  All interested candidates are welcome to...  the selected Project Manager assist with inter...  Chapter 11 of the NYC Building Code  as well as other applicable federal                state                                              and local statutes and regulations that pertai...  participating in interagency meetings with des... assisting with staff development                   and conducting weekly construction site visits ... extensions                                         or status changes                                  including STEM/OPT visas. Applicants are respon...                                                NaN   \n",
              "541356 BRONX DISTRICT ATTORNEY       External 6 Senior Rackets Investigator       SENIOR RACKETS INVESTIGATOR Non-Competitive-5 30831 00 \"Legal Affairs Public Safety  Inspections   & Enforcement\" F  Experienced (non-manager) 70877  70877         Annual 198 E161St Street Bronx N.Y.   Detective Investigators                            \"The Bronx District Attorneyâs Office is seek... with latitude for independent judgment and init... the Senior Investigator is responsible for cond... as a police officer                                 in the NYS DCJS Police registry. This position...  Audio equipment                      plate reader                                       LoJack tracking device                             mobile digital terminals                           and surveillance photographic equipment)  Prep... transport                                          and protect witnesses  Assist and mentor Racket... suggest work methods; monitor progress and prep... weekends                                           and holidays as necessary.  Must pass a psychol...                                         01/14/2025   \n",
              "565643 DEPARTMENT OF TRANSPORTATION  Internal 3 ASSISTANT CIVIL ENGINEER          ASSISTANT CIVIL ENGINEER    Competitive-1     20210 00 \"Engineering                  Architecture  & Planning\"    F  Experienced (non-manager) 57078  85646         Annual 55 Water St Ny Ny              Bridges Roadways                                   \"The Assistant Civil Engineer will perform work... investigations or studies related to engineerin... write specifications and prepare estimates. The... checking and certifying the installation of mat... 1.  A baccalaureate degree from an accredited c... NaN                                  \"The City of New York is an inclusive equal opp...  including but not limited to an individual's sex   race                                               color                                             ethnicity                                          national origin                                    age                                                religion                                           disability                                                                                        NaN   \n",
              "\n",
              "                                                                                                                                                                                                                                                                                                                                                                                                                                                                                                                                                                                                                                                                                                                                                                                                                                                                                                                                                                                                                                                                                                                                                           Residency Requirement  \\\n",
              "689000 OFFICE OF THE COMPTROLLER     External 1 Legal Intern - Law and Adjustment SUMMER GRADUATE INTERN      Non-Competitive-5 10232 00 Legal Affairs                P             Student         19 21                        Hourly \"1 Centre St.  N.Y.\" Law and Adjustment             \"NOTE: All applicants must be current matricula...  an independently elected official                 is the Chief Financial Officer of the City of N... in order to secure a thriving future for all Ne... equitable                                           and resilient city. We utilize the tools and r...  investing strategically              living up to its promises and obligations          and keeping a sharp eye on the long-term chall...  the Comptroller                                    through the Bureau of Law and Adjustment (BLA)    negotiates and approves all monetary settlement... when in the best interest of the city              settles pre-litigation claims for and against t... BLA protects the fiscal interest of the City wh... and in accordance with applicable laws. BLA fur...   please discuss with the agency representative...   \n",
              "635466 DEPARTMENT OF TRANSPORTATION  Internal 1 BOB- Assistant Civil Engineer     ASSISTANT CIVIL ENGINEER    Competitive-1     20210 00 \"Engineering                  Architecture  & Planning\"    F  Experienced (non-manager) 62370  93587         Annual 55 Water St Ny Ny              East River & Movable                               \"Civil Service Title- Assistant Civil Engineer ... OR REACHABLE ON EXAM #5015.     PLEASE ATTACH Y... investigations or studies related to engineerin... write specifications and prepare estimates. The...  checking and certifying the installation of ma...  NY                                  NY\"                                                1.  A baccalaureate degree from an accredited c... At least one to three years of Bridge related e... \"The City of New York is an inclusive equal opp... including but not limited to an individual's sex   race                                               color                                              ethnicity                                          national origin                                                                                   NaN   \n",
              "687673 DEPT OF DESIGN & CONSTRUCTION External 1 Project Manager                   ASSISTANT ARCHITECT         Competitive-1     21210 00 \"Engineering                  Architecture  & Planning\"    F  Experienced (non-manager) 64242  73878         Annual 30-30 Thomson Ave L I City Qns PUB BLDGS/EXEC                                     \"Hours: Full-Time â 35 Hours Work Location: 3... LIC                                                NY                                                 11101  All interested candidates are welcome to...  the selected Project Manager assist with inter...  Chapter 11 of the NYC Building Code  as well as other applicable federal                state                                              and local statutes and regulations that pertai...  participating in interagency meetings with des... assisting with staff development                   and conducting weekly construction site visits ... extensions                                         or status changes                                  including STEM/OPT visas. Applicants are respon...                                                NaN   \n",
              "541356 BRONX DISTRICT ATTORNEY       External 6 Senior Rackets Investigator       SENIOR RACKETS INVESTIGATOR Non-Competitive-5 30831 00 \"Legal Affairs Public Safety  Inspections   & Enforcement\" F  Experienced (non-manager) 70877  70877         Annual 198 E161St Street Bronx N.Y.   Detective Investigators                            \"The Bronx District Attorneyâs Office is seek... with latitude for independent judgment and init... the Senior Investigator is responsible for cond... as a police officer                                 in the NYS DCJS Police registry. This position...  Audio equipment                      plate reader                                       LoJack tracking device                             mobile digital terminals                           and surveillance photographic equipment)  Prep... transport                                          and protect witnesses  Assist and mentor Racket... suggest work methods; monitor progress and prep... weekends                                           and holidays as necessary.  Must pass a psychol...                                                NaN   \n",
              "565643 DEPARTMENT OF TRANSPORTATION  Internal 3 ASSISTANT CIVIL ENGINEER          ASSISTANT CIVIL ENGINEER    Competitive-1     20210 00 \"Engineering                  Architecture  & Planning\"    F  Experienced (non-manager) 57078  85646         Annual 55 Water St Ny Ny              Bridges Roadways                                   \"The Assistant Civil Engineer will perform work... investigations or studies related to engineerin... write specifications and prepare estimates. The... checking and certifying the installation of mat... 1.  A baccalaureate degree from an accredited c... NaN                                  \"The City of New York is an inclusive equal opp...  including but not limited to an individual's sex   race                                               color                                             ethnicity                                          national origin                                    age                                                religion                                           disability                                                                                        NaN   \n",
              "\n",
              "                                                                                                                                                                                                                                                                                                                                                                                                                                                                                                                                                                                                                                                                                                                                                                                                                                                                                                                                                                                                                                                                                                                              Posting Date  \\\n",
              "689000 OFFICE OF THE COMPTROLLER     External 1 Legal Intern - Law and Adjustment SUMMER GRADUATE INTERN      Non-Competitive-5 10232 00 Legal Affairs                P             Student         19 21                        Hourly \"1 Centre St.  N.Y.\" Law and Adjustment             \"NOTE: All applicants must be current matricula...  an independently elected official                 is the Chief Financial Officer of the City of N... in order to secure a thriving future for all Ne... equitable                                           and resilient city. We utilize the tools and r...  investing strategically              living up to its promises and obligations          and keeping a sharp eye on the long-term chall...  the Comptroller                                    through the Bureau of Law and Adjustment (BLA)    negotiates and approves all monetary settlement... when in the best interest of the city              settles pre-litigation claims for and against t... BLA protects the fiscal interest of the City wh... and in accordance with applicable laws. BLA fur...   11/19/2024   \n",
              "635466 DEPARTMENT OF TRANSPORTATION  Internal 1 BOB- Assistant Civil Engineer     ASSISTANT CIVIL ENGINEER    Competitive-1     20210 00 \"Engineering                  Architecture  & Planning\"    F  Experienced (non-manager) 62370  93587         Annual 55 Water St Ny Ny              East River & Movable                               \"Civil Service Title- Assistant Civil Engineer ... OR REACHABLE ON EXAM #5015.     PLEASE ATTACH Y... investigations or studies related to engineerin... write specifications and prepare estimates. The...  checking and certifying the installation of ma...  NY                                  NY\"                                                1.  A baccalaureate degree from an accredited c... At least one to three years of Bridge related e... \"The City of New York is an inclusive equal opp... including but not limited to an individual's sex   race                                               color                                              ethnicity                                          national origin                                             NaN   \n",
              "687673 DEPT OF DESIGN & CONSTRUCTION External 1 Project Manager                   ASSISTANT ARCHITECT         Competitive-1     21210 00 \"Engineering                  Architecture  & Planning\"    F  Experienced (non-manager) 64242  73878         Annual 30-30 Thomson Ave L I City Qns PUB BLDGS/EXEC                                     \"Hours: Full-Time â 35 Hours Work Location: 3... LIC                                                NY                                                 11101  All interested candidates are welcome to...  the selected Project Manager assist with inter...  Chapter 11 of the NYC Building Code  as well as other applicable federal                state                                              and local statutes and regulations that pertai...  participating in interagency meetings with des... assisting with staff development                   and conducting weekly construction site visits ... extensions                                         or status changes                                  including STEM/OPT visas. Applicants are respon...          NaN   \n",
              "541356 BRONX DISTRICT ATTORNEY       External 6 Senior Rackets Investigator       SENIOR RACKETS INVESTIGATOR Non-Competitive-5 30831 00 \"Legal Affairs Public Safety  Inspections   & Enforcement\" F  Experienced (non-manager) 70877  70877         Annual 198 E161St Street Bronx N.Y.   Detective Investigators                            \"The Bronx District Attorneyâs Office is seek... with latitude for independent judgment and init... the Senior Investigator is responsible for cond... as a police officer                                 in the NYS DCJS Police registry. This position...  Audio equipment                      plate reader                                       LoJack tracking device                             mobile digital terminals                           and surveillance photographic equipment)  Prep... transport                                          and protect witnesses  Assist and mentor Racket... suggest work methods; monitor progress and prep... weekends                                           and holidays as necessary.  Must pass a psychol...          NaN   \n",
              "565643 DEPARTMENT OF TRANSPORTATION  Internal 3 ASSISTANT CIVIL ENGINEER          ASSISTANT CIVIL ENGINEER    Competitive-1     20210 00 \"Engineering                  Architecture  & Planning\"    F  Experienced (non-manager) 57078  85646         Annual 55 Water St Ny Ny              Bridges Roadways                                   \"The Assistant Civil Engineer will perform work... investigations or studies related to engineerin... write specifications and prepare estimates. The... checking and certifying the installation of mat... 1.  A baccalaureate degree from an accredited c... NaN                                  \"The City of New York is an inclusive equal opp...  including but not limited to an individual's sex   race                                               color                                             ethnicity                                          national origin                                    age                                                religion                                           disability                                                  NaN   \n",
              "\n",
              "                                                                                                                                                                                                                                                                                                                                                                                                                                                                                                                                                                                                                                                                                                                                                                                                                                                                                                                                                                                                                                                                                                                                Post Until  \\\n",
              "689000 OFFICE OF THE COMPTROLLER     External 1 Legal Intern - Law and Adjustment SUMMER GRADUATE INTERN      Non-Competitive-5 10232 00 Legal Affairs                P             Student         19 21                        Hourly \"1 Centre St.  N.Y.\" Law and Adjustment             \"NOTE: All applicants must be current matricula...  an independently elected official                 is the Chief Financial Officer of the City of N... in order to secure a thriving future for all Ne... equitable                                           and resilient city. We utilize the tools and r...  investing strategically              living up to its promises and obligations          and keeping a sharp eye on the long-term chall...  the Comptroller                                    through the Bureau of Law and Adjustment (BLA)    negotiates and approves all monetary settlement... when in the best interest of the city              settles pre-litigation claims for and against t... BLA protects the fiscal interest of the City wh... and in accordance with applicable laws. BLA fur...  01-MAR-2025   \n",
              "635466 DEPARTMENT OF TRANSPORTATION  Internal 1 BOB- Assistant Civil Engineer     ASSISTANT CIVIL ENGINEER    Competitive-1     20210 00 \"Engineering                  Architecture  & Planning\"    F  Experienced (non-manager) 62370  93587         Annual 55 Water St Ny Ny              East River & Movable                               \"Civil Service Title- Assistant Civil Engineer ... OR REACHABLE ON EXAM #5015.     PLEASE ATTACH Y... investigations or studies related to engineerin... write specifications and prepare estimates. The...  checking and certifying the installation of ma...  NY                                  NY\"                                                1.  A baccalaureate degree from an accredited c... At least one to three years of Bridge related e... \"The City of New York is an inclusive equal opp... including but not limited to an individual's sex   race                                               color                                              ethnicity                                          national origin                                             NaN   \n",
              "687673 DEPT OF DESIGN & CONSTRUCTION External 1 Project Manager                   ASSISTANT ARCHITECT         Competitive-1     21210 00 \"Engineering                  Architecture  & Planning\"    F  Experienced (non-manager) 64242  73878         Annual 30-30 Thomson Ave L I City Qns PUB BLDGS/EXEC                                     \"Hours: Full-Time â 35 Hours Work Location: 3... LIC                                                NY                                                 11101  All interested candidates are welcome to...  the selected Project Manager assist with inter...  Chapter 11 of the NYC Building Code  as well as other applicable federal                state                                              and local statutes and regulations that pertai...  participating in interagency meetings with des... assisting with staff development                   and conducting weekly construction site visits ... extensions                                         or status changes                                  including STEM/OPT visas. Applicants are respon...          NaN   \n",
              "541356 BRONX DISTRICT ATTORNEY       External 6 Senior Rackets Investigator       SENIOR RACKETS INVESTIGATOR Non-Competitive-5 30831 00 \"Legal Affairs Public Safety  Inspections   & Enforcement\" F  Experienced (non-manager) 70877  70877         Annual 198 E161St Street Bronx N.Y.   Detective Investigators                            \"The Bronx District Attorneyâs Office is seek... with latitude for independent judgment and init... the Senior Investigator is responsible for cond... as a police officer                                 in the NYS DCJS Police registry. This position...  Audio equipment                      plate reader                                       LoJack tracking device                             mobile digital terminals                           and surveillance photographic equipment)  Prep... transport                                          and protect witnesses  Assist and mentor Racket... suggest work methods; monitor progress and prep... weekends                                           and holidays as necessary.  Must pass a psychol...          NaN   \n",
              "565643 DEPARTMENT OF TRANSPORTATION  Internal 3 ASSISTANT CIVIL ENGINEER          ASSISTANT CIVIL ENGINEER    Competitive-1     20210 00 \"Engineering                  Architecture  & Planning\"    F  Experienced (non-manager) 57078  85646         Annual 55 Water St Ny Ny              Bridges Roadways                                   \"The Assistant Civil Engineer will perform work... investigations or studies related to engineerin... write specifications and prepare estimates. The... checking and certifying the installation of mat... 1.  A baccalaureate degree from an accredited c... NaN                                  \"The City of New York is an inclusive equal opp...  including but not limited to an individual's sex   race                                               color                                             ethnicity                                          national origin                                    age                                                religion                                           disability                                                  NaN   \n",
              "\n",
              "                                                                                                                                                                                                                                                                                                                                                                                                                                                                                                                                                                                                                                                                                                                                                                                                                                                                                                                                                                                                                                                                                                                              Posting Updated  \\\n",
              "689000 OFFICE OF THE COMPTROLLER     External 1 Legal Intern - Law and Adjustment SUMMER GRADUATE INTERN      Non-Competitive-5 10232 00 Legal Affairs                P             Student         19 21                        Hourly \"1 Centre St.  N.Y.\" Law and Adjustment             \"NOTE: All applicants must be current matricula...  an independently elected official                 is the Chief Financial Officer of the City of N... in order to secure a thriving future for all Ne... equitable                                           and resilient city. We utilize the tools and r...  investing strategically              living up to its promises and obligations          and keeping a sharp eye on the long-term chall...  the Comptroller                                    through the Bureau of Law and Adjustment (BLA)    negotiates and approves all monetary settlement... when in the best interest of the city              settles pre-litigation claims for and against t... BLA protects the fiscal interest of the City wh... and in accordance with applicable laws. BLA fur...      11/19/2024   \n",
              "635466 DEPARTMENT OF TRANSPORTATION  Internal 1 BOB- Assistant Civil Engineer     ASSISTANT CIVIL ENGINEER    Competitive-1     20210 00 \"Engineering                  Architecture  & Planning\"    F  Experienced (non-manager) 62370  93587         Annual 55 Water St Ny Ny              East River & Movable                               \"Civil Service Title- Assistant Civil Engineer ... OR REACHABLE ON EXAM #5015.     PLEASE ATTACH Y... investigations or studies related to engineerin... write specifications and prepare estimates. The...  checking and certifying the installation of ma...  NY                                  NY\"                                                1.  A baccalaureate degree from an accredited c... At least one to three years of Bridge related e... \"The City of New York is an inclusive equal opp... including but not limited to an individual's sex   race                                               color                                              ethnicity                                          national origin                                                NaN   \n",
              "687673 DEPT OF DESIGN & CONSTRUCTION External 1 Project Manager                   ASSISTANT ARCHITECT         Competitive-1     21210 00 \"Engineering                  Architecture  & Planning\"    F  Experienced (non-manager) 64242  73878         Annual 30-30 Thomson Ave L I City Qns PUB BLDGS/EXEC                                     \"Hours: Full-Time â 35 Hours Work Location: 3... LIC                                                NY                                                 11101  All interested candidates are welcome to...  the selected Project Manager assist with inter...  Chapter 11 of the NYC Building Code  as well as other applicable federal                state                                              and local statutes and regulations that pertai...  participating in interagency meetings with des... assisting with staff development                   and conducting weekly construction site visits ... extensions                                         or status changes                                  including STEM/OPT visas. Applicants are respon...             NaN   \n",
              "541356 BRONX DISTRICT ATTORNEY       External 6 Senior Rackets Investigator       SENIOR RACKETS INVESTIGATOR Non-Competitive-5 30831 00 \"Legal Affairs Public Safety  Inspections   & Enforcement\" F  Experienced (non-manager) 70877  70877         Annual 198 E161St Street Bronx N.Y.   Detective Investigators                            \"The Bronx District Attorneyâs Office is seek... with latitude for independent judgment and init... the Senior Investigator is responsible for cond... as a police officer                                 in the NYS DCJS Police registry. This position...  Audio equipment                      plate reader                                       LoJack tracking device                             mobile digital terminals                           and surveillance photographic equipment)  Prep... transport                                          and protect witnesses  Assist and mentor Racket... suggest work methods; monitor progress and prep... weekends                                           and holidays as necessary.  Must pass a psychol...             NaN   \n",
              "565643 DEPARTMENT OF TRANSPORTATION  Internal 3 ASSISTANT CIVIL ENGINEER          ASSISTANT CIVIL ENGINEER    Competitive-1     20210 00 \"Engineering                  Architecture  & Planning\"    F  Experienced (non-manager) 57078  85646         Annual 55 Water St Ny Ny              Bridges Roadways                                   \"The Assistant Civil Engineer will perform work... investigations or studies related to engineerin... write specifications and prepare estimates. The... checking and certifying the installation of mat... 1.  A baccalaureate degree from an accredited c... NaN                                  \"The City of New York is an inclusive equal opp...  including but not limited to an individual's sex   race                                               color                                             ethnicity                                          national origin                                    age                                                religion                                           disability                                                     NaN   \n",
              "\n",
              "                                                                                                                                                                                                                                                                                                                                                                                                                                                                                                                                                                                                                                                                                                                                                                                                                                                                                                                                                                                                                                                                                                                              Process Date  \n",
              "689000 OFFICE OF THE COMPTROLLER     External 1 Legal Intern - Law and Adjustment SUMMER GRADUATE INTERN      Non-Competitive-5 10232 00 Legal Affairs                P             Student         19 21                        Hourly \"1 Centre St.  N.Y.\" Law and Adjustment             \"NOTE: All applicants must be current matricula...  an independently elected official                 is the Chief Financial Officer of the City of N... in order to secure a thriving future for all Ne... equitable                                           and resilient city. We utilize the tools and r...  investing strategically              living up to its promises and obligations          and keeping a sharp eye on the long-term chall...  the Comptroller                                    through the Bureau of Law and Adjustment (BLA)    negotiates and approves all monetary settlement... when in the best interest of the city              settles pre-litigation claims for and against t... BLA protects the fiscal interest of the City wh... and in accordance with applicable laws. BLA fur...   01/14/2025  \n",
              "635466 DEPARTMENT OF TRANSPORTATION  Internal 1 BOB- Assistant Civil Engineer     ASSISTANT CIVIL ENGINEER    Competitive-1     20210 00 \"Engineering                  Architecture  & Planning\"    F  Experienced (non-manager) 62370  93587         Annual 55 Water St Ny Ny              East River & Movable                               \"Civil Service Title- Assistant Civil Engineer ... OR REACHABLE ON EXAM #5015.     PLEASE ATTACH Y... investigations or studies related to engineerin... write specifications and prepare estimates. The...  checking and certifying the installation of ma...  NY                                  NY\"                                                1.  A baccalaureate degree from an accredited c... At least one to three years of Bridge related e... \"The City of New York is an inclusive equal opp... including but not limited to an individual's sex   race                                               color                                              ethnicity                                          national origin                                             NaN  \n",
              "687673 DEPT OF DESIGN & CONSTRUCTION External 1 Project Manager                   ASSISTANT ARCHITECT         Competitive-1     21210 00 \"Engineering                  Architecture  & Planning\"    F  Experienced (non-manager) 64242  73878         Annual 30-30 Thomson Ave L I City Qns PUB BLDGS/EXEC                                     \"Hours: Full-Time â 35 Hours Work Location: 3... LIC                                                NY                                                 11101  All interested candidates are welcome to...  the selected Project Manager assist with inter...  Chapter 11 of the NYC Building Code  as well as other applicable federal                state                                              and local statutes and regulations that pertai...  participating in interagency meetings with des... assisting with staff development                   and conducting weekly construction site visits ... extensions                                         or status changes                                  including STEM/OPT visas. Applicants are respon...          NaN  \n",
              "541356 BRONX DISTRICT ATTORNEY       External 6 Senior Rackets Investigator       SENIOR RACKETS INVESTIGATOR Non-Competitive-5 30831 00 \"Legal Affairs Public Safety  Inspections   & Enforcement\" F  Experienced (non-manager) 70877  70877         Annual 198 E161St Street Bronx N.Y.   Detective Investigators                            \"The Bronx District Attorneyâs Office is seek... with latitude for independent judgment and init... the Senior Investigator is responsible for cond... as a police officer                                 in the NYS DCJS Police registry. This position...  Audio equipment                      plate reader                                       LoJack tracking device                             mobile digital terminals                           and surveillance photographic equipment)  Prep... transport                                          and protect witnesses  Assist and mentor Racket... suggest work methods; monitor progress and prep... weekends                                           and holidays as necessary.  Must pass a psychol...          NaN  \n",
              "565643 DEPARTMENT OF TRANSPORTATION  Internal 3 ASSISTANT CIVIL ENGINEER          ASSISTANT CIVIL ENGINEER    Competitive-1     20210 00 \"Engineering                  Architecture  & Planning\"    F  Experienced (non-manager) 57078  85646         Annual 55 Water St Ny Ny              Bridges Roadways                                   \"The Assistant Civil Engineer will perform work... investigations or studies related to engineerin... write specifications and prepare estimates. The... checking and certifying the installation of mat... 1.  A baccalaureate degree from an accredited c... NaN                                  \"The City of New York is an inclusive equal opp...  including but not limited to an individual's sex   race                                               color                                             ethnicity                                          national origin                                    age                                                religion                                           disability                                                  NaN  \n",
              "\n",
              "[5 rows x 30 columns]"
            ],
            "text/html": [
              "\n",
              "  <div id=\"df-7413fcd5-d129-44e4-899d-73438ade1010\" class=\"colab-df-container\">\n",
              "    <div>\n",
              "<style scoped>\n",
              "    .dataframe tbody tr th:only-of-type {\n",
              "        vertical-align: middle;\n",
              "    }\n",
              "\n",
              "    .dataframe tbody tr th {\n",
              "        vertical-align: top;\n",
              "    }\n",
              "\n",
              "    .dataframe thead th {\n",
              "        text-align: right;\n",
              "    }\n",
              "</style>\n",
              "<table border=\"1\" class=\"dataframe\">\n",
              "  <thead>\n",
              "    <tr style=\"text-align: right;\">\n",
              "      <th></th>\n",
              "      <th></th>\n",
              "      <th></th>\n",
              "      <th></th>\n",
              "      <th></th>\n",
              "      <th></th>\n",
              "      <th></th>\n",
              "      <th></th>\n",
              "      <th></th>\n",
              "      <th></th>\n",
              "      <th></th>\n",
              "      <th></th>\n",
              "      <th></th>\n",
              "      <th></th>\n",
              "      <th></th>\n",
              "      <th></th>\n",
              "      <th></th>\n",
              "      <th></th>\n",
              "      <th></th>\n",
              "      <th></th>\n",
              "      <th></th>\n",
              "      <th></th>\n",
              "      <th></th>\n",
              "      <th></th>\n",
              "      <th></th>\n",
              "      <th></th>\n",
              "      <th></th>\n",
              "      <th></th>\n",
              "      <th></th>\n",
              "      <th></th>\n",
              "      <th></th>\n",
              "      <th></th>\n",
              "      <th></th>\n",
              "      <th></th>\n",
              "      <th>Job ID</th>\n",
              "      <th>Agency</th>\n",
              "      <th>Posting Type</th>\n",
              "      <th># Of Positions</th>\n",
              "      <th>Business Title</th>\n",
              "      <th>Civil Service Title</th>\n",
              "      <th>Title Classification</th>\n",
              "      <th>Title Code No</th>\n",
              "      <th>Level</th>\n",
              "      <th>Job Category</th>\n",
              "      <th>...</th>\n",
              "      <th>Additional Information</th>\n",
              "      <th>To Apply</th>\n",
              "      <th>Hours/Shift</th>\n",
              "      <th>Work Location 1</th>\n",
              "      <th>Recruitment Contact</th>\n",
              "      <th>Residency Requirement</th>\n",
              "      <th>Posting Date</th>\n",
              "      <th>Post Until</th>\n",
              "      <th>Posting Updated</th>\n",
              "      <th>Process Date</th>\n",
              "    </tr>\n",
              "  </thead>\n",
              "  <tbody>\n",
              "    <tr>\n",
              "      <th>689000</th>\n",
              "      <th>OFFICE OF THE COMPTROLLER</th>\n",
              "      <th>External</th>\n",
              "      <th>1</th>\n",
              "      <th>Legal Intern - Law and Adjustment</th>\n",
              "      <th>SUMMER GRADUATE INTERN</th>\n",
              "      <th>Non-Competitive-5</th>\n",
              "      <th>10232</th>\n",
              "      <th>00</th>\n",
              "      <th>Legal Affairs</th>\n",
              "      <th>P</th>\n",
              "      <th>Student</th>\n",
              "      <th>19</th>\n",
              "      <th>21</th>\n",
              "      <th>Hourly</th>\n",
              "      <th>\"1 Centre St.</th>\n",
              "      <th>N.Y.\"</th>\n",
              "      <th>Law and Adjustment</th>\n",
              "      <th>\"NOTE: All applicants must be current matriculated students at an accredited United States law school.  The New York City Comptroller</th>\n",
              "      <th>an independently elected official</th>\n",
              "      <th>is the Chief Financial Officer of the City of New York. The mission of the office is to promote the financial integrity and operational effectiveness of New York City government</th>\n",
              "      <th>in order to secure a thriving future for all New Yorkers and build a more just</th>\n",
              "      <th>equitable</th>\n",
              "      <th>and resilient city. We utilize the tools and responsibilities that the City Charter assigns us to ensure that City government is budgeting wisely</th>\n",
              "      <th>investing strategically</th>\n",
              "      <th>living up to its promises and obligations</th>\n",
              "      <th>and keeping a sharp eye on the long-term challenges to come.  Authorized by the New York City Charter</th>\n",
              "      <th>the Comptroller</th>\n",
              "      <th>through the Bureau of Law and Adjustment (BLA)</th>\n",
              "      <th>negotiates and approves all monetary settlement of claims and lawsuits involving the City of New York. BLA investigates and</th>\n",
              "      <th>when in the best interest of the city</th>\n",
              "      <th>settles pre-litigation claims for and against the City of New York. In resolving claims before litigation is commenced</th>\n",
              "      <th>BLA protects the fiscal interest of the City while ensuring that pre-litigation claims are resolved in a fair and just manner</th>\n",
              "      <th>and in accordance with applicable laws. BLA furthers this goal in its review</th>\n",
              "      <td>evaluation</td>\n",
              "      <td>and authorization of requests to settle litig...</td>\n",
              "      <td>rooting out fraud</td>\n",
              "      <td>and identifying trends</td>\n",
              "      <td>as well as</td>\n",
              "      <td>coordinating with the Law Department and othe...</td>\n",
              "      <td>1 Centre St. in Manhattan/New York. - All int...</td>\n",
              "      <td>Monday â Thursday</td>\n",
              "      <td>28 hours per week. - The employment period wi...</td>\n",
              "      <td>2025.\"</td>\n",
              "      <td>...</td>\n",
              "      <td>Suffolk</td>\n",
              "      <td>Putnam</td>\n",
              "      <td>Westchester</td>\n",
              "      <td>Rockland</td>\n",
              "      <td>or Orange County. To determine if the residen...</td>\n",
              "      <td>please discuss with the agency representative...</td>\n",
              "      <td>11/19/2024</td>\n",
              "      <td>01-MAR-2025</td>\n",
              "      <td>11/19/2024</td>\n",
              "      <td>01/14/2025</td>\n",
              "    </tr>\n",
              "    <tr>\n",
              "      <th>635466</th>\n",
              "      <th>DEPARTMENT OF TRANSPORTATION</th>\n",
              "      <th>Internal</th>\n",
              "      <th>1</th>\n",
              "      <th>BOB- Assistant Civil Engineer</th>\n",
              "      <th>ASSISTANT CIVIL ENGINEER</th>\n",
              "      <th>Competitive-1</th>\n",
              "      <th>20210</th>\n",
              "      <th>00</th>\n",
              "      <th>\"Engineering</th>\n",
              "      <th>Architecture</th>\n",
              "      <th>&amp; Planning\"</th>\n",
              "      <th>F</th>\n",
              "      <th>Experienced (non-manager)</th>\n",
              "      <th>62370</th>\n",
              "      <th>93587</th>\n",
              "      <th>Annual</th>\n",
              "      <th>55 Water St Ny Ny</th>\n",
              "      <th>East River &amp; Movable</th>\n",
              "      <th>\"Civil Service Title- Assistant Civil Engineer   * IN ORDER TO BE CONSIDERED FOR THIS POSITION CANDIDATE MUST BE SERVING PERMANENTLY IN THE TITLE OF ASSISTANT CIVIL ENGINEER</th>\n",
              "      <th>OR REACHABLE ON EXAM #5015.     PLEASE ATTACH YOUR PROOF IF FILING / NOTICE OF RESULTS.   The Assistant Civil Engineer will perform work of moderate difficulty and responsibility. Engage in research</th>\n",
              "      <th>investigations or studies related to engineering functions and activities. They will develop drawings</th>\n",
              "      <th>write specifications and prepare estimates. They will participate in inspection operations by observing</th>\n",
              "      <th>checking and certifying the installation of material an equipment. Perform other related duties and will be assigned to various Bridge projects.  Skills- At least one to three years of Bridge related experience.  Proficient in Microsoft word/excel. A Valid New York State Driver's License.  Work Location-  55 Water St</th>\n",
              "      <th>NY</th>\n",
              "      <th>NY\"</th>\n",
              "      <th>1.  A baccalaureate degree from an accredited college in civil engineering and one year of full-time satisfactory experience in civil engineering work; or  2.  A baccalaureate degree from an accredited college and a Master's degree from an accredited college in civil engineering.</th>\n",
              "      <th>At least one to three years of Bridge related experience.  Proficient in Microsoft word/excel. A Valid New York State Driver's License.</th>\n",
              "      <th>\"The City of New York is an inclusive equal opportunity employer committed to recruiting and retaining a diverse workforce and providing a work environment that is free from discrimination and harassment based upon any legally protected status or protected characteristic</th>\n",
              "      <th>including but not limited to an individual's sex</th>\n",
              "      <th>race</th>\n",
              "      <th>color</th>\n",
              "      <th>ethnicity</th>\n",
              "      <th>national origin</th>\n",
              "      <td>age</td>\n",
              "      <td>religion</td>\n",
              "      <td>disability</td>\n",
              "      <td>sexual orientation</td>\n",
              "      <td>veteran status</td>\n",
              "      <td>gender identity</td>\n",
              "      <td>or pregnancy.   As a current or prospective e...</td>\n",
              "      <td>you may be eligible for federal loan forgiven...</td>\n",
              "      <td>OR REACHABLE ON EXAM #5015.     PLEASE ATTACH...</td>\n",
              "      <td>\"Resumes may be submitted electronically using...</td>\n",
              "      <td>...</td>\n",
              "      <td>NaN</td>\n",
              "      <td>10/02/2024</td>\n",
              "      <td>01/14/2025</td>\n",
              "      <td>NaN</td>\n",
              "      <td>NaN</td>\n",
              "      <td>NaN</td>\n",
              "      <td>NaN</td>\n",
              "      <td>NaN</td>\n",
              "      <td>NaN</td>\n",
              "      <td>NaN</td>\n",
              "    </tr>\n",
              "    <tr>\n",
              "      <th>687673</th>\n",
              "      <th>DEPT OF DESIGN &amp; CONSTRUCTION</th>\n",
              "      <th>External</th>\n",
              "      <th>1</th>\n",
              "      <th>Project Manager</th>\n",
              "      <th>ASSISTANT ARCHITECT</th>\n",
              "      <th>Competitive-1</th>\n",
              "      <th>21210</th>\n",
              "      <th>00</th>\n",
              "      <th>\"Engineering</th>\n",
              "      <th>Architecture</th>\n",
              "      <th>&amp; Planning\"</th>\n",
              "      <th>F</th>\n",
              "      <th>Experienced (non-manager)</th>\n",
              "      <th>64242</th>\n",
              "      <th>73878</th>\n",
              "      <th>Annual</th>\n",
              "      <th>30-30 Thomson Ave L I City Qns</th>\n",
              "      <th>PUB BLDGS/EXEC</th>\n",
              "      <th>\"Hours: Full-Time â 35 Hours Work Location: 30-30 Thomson Avenue</th>\n",
              "      <th>LIC</th>\n",
              "      <th>NY</th>\n",
              "      <th>11101  All interested candidates are welcome to apply and will be considered for an interview based on the Minimum Qualification Requirements. Please indicate on your cover letter if you are permanent in the Assistant Architect title or if you are on the Open-Competitive List for Exam #0121.  Reporting directly to the Deputy Director of ADA Compliance within the NYC Department of Design and Constructionâs Division of Public Buildings</th>\n",
              "      <th>the selected Project Manager assist with interpreting and applying the 2010 ADA Standards</th>\n",
              "      <th>Chapter 11 of the NYC Building Code</th>\n",
              "      <th>as well as other applicable federal</th>\n",
              "      <th>state</th>\n",
              "      <th>and local statutes and regulations that pertain to accessibility. The candidate will ensure the compliant design and construction of all capital projects by performing reviews of outside design consultants' work</th>\n",
              "      <th>participating in interagency meetings with design consultants and internal DDC staff</th>\n",
              "      <th>assisting with staff development</th>\n",
              "      <th>and conducting weekly construction site visits to assess the level of ADA/Accessibility compliance.  Authorization to work in the United States is required for this position. NYC Department of Design and Construction does not provide sponsorship for international employees for visa applications</th>\n",
              "      <th>extensions</th>\n",
              "      <th>or status changes</th>\n",
              "      <th>including STEM/OPT visas. Applicants are responsible for ensuring that they meet all qualifying requirements for this position</th>\n",
              "      <td>at the time of application.  All applicants</td>\n",
              "      <td>including City Employees: Please go to NYC Go...</td>\n",
              "      <td>go to Search for Open Jobs</td>\n",
              "      <td>and type in the Job ID # listed above. Submit...</td>\n",
              "      <td>e-mail</td>\n",
              "      <td>mail</td>\n",
              "      <td>or fax your resume to DDC directly.\"</td>\n",
              "      <td>\"1. A Bachelor or a Master of Architecture deg...</td>\n",
              "      <td>this license must be maintained for the durat...</td>\n",
              "      <td>\"Preference will be given to candidates with a...</td>\n",
              "      <td>...</td>\n",
              "      <td>11/18/2024</td>\n",
              "      <td>01/14/2025</td>\n",
              "      <td>NaN</td>\n",
              "      <td>NaN</td>\n",
              "      <td>NaN</td>\n",
              "      <td>NaN</td>\n",
              "      <td>NaN</td>\n",
              "      <td>NaN</td>\n",
              "      <td>NaN</td>\n",
              "      <td>NaN</td>\n",
              "    </tr>\n",
              "    <tr>\n",
              "      <th>541356</th>\n",
              "      <th>BRONX DISTRICT ATTORNEY</th>\n",
              "      <th>External</th>\n",
              "      <th>6</th>\n",
              "      <th>Senior Rackets Investigator</th>\n",
              "      <th>SENIOR RACKETS INVESTIGATOR</th>\n",
              "      <th>Non-Competitive-5</th>\n",
              "      <th>30831</th>\n",
              "      <th>00</th>\n",
              "      <th>\"Legal Affairs Public Safety</th>\n",
              "      <th>Inspections</th>\n",
              "      <th>&amp; Enforcement\"</th>\n",
              "      <th>F</th>\n",
              "      <th>Experienced (non-manager)</th>\n",
              "      <th>70877</th>\n",
              "      <th>70877</th>\n",
              "      <th>Annual</th>\n",
              "      <th>198 E161St Street Bronx N.Y.</th>\n",
              "      <th>Detective Investigators</th>\n",
              "      <th>\"The Bronx District Attorneyâs Office is seeking a well-qualified staff whose diverse backgrounds reflect an ability to serve the over 1.3 million members of the Bronx County community and pursue a safer Bronx through fair justice. Under supervision</th>\n",
              "      <th>with latitude for independent judgment and initiative</th>\n",
              "      <th>the Senior Investigator is responsible for conducting a wide variety of investigations. This is a sworn police officer position which requires an experienced candidate. The candidate must meet all qualifications to be certified</th>\n",
              "      <th>as a police officer</th>\n",
              "      <th>in the NYS DCJS Police registry. This position requires the successful completion of police academy training in New York State and requires applicants to pass a mandatory background check to carry a firearm.     JOB RESPONSIBILITIES:  Conduct thorough and professional investigations in a discreet manner as assigned  Execute search warrants and effect arrests  Participate in court-ordered electronic eavesdropping  Mentor and assist junior investigators when appropriate  Continuing case management and review  Provide on-going status updates to the D/C and Chief Detective Investigator.  Ability to access and utilize various computer databases  Ability to liaison with other law enforcement agencies and government and financial institutions.  Assist investigators and Assistant District Attorneys in preparation for court proceedings  Testify before grand or petit juries regarding investigations  Conduct complex and highly confidential investigations and relevant research  Assist and mentor investigators in the use of electronic and technical equipment (e.g.</th>\n",
              "      <th>Audio equipment</th>\n",
              "      <th>plate reader</th>\n",
              "      <th>LoJack tracking device</th>\n",
              "      <th>mobile digital terminals</th>\n",
              "      <th>and surveillance photographic equipment)  Prepare reports and maintains records of activities and investigations.  Participate in protective details and locate</th>\n",
              "      <th>transport</th>\n",
              "      <th>and protect witnesses  Assist and mentor Rackets Investigators</th>\n",
              "      <th>suggest work methods; monitor progress and prepare and review reports Participate in extraditions and related travel    REQUIREMENTS  The ideal candidate must have a valid certificate of completion from a New York State Basic Course for Police Officers academy or must be eligible to attend and complete a Police Officer Refresher course.  All applicants must possess a valid NY State driverâs license and be able to work evenings</th>\n",
              "      <th>weekends</th>\n",
              "      <th>and holidays as necessary.  Must pass a psychological and physical exam and a background check.  Must be qualified to Carry a Firearm  Prior experience working within the New York City criminal justice system and/or experience as a police officer within the State of New York is a plus.  Extensive knowledge and investigative experience in one or more of the following areas is preferred: homicides</th>\n",
              "      <td>robberies</td>\n",
              "      <td>grand larceny</td>\n",
              "      <td>financial crimes</td>\n",
              "      <td>fraud</td>\n",
              "      <td>and identity theft.  As per NY Public Officer...</td>\n",
              "      <td>Â§3-B</td>\n",
              "      <td>U.S. citizenship required.\"</td>\n",
              "      <td>\"1. Graduation from high school or its equival...</td>\n",
              "      <td>paid experience in police enforcement or inve...</td>\n",
              "      <td>one year of which must have been in rackets o...</td>\n",
              "      <td>...</td>\n",
              "      <td>New York State Residency is REQUIRED on the fi...</td>\n",
              "      <td>07/20/2022</td>\n",
              "      <td>14-APR-2025</td>\n",
              "      <td>07/09/2024</td>\n",
              "      <td>01/14/2025</td>\n",
              "      <td>NaN</td>\n",
              "      <td>NaN</td>\n",
              "      <td>NaN</td>\n",
              "      <td>NaN</td>\n",
              "      <td>NaN</td>\n",
              "    </tr>\n",
              "    <tr>\n",
              "      <th>565643</th>\n",
              "      <th>DEPARTMENT OF TRANSPORTATION</th>\n",
              "      <th>Internal</th>\n",
              "      <th>3</th>\n",
              "      <th>ASSISTANT CIVIL ENGINEER</th>\n",
              "      <th>ASSISTANT CIVIL ENGINEER</th>\n",
              "      <th>Competitive-1</th>\n",
              "      <th>20210</th>\n",
              "      <th>00</th>\n",
              "      <th>\"Engineering</th>\n",
              "      <th>Architecture</th>\n",
              "      <th>&amp; Planning\"</th>\n",
              "      <th>F</th>\n",
              "      <th>Experienced (non-manager)</th>\n",
              "      <th>57078</th>\n",
              "      <th>85646</th>\n",
              "      <th>Annual</th>\n",
              "      <th>55 Water St Ny Ny</th>\n",
              "      <th>Bridges Roadways</th>\n",
              "      <th>\"The Assistant Civil Engineer will perform work of moderate difficulty and responsibility. Engage in research</th>\n",
              "      <th>investigations or studies related to engineering functions and activities. They will develop drawings</th>\n",
              "      <th>write specifications and prepare estimates. They will participate in inspection operations by observing</th>\n",
              "      <th>checking and certifying the installation of material an equipment. Perform other related duties and will be assigned to various Bridge projects.\"</th>\n",
              "      <th>1.  A baccalaureate degree from an accredited college in civil engineering and one year of full-time satisfactory experience in civil engineering work; or  2.  A baccalaureate degree from an accredited college and a Master's degree from an accredited college in civil engineering.</th>\n",
              "      <th>NaN</th>\n",
              "      <th>\"The City of New York is an inclusive equal opportunity employer committed to recruiting and retaining a diverse workforce and providing a work environment that is free from discrimination and harassment based upon any legally protected status or protected characteristic</th>\n",
              "      <th>including but not limited to an individual's sex</th>\n",
              "      <th>race</th>\n",
              "      <th>color</th>\n",
              "      <th>ethnicity</th>\n",
              "      <th>national origin</th>\n",
              "      <th>age</th>\n",
              "      <th>religion</th>\n",
              "      <th>disability</th>\n",
              "      <td>sexual orientation</td>\n",
              "      <td>veteran status</td>\n",
              "      <td>gender identity</td>\n",
              "      <td>or pregnancy.  As a current or prospective em...</td>\n",
              "      <td>you may be eligible for federal loan forgiven...</td>\n",
              "      <td>\"Resumes may be submitted electronically using...</td>\n",
              "      <td>go to Employee Self Service (ESS)</td>\n",
              "      <td>Careers</td>\n",
              "      <td>and Search for Job ID# 565643 For other appli...</td>\n",
              "      <td>go to www.nyc.gov/careers and search for Job ...</td>\n",
              "      <td>...</td>\n",
              "      <td>NaN</td>\n",
              "      <td>NaN</td>\n",
              "      <td>NaN</td>\n",
              "      <td>NaN</td>\n",
              "      <td>NaN</td>\n",
              "      <td>NaN</td>\n",
              "      <td>NaN</td>\n",
              "      <td>NaN</td>\n",
              "      <td>NaN</td>\n",
              "      <td>NaN</td>\n",
              "    </tr>\n",
              "  </tbody>\n",
              "</table>\n",
              "<p>5 rows × 30 columns</p>\n",
              "</div>\n",
              "    <div class=\"colab-df-buttons\">\n",
              "\n",
              "  <div class=\"colab-df-container\">\n",
              "    <button class=\"colab-df-convert\" onclick=\"convertToInteractive('df-7413fcd5-d129-44e4-899d-73438ade1010')\"\n",
              "            title=\"Convert this dataframe to an interactive table.\"\n",
              "            style=\"display:none;\">\n",
              "\n",
              "  <svg xmlns=\"http://www.w3.org/2000/svg\" height=\"24px\" viewBox=\"0 -960 960 960\">\n",
              "    <path d=\"M120-120v-720h720v720H120Zm60-500h600v-160H180v160Zm220 220h160v-160H400v160Zm0 220h160v-160H400v160ZM180-400h160v-160H180v160Zm440 0h160v-160H620v160ZM180-180h160v-160H180v160Zm440 0h160v-160H620v160Z\"/>\n",
              "  </svg>\n",
              "    </button>\n",
              "\n",
              "  <style>\n",
              "    .colab-df-container {\n",
              "      display:flex;\n",
              "      gap: 12px;\n",
              "    }\n",
              "\n",
              "    .colab-df-convert {\n",
              "      background-color: #E8F0FE;\n",
              "      border: none;\n",
              "      border-radius: 50%;\n",
              "      cursor: pointer;\n",
              "      display: none;\n",
              "      fill: #1967D2;\n",
              "      height: 32px;\n",
              "      padding: 0 0 0 0;\n",
              "      width: 32px;\n",
              "    }\n",
              "\n",
              "    .colab-df-convert:hover {\n",
              "      background-color: #E2EBFA;\n",
              "      box-shadow: 0px 1px 2px rgba(60, 64, 67, 0.3), 0px 1px 3px 1px rgba(60, 64, 67, 0.15);\n",
              "      fill: #174EA6;\n",
              "    }\n",
              "\n",
              "    .colab-df-buttons div {\n",
              "      margin-bottom: 4px;\n",
              "    }\n",
              "\n",
              "    [theme=dark] .colab-df-convert {\n",
              "      background-color: #3B4455;\n",
              "      fill: #D2E3FC;\n",
              "    }\n",
              "\n",
              "    [theme=dark] .colab-df-convert:hover {\n",
              "      background-color: #434B5C;\n",
              "      box-shadow: 0px 1px 3px 1px rgba(0, 0, 0, 0.15);\n",
              "      filter: drop-shadow(0px 1px 2px rgba(0, 0, 0, 0.3));\n",
              "      fill: #FFFFFF;\n",
              "    }\n",
              "  </style>\n",
              "\n",
              "    <script>\n",
              "      const buttonEl =\n",
              "        document.querySelector('#df-7413fcd5-d129-44e4-899d-73438ade1010 button.colab-df-convert');\n",
              "      buttonEl.style.display =\n",
              "        google.colab.kernel.accessAllowed ? 'block' : 'none';\n",
              "\n",
              "      async function convertToInteractive(key) {\n",
              "        const element = document.querySelector('#df-7413fcd5-d129-44e4-899d-73438ade1010');\n",
              "        const dataTable =\n",
              "          await google.colab.kernel.invokeFunction('convertToInteractive',\n",
              "                                                    [key], {});\n",
              "        if (!dataTable) return;\n",
              "\n",
              "        const docLinkHtml = 'Like what you see? Visit the ' +\n",
              "          '<a target=\"_blank\" href=https://colab.research.google.com/notebooks/data_table.ipynb>data table notebook</a>'\n",
              "          + ' to learn more about interactive tables.';\n",
              "        element.innerHTML = '';\n",
              "        dataTable['output_type'] = 'display_data';\n",
              "        await google.colab.output.renderOutput(dataTable, element);\n",
              "        const docLink = document.createElement('div');\n",
              "        docLink.innerHTML = docLinkHtml;\n",
              "        element.appendChild(docLink);\n",
              "      }\n",
              "    </script>\n",
              "  </div>\n",
              "\n",
              "\n",
              "<div id=\"df-ee9f6256-a18d-46a2-8b64-aa8e2f1241fd\">\n",
              "  <button class=\"colab-df-quickchart\" onclick=\"quickchart('df-ee9f6256-a18d-46a2-8b64-aa8e2f1241fd')\"\n",
              "            title=\"Suggest charts\"\n",
              "            style=\"display:none;\">\n",
              "\n",
              "<svg xmlns=\"http://www.w3.org/2000/svg\" height=\"24px\"viewBox=\"0 0 24 24\"\n",
              "     width=\"24px\">\n",
              "    <g>\n",
              "        <path d=\"M19 3H5c-1.1 0-2 .9-2 2v14c0 1.1.9 2 2 2h14c1.1 0 2-.9 2-2V5c0-1.1-.9-2-2-2zM9 17H7v-7h2v7zm4 0h-2V7h2v10zm4 0h-2v-4h2v4z\"/>\n",
              "    </g>\n",
              "</svg>\n",
              "  </button>\n",
              "\n",
              "<style>\n",
              "  .colab-df-quickchart {\n",
              "      --bg-color: #E8F0FE;\n",
              "      --fill-color: #1967D2;\n",
              "      --hover-bg-color: #E2EBFA;\n",
              "      --hover-fill-color: #174EA6;\n",
              "      --disabled-fill-color: #AAA;\n",
              "      --disabled-bg-color: #DDD;\n",
              "  }\n",
              "\n",
              "  [theme=dark] .colab-df-quickchart {\n",
              "      --bg-color: #3B4455;\n",
              "      --fill-color: #D2E3FC;\n",
              "      --hover-bg-color: #434B5C;\n",
              "      --hover-fill-color: #FFFFFF;\n",
              "      --disabled-bg-color: #3B4455;\n",
              "      --disabled-fill-color: #666;\n",
              "  }\n",
              "\n",
              "  .colab-df-quickchart {\n",
              "    background-color: var(--bg-color);\n",
              "    border: none;\n",
              "    border-radius: 50%;\n",
              "    cursor: pointer;\n",
              "    display: none;\n",
              "    fill: var(--fill-color);\n",
              "    height: 32px;\n",
              "    padding: 0;\n",
              "    width: 32px;\n",
              "  }\n",
              "\n",
              "  .colab-df-quickchart:hover {\n",
              "    background-color: var(--hover-bg-color);\n",
              "    box-shadow: 0 1px 2px rgba(60, 64, 67, 0.3), 0 1px 3px 1px rgba(60, 64, 67, 0.15);\n",
              "    fill: var(--button-hover-fill-color);\n",
              "  }\n",
              "\n",
              "  .colab-df-quickchart-complete:disabled,\n",
              "  .colab-df-quickchart-complete:disabled:hover {\n",
              "    background-color: var(--disabled-bg-color);\n",
              "    fill: var(--disabled-fill-color);\n",
              "    box-shadow: none;\n",
              "  }\n",
              "\n",
              "  .colab-df-spinner {\n",
              "    border: 2px solid var(--fill-color);\n",
              "    border-color: transparent;\n",
              "    border-bottom-color: var(--fill-color);\n",
              "    animation:\n",
              "      spin 1s steps(1) infinite;\n",
              "  }\n",
              "\n",
              "  @keyframes spin {\n",
              "    0% {\n",
              "      border-color: transparent;\n",
              "      border-bottom-color: var(--fill-color);\n",
              "      border-left-color: var(--fill-color);\n",
              "    }\n",
              "    20% {\n",
              "      border-color: transparent;\n",
              "      border-left-color: var(--fill-color);\n",
              "      border-top-color: var(--fill-color);\n",
              "    }\n",
              "    30% {\n",
              "      border-color: transparent;\n",
              "      border-left-color: var(--fill-color);\n",
              "      border-top-color: var(--fill-color);\n",
              "      border-right-color: var(--fill-color);\n",
              "    }\n",
              "    40% {\n",
              "      border-color: transparent;\n",
              "      border-right-color: var(--fill-color);\n",
              "      border-top-color: var(--fill-color);\n",
              "    }\n",
              "    60% {\n",
              "      border-color: transparent;\n",
              "      border-right-color: var(--fill-color);\n",
              "    }\n",
              "    80% {\n",
              "      border-color: transparent;\n",
              "      border-right-color: var(--fill-color);\n",
              "      border-bottom-color: var(--fill-color);\n",
              "    }\n",
              "    90% {\n",
              "      border-color: transparent;\n",
              "      border-bottom-color: var(--fill-color);\n",
              "    }\n",
              "  }\n",
              "</style>\n",
              "\n",
              "  <script>\n",
              "    async function quickchart(key) {\n",
              "      const quickchartButtonEl =\n",
              "        document.querySelector('#' + key + ' button');\n",
              "      quickchartButtonEl.disabled = true;  // To prevent multiple clicks.\n",
              "      quickchartButtonEl.classList.add('colab-df-spinner');\n",
              "      try {\n",
              "        const charts = await google.colab.kernel.invokeFunction(\n",
              "            'suggestCharts', [key], {});\n",
              "      } catch (error) {\n",
              "        console.error('Error during call to suggestCharts:', error);\n",
              "      }\n",
              "      quickchartButtonEl.classList.remove('colab-df-spinner');\n",
              "      quickchartButtonEl.classList.add('colab-df-quickchart-complete');\n",
              "    }\n",
              "    (() => {\n",
              "      let quickchartButtonEl =\n",
              "        document.querySelector('#df-ee9f6256-a18d-46a2-8b64-aa8e2f1241fd button');\n",
              "      quickchartButtonEl.style.display =\n",
              "        google.colab.kernel.accessAllowed ? 'block' : 'none';\n",
              "    })();\n",
              "  </script>\n",
              "</div>\n",
              "\n",
              "    </div>\n",
              "  </div>\n"
            ],
            "application/vnd.google.colaboratory.intrinsic+json": {
              "type": "dataframe",
              "variable_name": "df"
            }
          },
          "metadata": {},
          "execution_count": 5
        }
      ]
    },
    {
      "cell_type": "code",
      "source": [
        "# Show column name\n",
        "df.columns"
      ],
      "metadata": {
        "id": "PK6mRhL_za8T",
        "colab": {
          "base_uri": "https://localhost:8080/"
        },
        "outputId": "8ec17074-b7af-476b-c221-b1afdcb3a031"
      },
      "execution_count": null,
      "outputs": [
        {
          "output_type": "execute_result",
          "data": {
            "text/plain": [
              "Index(['Job ID', 'Agency', 'Posting Type', '# Of Positions', 'Business Title',\n",
              "       'Civil Service Title', 'Title Classification', 'Title Code No', 'Level',\n",
              "       'Job Category', 'Full-Time/Part-Time indicator', 'Career Level',\n",
              "       'Salary Range From', 'Salary Range To', 'Salary Frequency',\n",
              "       'Work Location', 'Division/Work Unit', 'Job Description',\n",
              "       'Minimum Qual Requirements', 'Preferred Skills',\n",
              "       'Additional Information', 'To Apply', 'Hours/Shift', 'Work Location 1',\n",
              "       'Recruitment Contact', 'Residency Requirement', 'Posting Date',\n",
              "       'Post Until', 'Posting Updated', 'Process Date'],\n",
              "      dtype='object')"
            ]
          },
          "metadata": {},
          "execution_count": 6
        }
      ]
    },
    {
      "cell_type": "code",
      "source": [
        "df =df[['Business Title', 'Job Description', 'Minimum Qual Requirements', 'Preferred Skills']]\n",
        "df.head()"
      ],
      "metadata": {
        "id": "e-OZLTmkza58",
        "colab": {
          "base_uri": "https://localhost:8080/",
          "height": 1000
        },
        "outputId": "8e331668-5f9c-40fa-8c28-c0341e58efe4"
      },
      "execution_count": null,
      "outputs": [
        {
          "output_type": "execute_result",
          "data": {
            "text/plain": [
              "                                                                                                                                                                                                                                                                                                                                                                                                                                                                                                                                                                                                                                                                                                                                                                                                                                                                                                                                                                                                                                                                                                                                                                  Business Title  \\\n",
              "689000 OFFICE OF THE COMPTROLLER     External 1 Legal Intern - Law and Adjustment SUMMER GRADUATE INTERN      Non-Competitive-5 10232 00 Legal Affairs                P             Student         19 21                        Hourly \"1 Centre St.  N.Y.\" Law and Adjustment             \"NOTE: All applicants must be current matricula...  an independently elected official                 is the Chief Financial Officer of the City of N... in order to secure a thriving future for all Ne... equitable                                           and resilient city. We utilize the tools and r...  investing strategically              living up to its promises and obligations          and keeping a sharp eye on the long-term chall...  the Comptroller                                    through the Bureau of Law and Adjustment (BLA)    negotiates and approves all monetary settlement... when in the best interest of the city              settles pre-litigation claims for and against t... BLA protects the fiscal interest of the City wh... and in accordance with applicable laws. BLA fur...                                         as well as   \n",
              "635466 DEPARTMENT OF TRANSPORTATION  Internal 1 BOB- Assistant Civil Engineer     ASSISTANT CIVIL ENGINEER    Competitive-1     20210 00 \"Engineering                  Architecture  & Planning\"    F  Experienced (non-manager) 62370  93587         Annual 55 Water St Ny Ny              East River & Movable                               \"Civil Service Title- Assistant Civil Engineer ... OR REACHABLE ON EXAM #5015.     PLEASE ATTACH Y... investigations or studies related to engineerin... write specifications and prepare estimates. The...  checking and certifying the installation of ma...  NY                                  NY\"                                                1.  A baccalaureate degree from an accredited c... At least one to three years of Bridge related e... \"The City of New York is an inclusive equal opp... including but not limited to an individual's sex   race                                               color                                              ethnicity                                          national origin                                                                        veteran status   \n",
              "687673 DEPT OF DESIGN & CONSTRUCTION External 1 Project Manager                   ASSISTANT ARCHITECT         Competitive-1     21210 00 \"Engineering                  Architecture  & Planning\"    F  Experienced (non-manager) 64242  73878         Annual 30-30 Thomson Ave L I City Qns PUB BLDGS/EXEC                                     \"Hours: Full-Time â 35 Hours Work Location: 3... LIC                                                NY                                                 11101  All interested candidates are welcome to...  the selected Project Manager assist with inter...  Chapter 11 of the NYC Building Code  as well as other applicable federal                state                                              and local statutes and regulations that pertai...  participating in interagency meetings with des... assisting with staff development                   and conducting weekly construction site visits ... extensions                                         or status changes                                  including STEM/OPT visas. Applicants are respon...                                             e-mail   \n",
              "541356 BRONX DISTRICT ATTORNEY       External 6 Senior Rackets Investigator       SENIOR RACKETS INVESTIGATOR Non-Competitive-5 30831 00 \"Legal Affairs Public Safety  Inspections   & Enforcement\" F  Experienced (non-manager) 70877  70877         Annual 198 E161St Street Bronx N.Y.   Detective Investigators                            \"The Bronx District Attorneyâs Office is seek... with latitude for independent judgment and init... the Senior Investigator is responsible for cond... as a police officer                                 in the NYS DCJS Police registry. This position...  Audio equipment                      plate reader                                       LoJack tracking device                             mobile digital terminals                           and surveillance photographic equipment)  Prep... transport                                          and protect witnesses  Assist and mentor Racket... suggest work methods; monitor progress and prep... weekends                                           and holidays as necessary.  Must pass a psychol...   and identity theft.  As per NY Public Officer...   \n",
              "565643 DEPARTMENT OF TRANSPORTATION  Internal 3 ASSISTANT CIVIL ENGINEER          ASSISTANT CIVIL ENGINEER    Competitive-1     20210 00 \"Engineering                  Architecture  & Planning\"    F  Experienced (non-manager) 57078  85646         Annual 55 Water St Ny Ny              Bridges Roadways                                   \"The Assistant Civil Engineer will perform work... investigations or studies related to engineerin... write specifications and prepare estimates. The... checking and certifying the installation of mat... 1.  A baccalaureate degree from an accredited c... NaN                                  \"The City of New York is an inclusive equal opp...  including but not limited to an individual's sex   race                                               color                                             ethnicity                                          national origin                                    age                                                religion                                           disability                                           you may be eligible for federal loan forgiven...   \n",
              "\n",
              "                                                                                                                                                                                                                                                                                                                                                                                                                                                                                                                                                                                                                                                                                                                                                                                                                                                                                                                                                                                                                                                                                                                                                                 Job Description  \\\n",
              "689000 OFFICE OF THE COMPTROLLER     External 1 Legal Intern - Law and Adjustment SUMMER GRADUATE INTERN      Non-Competitive-5 10232 00 Legal Affairs                P             Student         19 21                        Hourly \"1 Centre St.  N.Y.\" Law and Adjustment             \"NOTE: All applicants must be current matricula...  an independently elected official                 is the Chief Financial Officer of the City of N... in order to secure a thriving future for all Ne... equitable                                           and resilient city. We utilize the tools and r...  investing strategically              living up to its promises and obligations          and keeping a sharp eye on the long-term chall...  the Comptroller                                    through the Bureau of Law and Adjustment (BLA)    negotiates and approves all monetary settlement... when in the best interest of the city              settles pre-litigation claims for and against t... BLA protects the fiscal interest of the City wh... and in accordance with applicable laws. BLA fur...                                                NaN   \n",
              "635466 DEPARTMENT OF TRANSPORTATION  Internal 1 BOB- Assistant Civil Engineer     ASSISTANT CIVIL ENGINEER    Competitive-1     20210 00 \"Engineering                  Architecture  & Planning\"    F  Experienced (non-manager) 62370  93587         Annual 55 Water St Ny Ny              East River & Movable                               \"Civil Service Title- Assistant Civil Engineer ... OR REACHABLE ON EXAM #5015.     PLEASE ATTACH Y... investigations or studies related to engineerin... write specifications and prepare estimates. The...  checking and certifying the installation of ma...  NY                                  NY\"                                                1.  A baccalaureate degree from an accredited c... At least one to three years of Bridge related e... \"The City of New York is an inclusive equal opp... including but not limited to an individual's sex   race                                               color                                              ethnicity                                          national origin                                                                                   NaN   \n",
              "687673 DEPT OF DESIGN & CONSTRUCTION External 1 Project Manager                   ASSISTANT ARCHITECT         Competitive-1     21210 00 \"Engineering                  Architecture  & Planning\"    F  Experienced (non-manager) 64242  73878         Annual 30-30 Thomson Ave L I City Qns PUB BLDGS/EXEC                                     \"Hours: Full-Time â 35 Hours Work Location: 3... LIC                                                NY                                                 11101  All interested candidates are welcome to...  the selected Project Manager assist with inter...  Chapter 11 of the NYC Building Code  as well as other applicable federal                state                                              and local statutes and regulations that pertai...  participating in interagency meetings with des... assisting with staff development                   and conducting weekly construction site visits ... extensions                                         or status changes                                  including STEM/OPT visas. Applicants are respon...  New York City Residency is not required for th...   \n",
              "541356 BRONX DISTRICT ATTORNEY       External 6 Senior Rackets Investigator       SENIOR RACKETS INVESTIGATOR Non-Competitive-5 30831 00 \"Legal Affairs Public Safety  Inspections   & Enforcement\" F  Experienced (non-manager) 70877  70877         Annual 198 E161St Street Bronx N.Y.   Detective Investigators                            \"The Bronx District Attorneyâs Office is seek... with latitude for independent judgment and init... the Senior Investigator is responsible for cond... as a police officer                                 in the NYS DCJS Police registry. This position...  Audio equipment                      plate reader                                       LoJack tracking device                             mobile digital terminals                           and surveillance photographic equipment)  Prep... transport                                          and protect witnesses  Assist and mentor Racket... suggest work methods; monitor progress and prep... weekends                                           and holidays as necessary.  Must pass a psychol...                                                NaN   \n",
              "565643 DEPARTMENT OF TRANSPORTATION  Internal 3 ASSISTANT CIVIL ENGINEER          ASSISTANT CIVIL ENGINEER    Competitive-1     20210 00 \"Engineering                  Architecture  & Planning\"    F  Experienced (non-manager) 57078  85646         Annual 55 Water St Ny Ny              Bridges Roadways                                   \"The Assistant Civil Engineer will perform work... investigations or studies related to engineerin... write specifications and prepare estimates. The... checking and certifying the installation of mat... 1.  A baccalaureate degree from an accredited c... NaN                                  \"The City of New York is an inclusive equal opp...  including but not limited to an individual's sex   race                                               color                                             ethnicity                                          national origin                                    age                                                religion                                           disability                                                                                 01/14/2025   \n",
              "\n",
              "                                                                                                                                                                                                                                                                                                                                                                                                                                                                                                                                                                                                                                                                                                                                                                                                                                                                                                                                                                                                                                                                                                                                                       Minimum Qual Requirements  \\\n",
              "689000 OFFICE OF THE COMPTROLLER     External 1 Legal Intern - Law and Adjustment SUMMER GRADUATE INTERN      Non-Competitive-5 10232 00 Legal Affairs                P             Student         19 21                        Hourly \"1 Centre St.  N.Y.\" Law and Adjustment             \"NOTE: All applicants must be current matricula...  an independently elected official                 is the Chief Financial Officer of the City of N... in order to secure a thriving future for all Ne... equitable                                           and resilient city. We utilize the tools and r...  investing strategically              living up to its promises and obligations          and keeping a sharp eye on the long-term chall...  the Comptroller                                    through the Bureau of Law and Adjustment (BLA)    negotiates and approves all monetary settlement... when in the best interest of the city              settles pre-litigation claims for and against t... BLA protects the fiscal interest of the City wh... and in accordance with applicable laws. BLA fur...  \"New York City residency is generally required...   \n",
              "635466 DEPARTMENT OF TRANSPORTATION  Internal 1 BOB- Assistant Civil Engineer     ASSISTANT CIVIL ENGINEER    Competitive-1     20210 00 \"Engineering                  Architecture  & Planning\"    F  Experienced (non-manager) 62370  93587         Annual 55 Water St Ny Ny              East River & Movable                               \"Civil Service Title- Assistant Civil Engineer ... OR REACHABLE ON EXAM #5015.     PLEASE ATTACH Y... investigations or studies related to engineerin... write specifications and prepare estimates. The...  checking and certifying the installation of ma...  NY                                  NY\"                                                1.  A baccalaureate degree from an accredited c... At least one to three years of Bridge related e... \"The City of New York is an inclusive equal opp... including but not limited to an individual's sex   race                                               color                                              ethnicity                                          national origin                                     New York City Residency is not required for th...   \n",
              "687673 DEPT OF DESIGN & CONSTRUCTION External 1 Project Manager                   ASSISTANT ARCHITECT         Competitive-1     21210 00 \"Engineering                  Architecture  & Planning\"    F  Experienced (non-manager) 64242  73878         Annual 30-30 Thomson Ave L I City Qns PUB BLDGS/EXEC                                     \"Hours: Full-Time â 35 Hours Work Location: 3... LIC                                                NY                                                 11101  All interested candidates are welcome to...  the selected Project Manager assist with inter...  Chapter 11 of the NYC Building Code  as well as other applicable federal                state                                              and local statutes and regulations that pertai...  participating in interagency meetings with des... assisting with staff development                   and conducting weekly construction site visits ... extensions                                         or status changes                                  including STEM/OPT visas. Applicants are respon...                                         11/14/2024   \n",
              "541356 BRONX DISTRICT ATTORNEY       External 6 Senior Rackets Investigator       SENIOR RACKETS INVESTIGATOR Non-Competitive-5 30831 00 \"Legal Affairs Public Safety  Inspections   & Enforcement\" F  Experienced (non-manager) 70877  70877         Annual 198 E161St Street Bronx N.Y.   Detective Investigators                            \"The Bronx District Attorneyâs Office is seek... with latitude for independent judgment and init... the Senior Investigator is responsible for cond... as a police officer                                 in the NYS DCJS Police registry. This position...  Audio equipment                      plate reader                                       LoJack tracking device                             mobile digital terminals                           and surveillance photographic equipment)  Prep... transport                                          and protect witnesses  Assist and mentor Racket... suggest work methods; monitor progress and prep... weekends                                           and holidays as necessary.  Must pass a psychol...                                                NaN   \n",
              "565643 DEPARTMENT OF TRANSPORTATION  Internal 3 ASSISTANT CIVIL ENGINEER          ASSISTANT CIVIL ENGINEER    Competitive-1     20210 00 \"Engineering                  Architecture  & Planning\"    F  Experienced (non-manager) 57078  85646         Annual 55 Water St Ny Ny              Bridges Roadways                                   \"The Assistant Civil Engineer will perform work... investigations or studies related to engineerin... write specifications and prepare estimates. The... checking and certifying the installation of mat... 1.  A baccalaureate degree from an accredited c... NaN                                  \"The City of New York is an inclusive equal opp...  including but not limited to an individual's sex   race                                               color                                             ethnicity                                          national origin                                    age                                                religion                                           disability                                                                                        NaN   \n",
              "\n",
              "                                                                                                                                                                                                                                                                                                                                                                                                                                                                                                                                                                                                                                                                                                                                                                                                                                                                                                                                                                                                                                                                                                                                                                Preferred Skills  \n",
              "689000 OFFICE OF THE COMPTROLLER     External 1 Legal Intern - Law and Adjustment SUMMER GRADUATE INTERN      Non-Competitive-5 10232 00 Legal Affairs                P             Student         19 21                        Hourly \"1 Centre St.  N.Y.\" Law and Adjustment             \"NOTE: All applicants must be current matricula...  an independently elected official                 is the Chief Financial Officer of the City of N... in order to secure a thriving future for all Ne... equitable                                           and resilient city. We utilize the tools and r...  investing strategically              living up to its promises and obligations          and keeping a sharp eye on the long-term chall...  the Comptroller                                    through the Bureau of Law and Adjustment (BLA)    negotiates and approves all monetary settlement... when in the best interest of the city              settles pre-litigation claims for and against t... BLA protects the fiscal interest of the City wh... and in accordance with applicable laws. BLA fur...   City Employees in certain titles who have wor...  \n",
              "635466 DEPARTMENT OF TRANSPORTATION  Internal 1 BOB- Assistant Civil Engineer     ASSISTANT CIVIL ENGINEER    Competitive-1     20210 00 \"Engineering                  Architecture  & Planning\"    F  Experienced (non-manager) 62370  93587         Annual 55 Water St Ny Ny              East River & Movable                               \"Civil Service Title- Assistant Civil Engineer ... OR REACHABLE ON EXAM #5015.     PLEASE ATTACH Y... investigations or studies related to engineerin... write specifications and prepare estimates. The...  checking and certifying the installation of ma...  NY                                  NY\"                                                1.  A baccalaureate degree from an accredited c... At least one to three years of Bridge related e... \"The City of New York is an inclusive equal opp... including but not limited to an individual's sex   race                                               color                                              ethnicity                                          national origin                                                                            05/25/2024  \n",
              "687673 DEPT OF DESIGN & CONSTRUCTION External 1 Project Manager                   ASSISTANT ARCHITECT         Competitive-1     21210 00 \"Engineering                  Architecture  & Planning\"    F  Experienced (non-manager) 64242  73878         Annual 30-30 Thomson Ave L I City Qns PUB BLDGS/EXEC                                     \"Hours: Full-Time â 35 Hours Work Location: 3... LIC                                                NY                                                 11101  All interested candidates are welcome to...  the selected Project Manager assist with inter...  Chapter 11 of the NYC Building Code  as well as other applicable federal                state                                              and local statutes and regulations that pertai...  participating in interagency meetings with des... assisting with staff development                   and conducting weekly construction site visits ... extensions                                         or status changes                                  including STEM/OPT visas. Applicants are respon...                                                NaN  \n",
              "541356 BRONX DISTRICT ATTORNEY       External 6 Senior Rackets Investigator       SENIOR RACKETS INVESTIGATOR Non-Competitive-5 30831 00 \"Legal Affairs Public Safety  Inspections   & Enforcement\" F  Experienced (non-manager) 70877  70877         Annual 198 E161St Street Bronx N.Y.   Detective Investigators                            \"The Bronx District Attorneyâs Office is seek... with latitude for independent judgment and init... the Senior Investigator is responsible for cond... as a police officer                                 in the NYS DCJS Police registry. This position...  Audio equipment                      plate reader                                       LoJack tracking device                             mobile digital terminals                           and surveillance photographic equipment)  Prep... transport                                          and protect witnesses  Assist and mentor Racket... suggest work methods; monitor progress and prep... weekends                                           and holidays as necessary.  Must pass a psychol...                                                NaN  \n",
              "565643 DEPARTMENT OF TRANSPORTATION  Internal 3 ASSISTANT CIVIL ENGINEER          ASSISTANT CIVIL ENGINEER    Competitive-1     20210 00 \"Engineering                  Architecture  & Planning\"    F  Experienced (non-manager) 57078  85646         Annual 55 Water St Ny Ny              Bridges Roadways                                   \"The Assistant Civil Engineer will perform work... investigations or studies related to engineerin... write specifications and prepare estimates. The... checking and certifying the installation of mat... 1.  A baccalaureate degree from an accredited c... NaN                                  \"The City of New York is an inclusive equal opp...  including but not limited to an individual's sex   race                                               color                                             ethnicity                                          national origin                                    age                                                religion                                           disability                                                                                        NaN  "
            ],
            "text/html": [
              "\n",
              "  <div id=\"df-cb511d61-fd11-4947-be00-1c21e5a83ca0\" class=\"colab-df-container\">\n",
              "    <div>\n",
              "<style scoped>\n",
              "    .dataframe tbody tr th:only-of-type {\n",
              "        vertical-align: middle;\n",
              "    }\n",
              "\n",
              "    .dataframe tbody tr th {\n",
              "        vertical-align: top;\n",
              "    }\n",
              "\n",
              "    .dataframe thead th {\n",
              "        text-align: right;\n",
              "    }\n",
              "</style>\n",
              "<table border=\"1\" class=\"dataframe\">\n",
              "  <thead>\n",
              "    <tr style=\"text-align: right;\">\n",
              "      <th></th>\n",
              "      <th></th>\n",
              "      <th></th>\n",
              "      <th></th>\n",
              "      <th></th>\n",
              "      <th></th>\n",
              "      <th></th>\n",
              "      <th></th>\n",
              "      <th></th>\n",
              "      <th></th>\n",
              "      <th></th>\n",
              "      <th></th>\n",
              "      <th></th>\n",
              "      <th></th>\n",
              "      <th></th>\n",
              "      <th></th>\n",
              "      <th></th>\n",
              "      <th></th>\n",
              "      <th></th>\n",
              "      <th></th>\n",
              "      <th></th>\n",
              "      <th></th>\n",
              "      <th></th>\n",
              "      <th></th>\n",
              "      <th></th>\n",
              "      <th></th>\n",
              "      <th></th>\n",
              "      <th></th>\n",
              "      <th></th>\n",
              "      <th></th>\n",
              "      <th></th>\n",
              "      <th></th>\n",
              "      <th></th>\n",
              "      <th></th>\n",
              "      <th>Business Title</th>\n",
              "      <th>Job Description</th>\n",
              "      <th>Minimum Qual Requirements</th>\n",
              "      <th>Preferred Skills</th>\n",
              "    </tr>\n",
              "  </thead>\n",
              "  <tbody>\n",
              "    <tr>\n",
              "      <th>689000</th>\n",
              "      <th>OFFICE OF THE COMPTROLLER</th>\n",
              "      <th>External</th>\n",
              "      <th>1</th>\n",
              "      <th>Legal Intern - Law and Adjustment</th>\n",
              "      <th>SUMMER GRADUATE INTERN</th>\n",
              "      <th>Non-Competitive-5</th>\n",
              "      <th>10232</th>\n",
              "      <th>00</th>\n",
              "      <th>Legal Affairs</th>\n",
              "      <th>P</th>\n",
              "      <th>Student</th>\n",
              "      <th>19</th>\n",
              "      <th>21</th>\n",
              "      <th>Hourly</th>\n",
              "      <th>\"1 Centre St.</th>\n",
              "      <th>N.Y.\"</th>\n",
              "      <th>Law and Adjustment</th>\n",
              "      <th>\"NOTE: All applicants must be current matriculated students at an accredited United States law school.  The New York City Comptroller</th>\n",
              "      <th>an independently elected official</th>\n",
              "      <th>is the Chief Financial Officer of the City of New York. The mission of the office is to promote the financial integrity and operational effectiveness of New York City government</th>\n",
              "      <th>in order to secure a thriving future for all New Yorkers and build a more just</th>\n",
              "      <th>equitable</th>\n",
              "      <th>and resilient city. We utilize the tools and responsibilities that the City Charter assigns us to ensure that City government is budgeting wisely</th>\n",
              "      <th>investing strategically</th>\n",
              "      <th>living up to its promises and obligations</th>\n",
              "      <th>and keeping a sharp eye on the long-term challenges to come.  Authorized by the New York City Charter</th>\n",
              "      <th>the Comptroller</th>\n",
              "      <th>through the Bureau of Law and Adjustment (BLA)</th>\n",
              "      <th>negotiates and approves all monetary settlement of claims and lawsuits involving the City of New York. BLA investigates and</th>\n",
              "      <th>when in the best interest of the city</th>\n",
              "      <th>settles pre-litigation claims for and against the City of New York. In resolving claims before litigation is commenced</th>\n",
              "      <th>BLA protects the fiscal interest of the City while ensuring that pre-litigation claims are resolved in a fair and just manner</th>\n",
              "      <th>and in accordance with applicable laws. BLA furthers this goal in its review</th>\n",
              "      <td>as well as</td>\n",
              "      <td>NaN</td>\n",
              "      <td>\"New York City residency is generally required...</td>\n",
              "      <td>City Employees in certain titles who have wor...</td>\n",
              "    </tr>\n",
              "    <tr>\n",
              "      <th>635466</th>\n",
              "      <th>DEPARTMENT OF TRANSPORTATION</th>\n",
              "      <th>Internal</th>\n",
              "      <th>1</th>\n",
              "      <th>BOB- Assistant Civil Engineer</th>\n",
              "      <th>ASSISTANT CIVIL ENGINEER</th>\n",
              "      <th>Competitive-1</th>\n",
              "      <th>20210</th>\n",
              "      <th>00</th>\n",
              "      <th>\"Engineering</th>\n",
              "      <th>Architecture</th>\n",
              "      <th>&amp; Planning\"</th>\n",
              "      <th>F</th>\n",
              "      <th>Experienced (non-manager)</th>\n",
              "      <th>62370</th>\n",
              "      <th>93587</th>\n",
              "      <th>Annual</th>\n",
              "      <th>55 Water St Ny Ny</th>\n",
              "      <th>East River &amp; Movable</th>\n",
              "      <th>\"Civil Service Title- Assistant Civil Engineer   * IN ORDER TO BE CONSIDERED FOR THIS POSITION CANDIDATE MUST BE SERVING PERMANENTLY IN THE TITLE OF ASSISTANT CIVIL ENGINEER</th>\n",
              "      <th>OR REACHABLE ON EXAM #5015.     PLEASE ATTACH YOUR PROOF IF FILING / NOTICE OF RESULTS.   The Assistant Civil Engineer will perform work of moderate difficulty and responsibility. Engage in research</th>\n",
              "      <th>investigations or studies related to engineering functions and activities. They will develop drawings</th>\n",
              "      <th>write specifications and prepare estimates. They will participate in inspection operations by observing</th>\n",
              "      <th>checking and certifying the installation of material an equipment. Perform other related duties and will be assigned to various Bridge projects.  Skills- At least one to three years of Bridge related experience.  Proficient in Microsoft word/excel. A Valid New York State Driver's License.  Work Location-  55 Water St</th>\n",
              "      <th>NY</th>\n",
              "      <th>NY\"</th>\n",
              "      <th>1.  A baccalaureate degree from an accredited college in civil engineering and one year of full-time satisfactory experience in civil engineering work; or  2.  A baccalaureate degree from an accredited college and a Master's degree from an accredited college in civil engineering.</th>\n",
              "      <th>At least one to three years of Bridge related experience.  Proficient in Microsoft word/excel. A Valid New York State Driver's License.</th>\n",
              "      <th>\"The City of New York is an inclusive equal opportunity employer committed to recruiting and retaining a diverse workforce and providing a work environment that is free from discrimination and harassment based upon any legally protected status or protected characteristic</th>\n",
              "      <th>including but not limited to an individual's sex</th>\n",
              "      <th>race</th>\n",
              "      <th>color</th>\n",
              "      <th>ethnicity</th>\n",
              "      <th>national origin</th>\n",
              "      <td>veteran status</td>\n",
              "      <td>NaN</td>\n",
              "      <td>New York City Residency is not required for th...</td>\n",
              "      <td>05/25/2024</td>\n",
              "    </tr>\n",
              "    <tr>\n",
              "      <th>687673</th>\n",
              "      <th>DEPT OF DESIGN &amp; CONSTRUCTION</th>\n",
              "      <th>External</th>\n",
              "      <th>1</th>\n",
              "      <th>Project Manager</th>\n",
              "      <th>ASSISTANT ARCHITECT</th>\n",
              "      <th>Competitive-1</th>\n",
              "      <th>21210</th>\n",
              "      <th>00</th>\n",
              "      <th>\"Engineering</th>\n",
              "      <th>Architecture</th>\n",
              "      <th>&amp; Planning\"</th>\n",
              "      <th>F</th>\n",
              "      <th>Experienced (non-manager)</th>\n",
              "      <th>64242</th>\n",
              "      <th>73878</th>\n",
              "      <th>Annual</th>\n",
              "      <th>30-30 Thomson Ave L I City Qns</th>\n",
              "      <th>PUB BLDGS/EXEC</th>\n",
              "      <th>\"Hours: Full-Time â 35 Hours Work Location: 30-30 Thomson Avenue</th>\n",
              "      <th>LIC</th>\n",
              "      <th>NY</th>\n",
              "      <th>11101  All interested candidates are welcome to apply and will be considered for an interview based on the Minimum Qualification Requirements. Please indicate on your cover letter if you are permanent in the Assistant Architect title or if you are on the Open-Competitive List for Exam #0121.  Reporting directly to the Deputy Director of ADA Compliance within the NYC Department of Design and Constructionâs Division of Public Buildings</th>\n",
              "      <th>the selected Project Manager assist with interpreting and applying the 2010 ADA Standards</th>\n",
              "      <th>Chapter 11 of the NYC Building Code</th>\n",
              "      <th>as well as other applicable federal</th>\n",
              "      <th>state</th>\n",
              "      <th>and local statutes and regulations that pertain to accessibility. The candidate will ensure the compliant design and construction of all capital projects by performing reviews of outside design consultants' work</th>\n",
              "      <th>participating in interagency meetings with design consultants and internal DDC staff</th>\n",
              "      <th>assisting with staff development</th>\n",
              "      <th>and conducting weekly construction site visits to assess the level of ADA/Accessibility compliance.  Authorization to work in the United States is required for this position. NYC Department of Design and Construction does not provide sponsorship for international employees for visa applications</th>\n",
              "      <th>extensions</th>\n",
              "      <th>or status changes</th>\n",
              "      <th>including STEM/OPT visas. Applicants are responsible for ensuring that they meet all qualifying requirements for this position</th>\n",
              "      <td>e-mail</td>\n",
              "      <td>New York City Residency is not required for th...</td>\n",
              "      <td>11/14/2024</td>\n",
              "      <td>NaN</td>\n",
              "    </tr>\n",
              "    <tr>\n",
              "      <th>541356</th>\n",
              "      <th>BRONX DISTRICT ATTORNEY</th>\n",
              "      <th>External</th>\n",
              "      <th>6</th>\n",
              "      <th>Senior Rackets Investigator</th>\n",
              "      <th>SENIOR RACKETS INVESTIGATOR</th>\n",
              "      <th>Non-Competitive-5</th>\n",
              "      <th>30831</th>\n",
              "      <th>00</th>\n",
              "      <th>\"Legal Affairs Public Safety</th>\n",
              "      <th>Inspections</th>\n",
              "      <th>&amp; Enforcement\"</th>\n",
              "      <th>F</th>\n",
              "      <th>Experienced (non-manager)</th>\n",
              "      <th>70877</th>\n",
              "      <th>70877</th>\n",
              "      <th>Annual</th>\n",
              "      <th>198 E161St Street Bronx N.Y.</th>\n",
              "      <th>Detective Investigators</th>\n",
              "      <th>\"The Bronx District Attorneyâs Office is seeking a well-qualified staff whose diverse backgrounds reflect an ability to serve the over 1.3 million members of the Bronx County community and pursue a safer Bronx through fair justice. Under supervision</th>\n",
              "      <th>with latitude for independent judgment and initiative</th>\n",
              "      <th>the Senior Investigator is responsible for conducting a wide variety of investigations. This is a sworn police officer position which requires an experienced candidate. The candidate must meet all qualifications to be certified</th>\n",
              "      <th>as a police officer</th>\n",
              "      <th>in the NYS DCJS Police registry. This position requires the successful completion of police academy training in New York State and requires applicants to pass a mandatory background check to carry a firearm.     JOB RESPONSIBILITIES:  Conduct thorough and professional investigations in a discreet manner as assigned  Execute search warrants and effect arrests  Participate in court-ordered electronic eavesdropping  Mentor and assist junior investigators when appropriate  Continuing case management and review  Provide on-going status updates to the D/C and Chief Detective Investigator.  Ability to access and utilize various computer databases  Ability to liaison with other law enforcement agencies and government and financial institutions.  Assist investigators and Assistant District Attorneys in preparation for court proceedings  Testify before grand or petit juries regarding investigations  Conduct complex and highly confidential investigations and relevant research  Assist and mentor investigators in the use of electronic and technical equipment (e.g.</th>\n",
              "      <th>Audio equipment</th>\n",
              "      <th>plate reader</th>\n",
              "      <th>LoJack tracking device</th>\n",
              "      <th>mobile digital terminals</th>\n",
              "      <th>and surveillance photographic equipment)  Prepare reports and maintains records of activities and investigations.  Participate in protective details and locate</th>\n",
              "      <th>transport</th>\n",
              "      <th>and protect witnesses  Assist and mentor Rackets Investigators</th>\n",
              "      <th>suggest work methods; monitor progress and prepare and review reports Participate in extraditions and related travel    REQUIREMENTS  The ideal candidate must have a valid certificate of completion from a New York State Basic Course for Police Officers academy or must be eligible to attend and complete a Police Officer Refresher course.  All applicants must possess a valid NY State driverâs license and be able to work evenings</th>\n",
              "      <th>weekends</th>\n",
              "      <th>and holidays as necessary.  Must pass a psychological and physical exam and a background check.  Must be qualified to Carry a Firearm  Prior experience working within the New York City criminal justice system and/or experience as a police officer within the State of New York is a plus.  Extensive knowledge and investigative experience in one or more of the following areas is preferred: homicides</th>\n",
              "      <td>and identity theft.  As per NY Public Officer...</td>\n",
              "      <td>NaN</td>\n",
              "      <td>NaN</td>\n",
              "      <td>NaN</td>\n",
              "    </tr>\n",
              "    <tr>\n",
              "      <th>565643</th>\n",
              "      <th>DEPARTMENT OF TRANSPORTATION</th>\n",
              "      <th>Internal</th>\n",
              "      <th>3</th>\n",
              "      <th>ASSISTANT CIVIL ENGINEER</th>\n",
              "      <th>ASSISTANT CIVIL ENGINEER</th>\n",
              "      <th>Competitive-1</th>\n",
              "      <th>20210</th>\n",
              "      <th>00</th>\n",
              "      <th>\"Engineering</th>\n",
              "      <th>Architecture</th>\n",
              "      <th>&amp; Planning\"</th>\n",
              "      <th>F</th>\n",
              "      <th>Experienced (non-manager)</th>\n",
              "      <th>57078</th>\n",
              "      <th>85646</th>\n",
              "      <th>Annual</th>\n",
              "      <th>55 Water St Ny Ny</th>\n",
              "      <th>Bridges Roadways</th>\n",
              "      <th>\"The Assistant Civil Engineer will perform work of moderate difficulty and responsibility. Engage in research</th>\n",
              "      <th>investigations or studies related to engineering functions and activities. They will develop drawings</th>\n",
              "      <th>write specifications and prepare estimates. They will participate in inspection operations by observing</th>\n",
              "      <th>checking and certifying the installation of material an equipment. Perform other related duties and will be assigned to various Bridge projects.\"</th>\n",
              "      <th>1.  A baccalaureate degree from an accredited college in civil engineering and one year of full-time satisfactory experience in civil engineering work; or  2.  A baccalaureate degree from an accredited college and a Master's degree from an accredited college in civil engineering.</th>\n",
              "      <th>NaN</th>\n",
              "      <th>\"The City of New York is an inclusive equal opportunity employer committed to recruiting and retaining a diverse workforce and providing a work environment that is free from discrimination and harassment based upon any legally protected status or protected characteristic</th>\n",
              "      <th>including but not limited to an individual's sex</th>\n",
              "      <th>race</th>\n",
              "      <th>color</th>\n",
              "      <th>ethnicity</th>\n",
              "      <th>national origin</th>\n",
              "      <th>age</th>\n",
              "      <th>religion</th>\n",
              "      <th>disability</th>\n",
              "      <td>you may be eligible for federal loan forgiven...</td>\n",
              "      <td>01/14/2025</td>\n",
              "      <td>NaN</td>\n",
              "      <td>NaN</td>\n",
              "    </tr>\n",
              "  </tbody>\n",
              "</table>\n",
              "</div>\n",
              "    <div class=\"colab-df-buttons\">\n",
              "\n",
              "  <div class=\"colab-df-container\">\n",
              "    <button class=\"colab-df-convert\" onclick=\"convertToInteractive('df-cb511d61-fd11-4947-be00-1c21e5a83ca0')\"\n",
              "            title=\"Convert this dataframe to an interactive table.\"\n",
              "            style=\"display:none;\">\n",
              "\n",
              "  <svg xmlns=\"http://www.w3.org/2000/svg\" height=\"24px\" viewBox=\"0 -960 960 960\">\n",
              "    <path d=\"M120-120v-720h720v720H120Zm60-500h600v-160H180v160Zm220 220h160v-160H400v160Zm0 220h160v-160H400v160ZM180-400h160v-160H180v160Zm440 0h160v-160H620v160ZM180-180h160v-160H180v160Zm440 0h160v-160H620v160Z\"/>\n",
              "  </svg>\n",
              "    </button>\n",
              "\n",
              "  <style>\n",
              "    .colab-df-container {\n",
              "      display:flex;\n",
              "      gap: 12px;\n",
              "    }\n",
              "\n",
              "    .colab-df-convert {\n",
              "      background-color: #E8F0FE;\n",
              "      border: none;\n",
              "      border-radius: 50%;\n",
              "      cursor: pointer;\n",
              "      display: none;\n",
              "      fill: #1967D2;\n",
              "      height: 32px;\n",
              "      padding: 0 0 0 0;\n",
              "      width: 32px;\n",
              "    }\n",
              "\n",
              "    .colab-df-convert:hover {\n",
              "      background-color: #E2EBFA;\n",
              "      box-shadow: 0px 1px 2px rgba(60, 64, 67, 0.3), 0px 1px 3px 1px rgba(60, 64, 67, 0.15);\n",
              "      fill: #174EA6;\n",
              "    }\n",
              "\n",
              "    .colab-df-buttons div {\n",
              "      margin-bottom: 4px;\n",
              "    }\n",
              "\n",
              "    [theme=dark] .colab-df-convert {\n",
              "      background-color: #3B4455;\n",
              "      fill: #D2E3FC;\n",
              "    }\n",
              "\n",
              "    [theme=dark] .colab-df-convert:hover {\n",
              "      background-color: #434B5C;\n",
              "      box-shadow: 0px 1px 3px 1px rgba(0, 0, 0, 0.15);\n",
              "      filter: drop-shadow(0px 1px 2px rgba(0, 0, 0, 0.3));\n",
              "      fill: #FFFFFF;\n",
              "    }\n",
              "  </style>\n",
              "\n",
              "    <script>\n",
              "      const buttonEl =\n",
              "        document.querySelector('#df-cb511d61-fd11-4947-be00-1c21e5a83ca0 button.colab-df-convert');\n",
              "      buttonEl.style.display =\n",
              "        google.colab.kernel.accessAllowed ? 'block' : 'none';\n",
              "\n",
              "      async function convertToInteractive(key) {\n",
              "        const element = document.querySelector('#df-cb511d61-fd11-4947-be00-1c21e5a83ca0');\n",
              "        const dataTable =\n",
              "          await google.colab.kernel.invokeFunction('convertToInteractive',\n",
              "                                                    [key], {});\n",
              "        if (!dataTable) return;\n",
              "\n",
              "        const docLinkHtml = 'Like what you see? Visit the ' +\n",
              "          '<a target=\"_blank\" href=https://colab.research.google.com/notebooks/data_table.ipynb>data table notebook</a>'\n",
              "          + ' to learn more about interactive tables.';\n",
              "        element.innerHTML = '';\n",
              "        dataTable['output_type'] = 'display_data';\n",
              "        await google.colab.output.renderOutput(dataTable, element);\n",
              "        const docLink = document.createElement('div');\n",
              "        docLink.innerHTML = docLinkHtml;\n",
              "        element.appendChild(docLink);\n",
              "      }\n",
              "    </script>\n",
              "  </div>\n",
              "\n",
              "\n",
              "<div id=\"df-bf45a8f2-f71b-4864-b25d-1f9802461814\">\n",
              "  <button class=\"colab-df-quickchart\" onclick=\"quickchart('df-bf45a8f2-f71b-4864-b25d-1f9802461814')\"\n",
              "            title=\"Suggest charts\"\n",
              "            style=\"display:none;\">\n",
              "\n",
              "<svg xmlns=\"http://www.w3.org/2000/svg\" height=\"24px\"viewBox=\"0 0 24 24\"\n",
              "     width=\"24px\">\n",
              "    <g>\n",
              "        <path d=\"M19 3H5c-1.1 0-2 .9-2 2v14c0 1.1.9 2 2 2h14c1.1 0 2-.9 2-2V5c0-1.1-.9-2-2-2zM9 17H7v-7h2v7zm4 0h-2V7h2v10zm4 0h-2v-4h2v4z\"/>\n",
              "    </g>\n",
              "</svg>\n",
              "  </button>\n",
              "\n",
              "<style>\n",
              "  .colab-df-quickchart {\n",
              "      --bg-color: #E8F0FE;\n",
              "      --fill-color: #1967D2;\n",
              "      --hover-bg-color: #E2EBFA;\n",
              "      --hover-fill-color: #174EA6;\n",
              "      --disabled-fill-color: #AAA;\n",
              "      --disabled-bg-color: #DDD;\n",
              "  }\n",
              "\n",
              "  [theme=dark] .colab-df-quickchart {\n",
              "      --bg-color: #3B4455;\n",
              "      --fill-color: #D2E3FC;\n",
              "      --hover-bg-color: #434B5C;\n",
              "      --hover-fill-color: #FFFFFF;\n",
              "      --disabled-bg-color: #3B4455;\n",
              "      --disabled-fill-color: #666;\n",
              "  }\n",
              "\n",
              "  .colab-df-quickchart {\n",
              "    background-color: var(--bg-color);\n",
              "    border: none;\n",
              "    border-radius: 50%;\n",
              "    cursor: pointer;\n",
              "    display: none;\n",
              "    fill: var(--fill-color);\n",
              "    height: 32px;\n",
              "    padding: 0;\n",
              "    width: 32px;\n",
              "  }\n",
              "\n",
              "  .colab-df-quickchart:hover {\n",
              "    background-color: var(--hover-bg-color);\n",
              "    box-shadow: 0 1px 2px rgba(60, 64, 67, 0.3), 0 1px 3px 1px rgba(60, 64, 67, 0.15);\n",
              "    fill: var(--button-hover-fill-color);\n",
              "  }\n",
              "\n",
              "  .colab-df-quickchart-complete:disabled,\n",
              "  .colab-df-quickchart-complete:disabled:hover {\n",
              "    background-color: var(--disabled-bg-color);\n",
              "    fill: var(--disabled-fill-color);\n",
              "    box-shadow: none;\n",
              "  }\n",
              "\n",
              "  .colab-df-spinner {\n",
              "    border: 2px solid var(--fill-color);\n",
              "    border-color: transparent;\n",
              "    border-bottom-color: var(--fill-color);\n",
              "    animation:\n",
              "      spin 1s steps(1) infinite;\n",
              "  }\n",
              "\n",
              "  @keyframes spin {\n",
              "    0% {\n",
              "      border-color: transparent;\n",
              "      border-bottom-color: var(--fill-color);\n",
              "      border-left-color: var(--fill-color);\n",
              "    }\n",
              "    20% {\n",
              "      border-color: transparent;\n",
              "      border-left-color: var(--fill-color);\n",
              "      border-top-color: var(--fill-color);\n",
              "    }\n",
              "    30% {\n",
              "      border-color: transparent;\n",
              "      border-left-color: var(--fill-color);\n",
              "      border-top-color: var(--fill-color);\n",
              "      border-right-color: var(--fill-color);\n",
              "    }\n",
              "    40% {\n",
              "      border-color: transparent;\n",
              "      border-right-color: var(--fill-color);\n",
              "      border-top-color: var(--fill-color);\n",
              "    }\n",
              "    60% {\n",
              "      border-color: transparent;\n",
              "      border-right-color: var(--fill-color);\n",
              "    }\n",
              "    80% {\n",
              "      border-color: transparent;\n",
              "      border-right-color: var(--fill-color);\n",
              "      border-bottom-color: var(--fill-color);\n",
              "    }\n",
              "    90% {\n",
              "      border-color: transparent;\n",
              "      border-bottom-color: var(--fill-color);\n",
              "    }\n",
              "  }\n",
              "</style>\n",
              "\n",
              "  <script>\n",
              "    async function quickchart(key) {\n",
              "      const quickchartButtonEl =\n",
              "        document.querySelector('#' + key + ' button');\n",
              "      quickchartButtonEl.disabled = true;  // To prevent multiple clicks.\n",
              "      quickchartButtonEl.classList.add('colab-df-spinner');\n",
              "      try {\n",
              "        const charts = await google.colab.kernel.invokeFunction(\n",
              "            'suggestCharts', [key], {});\n",
              "      } catch (error) {\n",
              "        console.error('Error during call to suggestCharts:', error);\n",
              "      }\n",
              "      quickchartButtonEl.classList.remove('colab-df-spinner');\n",
              "      quickchartButtonEl.classList.add('colab-df-quickchart-complete');\n",
              "    }\n",
              "    (() => {\n",
              "      let quickchartButtonEl =\n",
              "        document.querySelector('#df-bf45a8f2-f71b-4864-b25d-1f9802461814 button');\n",
              "      quickchartButtonEl.style.display =\n",
              "        google.colab.kernel.accessAllowed ? 'block' : 'none';\n",
              "    })();\n",
              "  </script>\n",
              "</div>\n",
              "\n",
              "    </div>\n",
              "  </div>\n"
            ],
            "application/vnd.google.colaboratory.intrinsic+json": {
              "type": "dataframe",
              "variable_name": "df",
              "summary": "{\n  \"name\": \"df\",\n  \"rows\": 294,\n  \"fields\": [\n    {\n      \"column\": \"Business Title\",\n      \"properties\": {\n        \"dtype\": \"string\",\n        \"num_unique_values\": 183,\n        \"samples\": [\n          \" for a total of four years of experience; two years of the experience must have been in a supervisory capacity.\\\"\",\n          \" click on the link below:   https://bit.ly/55aProgram   Additional Information: 1.\\tFor NYCHA employees: these positions are open as a promotional opportunity only. They are not open on a direct transfer (lateral) basis.  2.\\tFor NYCHA employees: employees applying for promotional\",\n          \" PRISE\"\n        ],\n        \"semantic_type\": \"\",\n        \"description\": \"\"\n      }\n    },\n    {\n      \"column\": \"Job Description\",\n      \"properties\": {\n        \"dtype\": \"category\",\n        \"num_unique_values\": 66,\n        \"samples\": [\n          \"\\\"33 Beaver St\",\n          \" WHEN A TEST BECOMES AVAILABLE IN THE ASSOCIATE BENEFITS OPPORTUNITY SPECIALIST (ABOS) TITLE\",\n          \"New York City Residency is not required for this position.\"\n        ],\n        \"semantic_type\": \"\",\n        \"description\": \"\"\n      }\n    },\n    {\n      \"column\": \"Minimum Qual Requirements\",\n      \"properties\": {\n        \"dtype\": \"category\",\n        \"num_unique_values\": 68,\n        \"samples\": [\n          \"10/17/2024\",\n          \"11/18/2024\",\n          \"City Residency is not required for this position.\"\n        ],\n        \"semantic_type\": \"\",\n        \"description\": \"\"\n      }\n    },\n    {\n      \"column\": \"Preferred Skills\",\n      \"properties\": {\n        \"dtype\": \"category\",\n        \"num_unique_values\": 64,\n        \"samples\": [\n          \"08/02/2024\",\n          \"17-JAN-2025\",\n          \" City Employees in certain titles who have worked for the City for 2 continuous years may also be eligible to reside in Nassau\"\n        ],\n        \"semantic_type\": \"\",\n        \"description\": \"\"\n      }\n    }\n  ]\n}"
            }
          },
          "metadata": {},
          "execution_count": 7
        }
      ]
    },
    {
      "cell_type": "code",
      "source": [
        "# Create a new column called 'data' and merge the values of the other columns into it\n",
        "df['data'] = df[['Business Title', 'Job Description', 'Minimum Qual Requirements', 'Preferred Skills']].apply(lambda x: ' '.join(x.dropna().astype(str)), axis=1)\n",
        "# Drop the individual columns if you no longer need them\n",
        "df.drop(['Business Title', 'Job Description', 'Minimum Qual Requirements', 'Preferred Skills'], axis=1, inplace=True)\n",
        "# Preview the updated dataframe\n",
        "print(df.head())"
      ],
      "metadata": {
        "id": "pdybyTdnza3p",
        "colab": {
          "base_uri": "https://localhost:8080/"
        },
        "outputId": "de867f8c-77b5-46a2-f45f-f6c6a428987e"
      },
      "execution_count": null,
      "outputs": [
        {
          "output_type": "stream",
          "name": "stdout",
          "text": [
            "                                                                                                                                                                                                                                                                                                                                                                                                                                                                                                                                                                                                                                                                                                                                                                                                                                                                                                                                                                                                                                                                                                                                                                            data\n",
            "689000 OFFICE OF THE COMPTROLLER     External 1 Legal Intern - Law and Adjustment SUMMER GRADUATE INTERN      Non-Competitive-5 10232 00 Legal Affairs                P             Student         19 21                        Hourly \"1 Centre St.  N.Y.\" Law and Adjustment             \"NOTE: All applicants must be current matricula...  an independently elected official                 is the Chief Financial Officer of the City of N... in order to secure a thriving future for all Ne... equitable                                           and resilient city. We utilize the tools and r...  investing strategically              living up to its promises and obligations          and keeping a sharp eye on the long-term chall...  the Comptroller                                    through the Bureau of Law and Adjustment (BLA)    negotiates and approves all monetary settlement... when in the best interest of the city              settles pre-litigation claims for and against t... BLA protects the fiscal interest of the City wh... and in accordance with applicable laws. BLA fur...   as well as \"New York City residency is genera...\n",
            "635466 DEPARTMENT OF TRANSPORTATION  Internal 1 BOB- Assistant Civil Engineer     ASSISTANT CIVIL ENGINEER    Competitive-1     20210 00 \"Engineering                  Architecture  & Planning\"    F  Experienced (non-manager) 62370  93587         Annual 55 Water St Ny Ny              East River & Movable                               \"Civil Service Title- Assistant Civil Engineer ... OR REACHABLE ON EXAM #5015.     PLEASE ATTACH Y... investigations or studies related to engineerin... write specifications and prepare estimates. The...  checking and certifying the installation of ma...  NY                                  NY\"                                                1.  A baccalaureate degree from an accredited c... At least one to three years of Bridge related e... \"The City of New York is an inclusive equal opp... including but not limited to an individual's sex   race                                               color                                              ethnicity                                          national origin                                      veteran status New York City Residency is not...\n",
            "687673 DEPT OF DESIGN & CONSTRUCTION External 1 Project Manager                   ASSISTANT ARCHITECT         Competitive-1     21210 00 \"Engineering                  Architecture  & Planning\"    F  Experienced (non-manager) 64242  73878         Annual 30-30 Thomson Ave L I City Qns PUB BLDGS/EXEC                                     \"Hours: Full-Time â 35 Hours Work Location: 3... LIC                                                NY                                                 11101  All interested candidates are welcome to...  the selected Project Manager assist with inter...  Chapter 11 of the NYC Building Code  as well as other applicable federal                state                                              and local statutes and regulations that pertai...  participating in interagency meetings with des... assisting with staff development                   and conducting weekly construction site visits ... extensions                                         or status changes                                  including STEM/OPT visas. Applicants are respon...   e-mail New York City Residency is not require...\n",
            "541356 BRONX DISTRICT ATTORNEY       External 6 Senior Rackets Investigator       SENIOR RACKETS INVESTIGATOR Non-Competitive-5 30831 00 \"Legal Affairs Public Safety  Inspections   & Enforcement\" F  Experienced (non-manager) 70877  70877         Annual 198 E161St Street Bronx N.Y.   Detective Investigators                            \"The Bronx District Attorneyâs Office is seek... with latitude for independent judgment and init... the Senior Investigator is responsible for cond... as a police officer                                 in the NYS DCJS Police registry. This position...  Audio equipment                      plate reader                                       LoJack tracking device                             mobile digital terminals                           and surveillance photographic equipment)  Prep... transport                                          and protect witnesses  Assist and mentor Racket... suggest work methods; monitor progress and prep... weekends                                           and holidays as necessary.  Must pass a psychol...   and identity theft.  As per NY Public Officer...\n",
            "565643 DEPARTMENT OF TRANSPORTATION  Internal 3 ASSISTANT CIVIL ENGINEER          ASSISTANT CIVIL ENGINEER    Competitive-1     20210 00 \"Engineering                  Architecture  & Planning\"    F  Experienced (non-manager) 57078  85646         Annual 55 Water St Ny Ny              Bridges Roadways                                   \"The Assistant Civil Engineer will perform work... investigations or studies related to engineerin... write specifications and prepare estimates. The... checking and certifying the installation of mat... 1.  A baccalaureate degree from an accredited c... NaN                                  \"The City of New York is an inclusive equal opp...  including but not limited to an individual's sex   race                                               color                                             ethnicity                                          national origin                                    age                                                religion                                           disability                                           you may be eligible for federal loan forgiven...\n"
          ]
        }
      ]
    },
    {
      "cell_type": "code",
      "source": [
        "# Tag data\n",
        "data = list(df['data'])\n",
        "tagged_data = [TaggedDocument(words = word_tokenize(_d.lower()), tags = [str(i)]) for i, _d in enumerate(data)]"
      ],
      "metadata": {
        "id": "3PGzNHiDza1W"
      },
      "execution_count": null,
      "outputs": []
    },
    {
      "cell_type": "code",
      "source": [
        "# Model initialization\n",
        "model = Doc2Vec(vector_size = 50,\n",
        "min_count = 5,\n",
        "epochs = 100,\n",
        "alpha = 0.001\n",
        ")"
      ],
      "metadata": {
        "id": "V306PRvDzayy"
      },
      "execution_count": null,
      "outputs": []
    },
    {
      "cell_type": "code",
      "source": [
        "# Vocabulary building\n",
        "model.build_vocab(tagged_data)\n",
        "# Get the vocabulary keys\n",
        "keys = model.wv.key_to_index.keys()\n",
        "# Print the length of the vocabulary keys\n",
        "print(len(keys))"
      ],
      "metadata": {
        "id": "y_Av8C1pzawR",
        "colab": {
          "base_uri": "https://localhost:8080/"
        },
        "outputId": "133dbdaa-00e3-4103-b79d-d266cd84d3f1"
      },
      "execution_count": null,
      "outputs": [
        {
          "output_type": "stream",
          "name": "stdout",
          "text": [
            "291\n"
          ]
        }
      ]
    },
    {
      "cell_type": "code",
      "source": [
        "for epoch in range(model.epochs):\n",
        "    print(f\"Training epoch {epoch+1}/{model.epochs}\")\n",
        "    model.train(tagged_data,\n",
        "                total_examples=model.corpus_count,\n",
        "                epochs=model.epochs)\n",
        "\n",
        "model.save('cv_job_maching.model')\n",
        "print(\"Model saved\")"
      ],
      "metadata": {
        "colab": {
          "base_uri": "https://localhost:8080/"
        },
        "id": "85WtC5vW0IBw",
        "outputId": "7ede2840-0ff3-46fe-9589-74665966f268"
      },
      "execution_count": null,
      "outputs": [
        {
          "output_type": "stream",
          "name": "stdout",
          "text": [
            "Training epoch 1/100\n"
          ]
        },
        {
          "output_type": "stream",
          "name": "stderr",
          "text": [
            "WARNING:gensim.models.word2vec:Effective 'alpha' higher than previous training cycles\n"
          ]
        },
        {
          "output_type": "stream",
          "name": "stdout",
          "text": [
            "Training epoch 2/100\n"
          ]
        },
        {
          "output_type": "stream",
          "name": "stderr",
          "text": [
            "WARNING:gensim.models.word2vec:Effective 'alpha' higher than previous training cycles\n"
          ]
        },
        {
          "output_type": "stream",
          "name": "stdout",
          "text": [
            "Training epoch 3/100\n"
          ]
        },
        {
          "output_type": "stream",
          "name": "stderr",
          "text": [
            "WARNING:gensim.models.word2vec:Effective 'alpha' higher than previous training cycles\n"
          ]
        },
        {
          "output_type": "stream",
          "name": "stdout",
          "text": [
            "Training epoch 4/100\n"
          ]
        },
        {
          "output_type": "stream",
          "name": "stderr",
          "text": [
            "WARNING:gensim.models.word2vec:Effective 'alpha' higher than previous training cycles\n"
          ]
        },
        {
          "output_type": "stream",
          "name": "stdout",
          "text": [
            "Training epoch 5/100\n"
          ]
        },
        {
          "output_type": "stream",
          "name": "stderr",
          "text": [
            "WARNING:gensim.models.word2vec:Effective 'alpha' higher than previous training cycles\n"
          ]
        },
        {
          "output_type": "stream",
          "name": "stdout",
          "text": [
            "Training epoch 6/100\n"
          ]
        },
        {
          "output_type": "stream",
          "name": "stderr",
          "text": [
            "WARNING:gensim.models.word2vec:Effective 'alpha' higher than previous training cycles\n"
          ]
        },
        {
          "output_type": "stream",
          "name": "stdout",
          "text": [
            "Training epoch 7/100\n"
          ]
        },
        {
          "output_type": "stream",
          "name": "stderr",
          "text": [
            "WARNING:gensim.models.word2vec:Effective 'alpha' higher than previous training cycles\n"
          ]
        },
        {
          "output_type": "stream",
          "name": "stdout",
          "text": [
            "Training epoch 8/100\n"
          ]
        },
        {
          "output_type": "stream",
          "name": "stderr",
          "text": [
            "WARNING:gensim.models.word2vec:Effective 'alpha' higher than previous training cycles\n"
          ]
        },
        {
          "output_type": "stream",
          "name": "stdout",
          "text": [
            "Training epoch 9/100\n"
          ]
        },
        {
          "output_type": "stream",
          "name": "stderr",
          "text": [
            "WARNING:gensim.models.word2vec:Effective 'alpha' higher than previous training cycles\n"
          ]
        },
        {
          "output_type": "stream",
          "name": "stdout",
          "text": [
            "Training epoch 10/100\n"
          ]
        },
        {
          "output_type": "stream",
          "name": "stderr",
          "text": [
            "WARNING:gensim.models.word2vec:Effective 'alpha' higher than previous training cycles\n"
          ]
        },
        {
          "output_type": "stream",
          "name": "stdout",
          "text": [
            "Training epoch 11/100\n"
          ]
        },
        {
          "output_type": "stream",
          "name": "stderr",
          "text": [
            "WARNING:gensim.models.word2vec:Effective 'alpha' higher than previous training cycles\n"
          ]
        },
        {
          "output_type": "stream",
          "name": "stdout",
          "text": [
            "Training epoch 12/100\n"
          ]
        },
        {
          "output_type": "stream",
          "name": "stderr",
          "text": [
            "WARNING:gensim.models.word2vec:Effective 'alpha' higher than previous training cycles\n"
          ]
        },
        {
          "output_type": "stream",
          "name": "stdout",
          "text": [
            "Training epoch 13/100\n"
          ]
        },
        {
          "output_type": "stream",
          "name": "stderr",
          "text": [
            "WARNING:gensim.models.word2vec:Effective 'alpha' higher than previous training cycles\n"
          ]
        },
        {
          "output_type": "stream",
          "name": "stdout",
          "text": [
            "Training epoch 14/100\n"
          ]
        },
        {
          "output_type": "stream",
          "name": "stderr",
          "text": [
            "WARNING:gensim.models.word2vec:Effective 'alpha' higher than previous training cycles\n"
          ]
        },
        {
          "output_type": "stream",
          "name": "stdout",
          "text": [
            "Training epoch 15/100\n"
          ]
        },
        {
          "output_type": "stream",
          "name": "stderr",
          "text": [
            "WARNING:gensim.models.word2vec:Effective 'alpha' higher than previous training cycles\n"
          ]
        },
        {
          "output_type": "stream",
          "name": "stdout",
          "text": [
            "Training epoch 16/100\n"
          ]
        },
        {
          "output_type": "stream",
          "name": "stderr",
          "text": [
            "WARNING:gensim.models.word2vec:Effective 'alpha' higher than previous training cycles\n"
          ]
        },
        {
          "output_type": "stream",
          "name": "stdout",
          "text": [
            "Training epoch 17/100\n"
          ]
        },
        {
          "output_type": "stream",
          "name": "stderr",
          "text": [
            "WARNING:gensim.models.word2vec:Effective 'alpha' higher than previous training cycles\n"
          ]
        },
        {
          "output_type": "stream",
          "name": "stdout",
          "text": [
            "Training epoch 18/100\n"
          ]
        },
        {
          "output_type": "stream",
          "name": "stderr",
          "text": [
            "WARNING:gensim.models.word2vec:Effective 'alpha' higher than previous training cycles\n"
          ]
        },
        {
          "output_type": "stream",
          "name": "stdout",
          "text": [
            "Training epoch 19/100\n"
          ]
        },
        {
          "output_type": "stream",
          "name": "stderr",
          "text": [
            "WARNING:gensim.models.word2vec:Effective 'alpha' higher than previous training cycles\n"
          ]
        },
        {
          "output_type": "stream",
          "name": "stdout",
          "text": [
            "Training epoch 20/100\n"
          ]
        },
        {
          "output_type": "stream",
          "name": "stderr",
          "text": [
            "WARNING:gensim.models.word2vec:Effective 'alpha' higher than previous training cycles\n"
          ]
        },
        {
          "output_type": "stream",
          "name": "stdout",
          "text": [
            "Training epoch 21/100\n"
          ]
        },
        {
          "output_type": "stream",
          "name": "stderr",
          "text": [
            "WARNING:gensim.models.word2vec:Effective 'alpha' higher than previous training cycles\n"
          ]
        },
        {
          "output_type": "stream",
          "name": "stdout",
          "text": [
            "Training epoch 22/100\n"
          ]
        },
        {
          "output_type": "stream",
          "name": "stderr",
          "text": [
            "WARNING:gensim.models.word2vec:Effective 'alpha' higher than previous training cycles\n"
          ]
        },
        {
          "output_type": "stream",
          "name": "stdout",
          "text": [
            "Training epoch 23/100\n"
          ]
        },
        {
          "output_type": "stream",
          "name": "stderr",
          "text": [
            "WARNING:gensim.models.word2vec:Effective 'alpha' higher than previous training cycles\n"
          ]
        },
        {
          "output_type": "stream",
          "name": "stdout",
          "text": [
            "Training epoch 24/100\n"
          ]
        },
        {
          "output_type": "stream",
          "name": "stderr",
          "text": [
            "WARNING:gensim.models.word2vec:Effective 'alpha' higher than previous training cycles\n"
          ]
        },
        {
          "output_type": "stream",
          "name": "stdout",
          "text": [
            "Training epoch 25/100\n"
          ]
        },
        {
          "output_type": "stream",
          "name": "stderr",
          "text": [
            "WARNING:gensim.models.word2vec:Effective 'alpha' higher than previous training cycles\n"
          ]
        },
        {
          "output_type": "stream",
          "name": "stdout",
          "text": [
            "Training epoch 26/100\n"
          ]
        },
        {
          "output_type": "stream",
          "name": "stderr",
          "text": [
            "WARNING:gensim.models.word2vec:Effective 'alpha' higher than previous training cycles\n"
          ]
        },
        {
          "output_type": "stream",
          "name": "stdout",
          "text": [
            "Training epoch 27/100\n"
          ]
        },
        {
          "output_type": "stream",
          "name": "stderr",
          "text": [
            "WARNING:gensim.models.word2vec:Effective 'alpha' higher than previous training cycles\n"
          ]
        },
        {
          "output_type": "stream",
          "name": "stdout",
          "text": [
            "Training epoch 28/100\n"
          ]
        },
        {
          "output_type": "stream",
          "name": "stderr",
          "text": [
            "WARNING:gensim.models.word2vec:Effective 'alpha' higher than previous training cycles\n"
          ]
        },
        {
          "output_type": "stream",
          "name": "stdout",
          "text": [
            "Training epoch 29/100\n"
          ]
        },
        {
          "output_type": "stream",
          "name": "stderr",
          "text": [
            "WARNING:gensim.models.word2vec:Effective 'alpha' higher than previous training cycles\n"
          ]
        },
        {
          "output_type": "stream",
          "name": "stdout",
          "text": [
            "Training epoch 30/100\n"
          ]
        },
        {
          "output_type": "stream",
          "name": "stderr",
          "text": [
            "WARNING:gensim.models.word2vec:Effective 'alpha' higher than previous training cycles\n"
          ]
        },
        {
          "output_type": "stream",
          "name": "stdout",
          "text": [
            "Training epoch 31/100\n"
          ]
        },
        {
          "output_type": "stream",
          "name": "stderr",
          "text": [
            "WARNING:gensim.models.word2vec:Effective 'alpha' higher than previous training cycles\n"
          ]
        },
        {
          "output_type": "stream",
          "name": "stdout",
          "text": [
            "Training epoch 32/100\n"
          ]
        },
        {
          "output_type": "stream",
          "name": "stderr",
          "text": [
            "WARNING:gensim.models.word2vec:Effective 'alpha' higher than previous training cycles\n"
          ]
        },
        {
          "output_type": "stream",
          "name": "stdout",
          "text": [
            "Training epoch 33/100\n"
          ]
        },
        {
          "output_type": "stream",
          "name": "stderr",
          "text": [
            "WARNING:gensim.models.word2vec:Effective 'alpha' higher than previous training cycles\n"
          ]
        },
        {
          "output_type": "stream",
          "name": "stdout",
          "text": [
            "Training epoch 34/100\n"
          ]
        },
        {
          "output_type": "stream",
          "name": "stderr",
          "text": [
            "WARNING:gensim.models.word2vec:Effective 'alpha' higher than previous training cycles\n"
          ]
        },
        {
          "output_type": "stream",
          "name": "stdout",
          "text": [
            "Training epoch 35/100\n"
          ]
        },
        {
          "output_type": "stream",
          "name": "stderr",
          "text": [
            "WARNING:gensim.models.word2vec:Effective 'alpha' higher than previous training cycles\n"
          ]
        },
        {
          "output_type": "stream",
          "name": "stdout",
          "text": [
            "Training epoch 36/100\n"
          ]
        },
        {
          "output_type": "stream",
          "name": "stderr",
          "text": [
            "WARNING:gensim.models.word2vec:Effective 'alpha' higher than previous training cycles\n"
          ]
        },
        {
          "output_type": "stream",
          "name": "stdout",
          "text": [
            "Training epoch 37/100\n"
          ]
        },
        {
          "output_type": "stream",
          "name": "stderr",
          "text": [
            "WARNING:gensim.models.word2vec:Effective 'alpha' higher than previous training cycles\n"
          ]
        },
        {
          "output_type": "stream",
          "name": "stdout",
          "text": [
            "Training epoch 38/100\n"
          ]
        },
        {
          "output_type": "stream",
          "name": "stderr",
          "text": [
            "WARNING:gensim.models.word2vec:Effective 'alpha' higher than previous training cycles\n"
          ]
        },
        {
          "output_type": "stream",
          "name": "stdout",
          "text": [
            "Training epoch 39/100\n"
          ]
        },
        {
          "output_type": "stream",
          "name": "stderr",
          "text": [
            "WARNING:gensim.models.word2vec:Effective 'alpha' higher than previous training cycles\n"
          ]
        },
        {
          "output_type": "stream",
          "name": "stdout",
          "text": [
            "Training epoch 40/100\n"
          ]
        },
        {
          "output_type": "stream",
          "name": "stderr",
          "text": [
            "WARNING:gensim.models.word2vec:Effective 'alpha' higher than previous training cycles\n"
          ]
        },
        {
          "output_type": "stream",
          "name": "stdout",
          "text": [
            "Training epoch 41/100\n"
          ]
        },
        {
          "output_type": "stream",
          "name": "stderr",
          "text": [
            "WARNING:gensim.models.word2vec:Effective 'alpha' higher than previous training cycles\n"
          ]
        },
        {
          "output_type": "stream",
          "name": "stdout",
          "text": [
            "Training epoch 42/100\n"
          ]
        },
        {
          "output_type": "stream",
          "name": "stderr",
          "text": [
            "WARNING:gensim.models.word2vec:Effective 'alpha' higher than previous training cycles\n"
          ]
        },
        {
          "output_type": "stream",
          "name": "stdout",
          "text": [
            "Training epoch 43/100\n"
          ]
        },
        {
          "output_type": "stream",
          "name": "stderr",
          "text": [
            "WARNING:gensim.models.word2vec:Effective 'alpha' higher than previous training cycles\n"
          ]
        },
        {
          "output_type": "stream",
          "name": "stdout",
          "text": [
            "Training epoch 44/100\n"
          ]
        },
        {
          "output_type": "stream",
          "name": "stderr",
          "text": [
            "WARNING:gensim.models.word2vec:Effective 'alpha' higher than previous training cycles\n"
          ]
        },
        {
          "output_type": "stream",
          "name": "stdout",
          "text": [
            "Training epoch 45/100\n"
          ]
        },
        {
          "output_type": "stream",
          "name": "stderr",
          "text": [
            "WARNING:gensim.models.word2vec:Effective 'alpha' higher than previous training cycles\n"
          ]
        },
        {
          "output_type": "stream",
          "name": "stdout",
          "text": [
            "Training epoch 46/100\n"
          ]
        },
        {
          "output_type": "stream",
          "name": "stderr",
          "text": [
            "WARNING:gensim.models.word2vec:Effective 'alpha' higher than previous training cycles\n"
          ]
        },
        {
          "output_type": "stream",
          "name": "stdout",
          "text": [
            "Training epoch 47/100\n"
          ]
        },
        {
          "output_type": "stream",
          "name": "stderr",
          "text": [
            "WARNING:gensim.models.word2vec:Effective 'alpha' higher than previous training cycles\n"
          ]
        },
        {
          "output_type": "stream",
          "name": "stdout",
          "text": [
            "Training epoch 48/100\n"
          ]
        },
        {
          "output_type": "stream",
          "name": "stderr",
          "text": [
            "WARNING:gensim.models.word2vec:Effective 'alpha' higher than previous training cycles\n"
          ]
        },
        {
          "output_type": "stream",
          "name": "stdout",
          "text": [
            "Training epoch 49/100\n"
          ]
        },
        {
          "output_type": "stream",
          "name": "stderr",
          "text": [
            "WARNING:gensim.models.word2vec:Effective 'alpha' higher than previous training cycles\n"
          ]
        },
        {
          "output_type": "stream",
          "name": "stdout",
          "text": [
            "Training epoch 50/100\n"
          ]
        },
        {
          "output_type": "stream",
          "name": "stderr",
          "text": [
            "WARNING:gensim.models.word2vec:Effective 'alpha' higher than previous training cycles\n"
          ]
        },
        {
          "output_type": "stream",
          "name": "stdout",
          "text": [
            "Training epoch 51/100\n"
          ]
        },
        {
          "output_type": "stream",
          "name": "stderr",
          "text": [
            "WARNING:gensim.models.word2vec:Effective 'alpha' higher than previous training cycles\n"
          ]
        },
        {
          "output_type": "stream",
          "name": "stdout",
          "text": [
            "Training epoch 52/100\n"
          ]
        },
        {
          "output_type": "stream",
          "name": "stderr",
          "text": [
            "WARNING:gensim.models.word2vec:Effective 'alpha' higher than previous training cycles\n"
          ]
        },
        {
          "output_type": "stream",
          "name": "stdout",
          "text": [
            "Training epoch 53/100\n"
          ]
        },
        {
          "output_type": "stream",
          "name": "stderr",
          "text": [
            "WARNING:gensim.models.word2vec:Effective 'alpha' higher than previous training cycles\n"
          ]
        },
        {
          "output_type": "stream",
          "name": "stdout",
          "text": [
            "Training epoch 54/100\n"
          ]
        },
        {
          "output_type": "stream",
          "name": "stderr",
          "text": [
            "WARNING:gensim.models.word2vec:Effective 'alpha' higher than previous training cycles\n"
          ]
        },
        {
          "output_type": "stream",
          "name": "stdout",
          "text": [
            "Training epoch 55/100\n"
          ]
        },
        {
          "output_type": "stream",
          "name": "stderr",
          "text": [
            "WARNING:gensim.models.word2vec:Effective 'alpha' higher than previous training cycles\n"
          ]
        },
        {
          "output_type": "stream",
          "name": "stdout",
          "text": [
            "Training epoch 56/100\n"
          ]
        },
        {
          "output_type": "stream",
          "name": "stderr",
          "text": [
            "WARNING:gensim.models.word2vec:Effective 'alpha' higher than previous training cycles\n"
          ]
        },
        {
          "output_type": "stream",
          "name": "stdout",
          "text": [
            "Training epoch 57/100\n"
          ]
        },
        {
          "output_type": "stream",
          "name": "stderr",
          "text": [
            "WARNING:gensim.models.word2vec:Effective 'alpha' higher than previous training cycles\n"
          ]
        },
        {
          "output_type": "stream",
          "name": "stdout",
          "text": [
            "Training epoch 58/100\n"
          ]
        },
        {
          "output_type": "stream",
          "name": "stderr",
          "text": [
            "WARNING:gensim.models.word2vec:Effective 'alpha' higher than previous training cycles\n"
          ]
        },
        {
          "output_type": "stream",
          "name": "stdout",
          "text": [
            "Training epoch 59/100\n"
          ]
        },
        {
          "output_type": "stream",
          "name": "stderr",
          "text": [
            "WARNING:gensim.models.word2vec:Effective 'alpha' higher than previous training cycles\n"
          ]
        },
        {
          "output_type": "stream",
          "name": "stdout",
          "text": [
            "Training epoch 60/100\n"
          ]
        },
        {
          "output_type": "stream",
          "name": "stderr",
          "text": [
            "WARNING:gensim.models.word2vec:Effective 'alpha' higher than previous training cycles\n"
          ]
        },
        {
          "output_type": "stream",
          "name": "stdout",
          "text": [
            "Training epoch 61/100\n"
          ]
        },
        {
          "output_type": "stream",
          "name": "stderr",
          "text": [
            "WARNING:gensim.models.word2vec:Effective 'alpha' higher than previous training cycles\n"
          ]
        },
        {
          "output_type": "stream",
          "name": "stdout",
          "text": [
            "Training epoch 62/100\n"
          ]
        },
        {
          "output_type": "stream",
          "name": "stderr",
          "text": [
            "WARNING:gensim.models.word2vec:Effective 'alpha' higher than previous training cycles\n"
          ]
        },
        {
          "output_type": "stream",
          "name": "stdout",
          "text": [
            "Training epoch 63/100\n"
          ]
        },
        {
          "output_type": "stream",
          "name": "stderr",
          "text": [
            "WARNING:gensim.models.word2vec:Effective 'alpha' higher than previous training cycles\n"
          ]
        },
        {
          "output_type": "stream",
          "name": "stdout",
          "text": [
            "Training epoch 64/100\n"
          ]
        },
        {
          "output_type": "stream",
          "name": "stderr",
          "text": [
            "WARNING:gensim.models.word2vec:Effective 'alpha' higher than previous training cycles\n"
          ]
        },
        {
          "output_type": "stream",
          "name": "stdout",
          "text": [
            "Training epoch 65/100\n"
          ]
        },
        {
          "output_type": "stream",
          "name": "stderr",
          "text": [
            "WARNING:gensim.models.word2vec:Effective 'alpha' higher than previous training cycles\n"
          ]
        },
        {
          "output_type": "stream",
          "name": "stdout",
          "text": [
            "Training epoch 66/100\n"
          ]
        },
        {
          "output_type": "stream",
          "name": "stderr",
          "text": [
            "WARNING:gensim.models.word2vec:Effective 'alpha' higher than previous training cycles\n"
          ]
        },
        {
          "output_type": "stream",
          "name": "stdout",
          "text": [
            "Training epoch 67/100\n"
          ]
        },
        {
          "output_type": "stream",
          "name": "stderr",
          "text": [
            "WARNING:gensim.models.word2vec:Effective 'alpha' higher than previous training cycles\n"
          ]
        },
        {
          "output_type": "stream",
          "name": "stdout",
          "text": [
            "Training epoch 68/100\n"
          ]
        },
        {
          "output_type": "stream",
          "name": "stderr",
          "text": [
            "WARNING:gensim.models.word2vec:Effective 'alpha' higher than previous training cycles\n"
          ]
        },
        {
          "output_type": "stream",
          "name": "stdout",
          "text": [
            "Training epoch 69/100\n"
          ]
        },
        {
          "output_type": "stream",
          "name": "stderr",
          "text": [
            "WARNING:gensim.models.word2vec:Effective 'alpha' higher than previous training cycles\n"
          ]
        },
        {
          "output_type": "stream",
          "name": "stdout",
          "text": [
            "Training epoch 70/100\n"
          ]
        },
        {
          "output_type": "stream",
          "name": "stderr",
          "text": [
            "WARNING:gensim.models.word2vec:Effective 'alpha' higher than previous training cycles\n"
          ]
        },
        {
          "output_type": "stream",
          "name": "stdout",
          "text": [
            "Training epoch 71/100\n"
          ]
        },
        {
          "output_type": "stream",
          "name": "stderr",
          "text": [
            "WARNING:gensim.models.word2vec:Effective 'alpha' higher than previous training cycles\n"
          ]
        },
        {
          "output_type": "stream",
          "name": "stdout",
          "text": [
            "Training epoch 72/100\n"
          ]
        },
        {
          "output_type": "stream",
          "name": "stderr",
          "text": [
            "WARNING:gensim.models.word2vec:Effective 'alpha' higher than previous training cycles\n"
          ]
        },
        {
          "output_type": "stream",
          "name": "stdout",
          "text": [
            "Training epoch 73/100\n"
          ]
        },
        {
          "output_type": "stream",
          "name": "stderr",
          "text": [
            "WARNING:gensim.models.word2vec:Effective 'alpha' higher than previous training cycles\n"
          ]
        },
        {
          "output_type": "stream",
          "name": "stdout",
          "text": [
            "Training epoch 74/100\n"
          ]
        },
        {
          "output_type": "stream",
          "name": "stderr",
          "text": [
            "WARNING:gensim.models.word2vec:Effective 'alpha' higher than previous training cycles\n"
          ]
        },
        {
          "output_type": "stream",
          "name": "stdout",
          "text": [
            "Training epoch 75/100\n"
          ]
        },
        {
          "output_type": "stream",
          "name": "stderr",
          "text": [
            "WARNING:gensim.models.word2vec:Effective 'alpha' higher than previous training cycles\n"
          ]
        },
        {
          "output_type": "stream",
          "name": "stdout",
          "text": [
            "Training epoch 76/100\n"
          ]
        },
        {
          "output_type": "stream",
          "name": "stderr",
          "text": [
            "WARNING:gensim.models.word2vec:Effective 'alpha' higher than previous training cycles\n"
          ]
        },
        {
          "output_type": "stream",
          "name": "stdout",
          "text": [
            "Training epoch 77/100\n"
          ]
        },
        {
          "output_type": "stream",
          "name": "stderr",
          "text": [
            "WARNING:gensim.models.word2vec:Effective 'alpha' higher than previous training cycles\n"
          ]
        },
        {
          "output_type": "stream",
          "name": "stdout",
          "text": [
            "Training epoch 78/100\n"
          ]
        },
        {
          "output_type": "stream",
          "name": "stderr",
          "text": [
            "WARNING:gensim.models.word2vec:Effective 'alpha' higher than previous training cycles\n"
          ]
        },
        {
          "output_type": "stream",
          "name": "stdout",
          "text": [
            "Training epoch 79/100\n"
          ]
        },
        {
          "output_type": "stream",
          "name": "stderr",
          "text": [
            "WARNING:gensim.models.word2vec:Effective 'alpha' higher than previous training cycles\n"
          ]
        },
        {
          "output_type": "stream",
          "name": "stdout",
          "text": [
            "Training epoch 80/100\n"
          ]
        },
        {
          "output_type": "stream",
          "name": "stderr",
          "text": [
            "WARNING:gensim.models.word2vec:Effective 'alpha' higher than previous training cycles\n"
          ]
        },
        {
          "output_type": "stream",
          "name": "stdout",
          "text": [
            "Training epoch 81/100\n"
          ]
        },
        {
          "output_type": "stream",
          "name": "stderr",
          "text": [
            "WARNING:gensim.models.word2vec:Effective 'alpha' higher than previous training cycles\n"
          ]
        },
        {
          "output_type": "stream",
          "name": "stdout",
          "text": [
            "Training epoch 82/100\n"
          ]
        },
        {
          "output_type": "stream",
          "name": "stderr",
          "text": [
            "WARNING:gensim.models.word2vec:Effective 'alpha' higher than previous training cycles\n"
          ]
        },
        {
          "output_type": "stream",
          "name": "stdout",
          "text": [
            "Training epoch 83/100\n"
          ]
        },
        {
          "output_type": "stream",
          "name": "stderr",
          "text": [
            "WARNING:gensim.models.word2vec:Effective 'alpha' higher than previous training cycles\n"
          ]
        },
        {
          "output_type": "stream",
          "name": "stdout",
          "text": [
            "Training epoch 84/100\n"
          ]
        },
        {
          "output_type": "stream",
          "name": "stderr",
          "text": [
            "WARNING:gensim.models.word2vec:Effective 'alpha' higher than previous training cycles\n"
          ]
        },
        {
          "output_type": "stream",
          "name": "stdout",
          "text": [
            "Training epoch 85/100\n"
          ]
        },
        {
          "output_type": "stream",
          "name": "stderr",
          "text": [
            "WARNING:gensim.models.word2vec:Effective 'alpha' higher than previous training cycles\n"
          ]
        },
        {
          "output_type": "stream",
          "name": "stdout",
          "text": [
            "Training epoch 86/100\n"
          ]
        },
        {
          "output_type": "stream",
          "name": "stderr",
          "text": [
            "WARNING:gensim.models.word2vec:Effective 'alpha' higher than previous training cycles\n"
          ]
        },
        {
          "output_type": "stream",
          "name": "stdout",
          "text": [
            "Training epoch 87/100\n"
          ]
        },
        {
          "output_type": "stream",
          "name": "stderr",
          "text": [
            "WARNING:gensim.models.word2vec:Effective 'alpha' higher than previous training cycles\n"
          ]
        },
        {
          "output_type": "stream",
          "name": "stdout",
          "text": [
            "Training epoch 88/100\n"
          ]
        },
        {
          "output_type": "stream",
          "name": "stderr",
          "text": [
            "WARNING:gensim.models.word2vec:Effective 'alpha' higher than previous training cycles\n"
          ]
        },
        {
          "output_type": "stream",
          "name": "stdout",
          "text": [
            "Training epoch 89/100\n"
          ]
        },
        {
          "output_type": "stream",
          "name": "stderr",
          "text": [
            "WARNING:gensim.models.word2vec:Effective 'alpha' higher than previous training cycles\n"
          ]
        },
        {
          "output_type": "stream",
          "name": "stdout",
          "text": [
            "Training epoch 90/100\n"
          ]
        },
        {
          "output_type": "stream",
          "name": "stderr",
          "text": [
            "WARNING:gensim.models.word2vec:Effective 'alpha' higher than previous training cycles\n"
          ]
        },
        {
          "output_type": "stream",
          "name": "stdout",
          "text": [
            "Training epoch 91/100\n"
          ]
        },
        {
          "output_type": "stream",
          "name": "stderr",
          "text": [
            "WARNING:gensim.models.word2vec:Effective 'alpha' higher than previous training cycles\n"
          ]
        },
        {
          "output_type": "stream",
          "name": "stdout",
          "text": [
            "Training epoch 92/100\n"
          ]
        },
        {
          "output_type": "stream",
          "name": "stderr",
          "text": [
            "WARNING:gensim.models.word2vec:Effective 'alpha' higher than previous training cycles\n"
          ]
        },
        {
          "output_type": "stream",
          "name": "stdout",
          "text": [
            "Training epoch 93/100\n"
          ]
        },
        {
          "output_type": "stream",
          "name": "stderr",
          "text": [
            "WARNING:gensim.models.word2vec:Effective 'alpha' higher than previous training cycles\n"
          ]
        },
        {
          "output_type": "stream",
          "name": "stdout",
          "text": [
            "Training epoch 94/100\n"
          ]
        },
        {
          "output_type": "stream",
          "name": "stderr",
          "text": [
            "WARNING:gensim.models.word2vec:Effective 'alpha' higher than previous training cycles\n"
          ]
        },
        {
          "output_type": "stream",
          "name": "stdout",
          "text": [
            "Training epoch 95/100\n"
          ]
        },
        {
          "output_type": "stream",
          "name": "stderr",
          "text": [
            "WARNING:gensim.models.word2vec:Effective 'alpha' higher than previous training cycles\n"
          ]
        },
        {
          "output_type": "stream",
          "name": "stdout",
          "text": [
            "Training epoch 96/100\n"
          ]
        },
        {
          "output_type": "stream",
          "name": "stderr",
          "text": [
            "WARNING:gensim.models.word2vec:Effective 'alpha' higher than previous training cycles\n"
          ]
        },
        {
          "output_type": "stream",
          "name": "stdout",
          "text": [
            "Training epoch 97/100\n"
          ]
        },
        {
          "output_type": "stream",
          "name": "stderr",
          "text": [
            "WARNING:gensim.models.word2vec:Effective 'alpha' higher than previous training cycles\n"
          ]
        },
        {
          "output_type": "stream",
          "name": "stdout",
          "text": [
            "Training epoch 98/100\n"
          ]
        },
        {
          "output_type": "stream",
          "name": "stderr",
          "text": [
            "WARNING:gensim.models.word2vec:Effective 'alpha' higher than previous training cycles\n"
          ]
        },
        {
          "output_type": "stream",
          "name": "stdout",
          "text": [
            "Training epoch 99/100\n"
          ]
        },
        {
          "output_type": "stream",
          "name": "stderr",
          "text": [
            "WARNING:gensim.models.word2vec:Effective 'alpha' higher than previous training cycles\n"
          ]
        },
        {
          "output_type": "stream",
          "name": "stdout",
          "text": [
            "Training epoch 100/100\n",
            "Model saved\n"
          ]
        }
      ]
    },
    {
      "cell_type": "code",
      "source": [
        "pdf = PyPDF2.PdfReader('/content/Resume.pdf')\n",
        "resume = \"\"\n",
        "for i in range(len(pdf.pages)):\n",
        "    pageObj = pdf.pages[i]\n",
        "    resume += pageObj.extract_text()"
      ],
      "metadata": {
        "id": "AosLH2hf0H_s"
      },
      "execution_count": null,
      "outputs": []
    },
    {
      "cell_type": "code",
      "source": [
        "\n",
        "# JD by input text:\n",
        "jd = input(\"Paste your JD here: \")"
      ],
      "metadata": {
        "colab": {
          "base_uri": "https://localhost:8080/"
        },
        "id": "ygiuAkKQ0H9Z",
        "outputId": "65bdb467-a4d4-4266-e03b-947733c7dc97"
      },
      "execution_count": null,
      "outputs": [
        {
          "name": "stdout",
          "output_type": "stream",
          "text": [
            "Paste your JD here: We are seeking an experienced Oracle PL/SQL Developer to join our dynamic team in Toronto, ON. As a key member of our organization, you will play a critical role in developing, maintaining, and optimizing database solutions for large-scale applications in finance, insurance, and data analytics. The ideal candidate will have a proven track record of working with Oracle databases, creating efficient PL/SQL scripts, and managing data in compliance with industry standards. This is a full-time position that offers an opportunity to collaborate with cross-functional teams to implement innovative database solutions that meet complex business requirements.  In this role, you will be responsible for designing, testing, and maintaining PL/SQL stored procedures, functions, packages, and triggers to support business applications. You will optimize database queries using advanced techniques such as bulk collections, cursor management, and table partitioning to ensure efficient data handling. Additional responsibilities include performing data migrations and ETL processes using tools like SQL*Loader, Data Pump, and external tables. You will analyze and resolve performance bottlenecks using query optimization techniques and tools such as AWR and ADDM while ensuring compliance with data protection standards like GDPR. Your contributions will also involve collaborating with global teams to gather requirements, document technical designs, and implement solutions that align with business goals.  The successful candidate will have at least six years of experience as an Oracle PL/SQL Developer, with expertise in Oracle 11g/12c, tools such as SQL Developer and TOAD, and a strong knowledge of data modeling and normalization techniques. You should have hands-on experience with ETL processes, partitioned tables, bitmap indexes, and collections (nested tables, VARRAYs, associative arrays). Familiarity with Agile methodologies, tools like JIRA, and DevOps practices such as Git and Jenkins is essential. Excellent problem-solving, debugging, and performance-tuning skills are critical for success in this role.  While not required, experience in the financial or insurance sectors, exposure to front-end technologies (HTML, PHP, JavaScript), and knowledge of data warehousing tools such as Informatica would be an asset. Additionally, certifications like Oracle Certified Associate (OCA) in PL/SQL and advanced database certifications will strengthen your candidacy.  In return, we offer a competitive salary, performance-based bonuses, and a comprehensive benefits package that includes health, dental, and retirement plans. You will have access to professional development opportunities, certification reimbursements, and flexible work schedules with hybrid/remote options. As part of a collaborative and innovative team, you will work on impactful projects that challenge your expertise and contribute to the success of global clients.  Join us and take your career to the next level as we deliver cutting-edge database solutions and empower businesses to thrive in a fast-paced digital world.\n"
          ]
        }
      ]
    },
    {
      "cell_type": "code",
      "source": [
        "jd = \"\"\"\n",
        "We are seeking an experienced Oracle PL/SQL Developer to join our dynamic team in Toronto, ON. As a key member of our organization, you will play a critical role in developing, maintaining, and optimizing database solutions for large-scale applications in finance, insurance, and data analytics. The ideal candidate will have a proven track record of working with Oracle databases, creating efficient PL/SQL scripts, and managing data in compliance with industry standards. This is a full-time position that offers an opportunity to collaborate with cross-functional teams to implement innovative database solutions that meet complex business requirements.\n",
        "\n",
        "In this role, you will be responsible for designing, testing, and maintaining PL/SQL stored procedures, functions, packages, and triggers to support business applications. You will optimize database queries using advanced techniques such as bulk collections, cursor management, and table partitioning to ensure efficient data handling. Additional responsibilities include performing data migrations and ETL processes using tools like SQL*Loader, Data Pump, and external tables. You will analyze and resolve performance bottlenecks using query optimization techniques and tools such as AWR and ADDM while ensuring compliance with data protection standards like GDPR. Your contributions will also involve collaborating with global teams to gather requirements, document technical designs, and implement solutions that align with business goals.\n",
        "\n",
        "The successful candidate will have at least six years of experience as an Oracle PL/SQL Developer, with expertise in Oracle 11g/12c, tools such as SQL Developer and TOAD, and a strong knowledge of data modeling and normalization techniques. You should have hands-on experience with ETL processes, partitioned tables, bitmap indexes, and collections (nested tables, VARRAYs, associative arrays). Familiarity with Agile methodologies, tools like JIRA, and DevOps practices such as Git and Jenkins is essential. Excellent problem-solving, debugging, and performance-tuning skills are critical for success in this role.\n",
        "\n",
        "While not required, experience in the financial or insurance sectors, exposure to front-end technologies (HTML, PHP, JavaScript), and knowledge of data warehousing tools such as Informatica would be an asset. Additionally, certifications like Oracle Certified Associate (OCA) in PL/SQL and advanced database certifications will strengthen your candidacy.\n",
        "\n",
        "In return, we offer a competitive salary, performance-based bonuses, and a comprehensive benefits package that includes health, dental, and retirement plans. You will have access to professional development opportunities, certification reimbursements, and flexible work schedules with hybrid/remote options. As part of a collaborative and innovative team, you will work on impactful projects that challenge your expertise and contribute to the success of global clients.\n",
        "\n",
        "Join us and take your career to the next level as we deliver cutting-edge database solutions and empower businesses to thrive in a fast-paced digital world.\"\"\""
      ],
      "metadata": {
        "id": "UN4c8tlc0H6_"
      },
      "execution_count": null,
      "outputs": []
    },
    {
      "cell_type": "code",
      "source": [
        "def preprocess_text(text):\n",
        "    # Convert the text to lowercase\n",
        "    text = text.lower()\n",
        "\n",
        "    # Remove punctuation from the text\n",
        "    text = re.sub('[^a-z]', ' ', text)\n",
        "\n",
        "    # Remove numerical values from the text\n",
        "    text = re.sub(r'\\d+', '', text)\n",
        "\n",
        "    # Remove extra whitespaces\n",
        "    text = ' '.join(text.split())\n",
        "\n",
        "    return text"
      ],
      "metadata": {
        "id": "ZSY7yqO90H4z"
      },
      "execution_count": null,
      "outputs": []
    },
    {
      "cell_type": "code",
      "source": [
        "# Apply to CV and JD\n",
        "input_CV = preprocess_text(resume)\n",
        "input_JD = preprocess_text(jd)"
      ],
      "metadata": {
        "id": "r_D6iCmY0H2h"
      },
      "execution_count": null,
      "outputs": []
    },
    {
      "cell_type": "code",
      "source": [
        "# Model evaluation\n",
        "model = Doc2Vec.load('cv_job_maching.model')\n",
        "v1 = model.infer_vector(input_CV.split())\n",
        "v2 = model.infer_vector(input_JD.split())\n",
        "similarity = 100*(np.dot(np.array(v1), np.array(v2))) / (norm(np.array(v1)) * norm(np.array(v2)))\n",
        "print(round(similarity, 2))"
      ],
      "metadata": {
        "id": "J0482tGm0H0a"
      },
      "execution_count": null,
      "outputs": []
    },
    {
      "cell_type": "code",
      "source": [
        "# Visualization\n",
        "fig = go.Figure(go.Indicator(\n",
        "    domain = {'x': [0, 1], 'y': [0, 1]},\n",
        "    value = similarity,\n",
        "    mode = \"gauge+number\",\n",
        "    title = {'text': \"Matching percentage (%)\"},\n",
        "    #delta = {'reference': 100},\n",
        "    gauge = {\n",
        "        'axis': {'range': [0, 100]},\n",
        "        'steps' : [\n",
        "            {'range': [0, 50], 'color': \"#FFB6C1\"},\n",
        "            {'range': [50, 70], 'color': \"#FFFFE0\"},\n",
        "            {'range': [70, 100], 'color': \"#90EE90\"}\n",
        "        ],\n",
        "             'threshold' : {'line': {'color': \"red\", 'width': 4}, 'thickness': 0.75, 'value': 100}}))\n",
        "\n",
        "fig.update_layout(width=600, height=400)  # Adjust the width and height as desired\n",
        "fig.show()\n",
        "\n",
        "# Print notification\n",
        "if similarity < 50:\n",
        "    print(colored(\"Low chance, need to modify your CV!\", \"red\", attrs=[\"bold\"]))\n",
        "elif similarity >= 50 and similarity < 70:\n",
        "    print(colored(\"Good chance but you can improve further!\", \"yellow\", attrs=[\"bold\"]))\n",
        "else:\n",
        "    print(colored(\"Excellent! You can submit your CV.\", \"green\", attrs=[\"bold\"]))"
      ],
      "metadata": {
        "id": "nv6e6g-f0HzK"
      },
      "execution_count": null,
      "outputs": []
    }
  ]
}